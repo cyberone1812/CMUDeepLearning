{
  "nbformat": 4,
  "nbformat_minor": 0,
  "metadata": {
    "colab": {
      "provenance": [],
      "gpuType": "T4",
      "toc_visible": true,
      "include_colab_link": true
    },
    "kernelspec": {
      "name": "python3",
      "display_name": "Python 3"
    },
    "language_info": {
      "name": "python"
    },
    "accelerator": "GPU"
  },
  "cells": [
    {
      "cell_type": "markdown",
      "metadata": {
        "id": "view-in-github",
        "colab_type": "text"
      },
      "source": [
        "<a href=\"https://colab.research.google.com/github/cyberone1812/CMUDeepLearning/blob/main/cmu_dele_week_2_ohours_12_5.ipynb\" target=\"_parent\"><img src=\"https://colab.research.google.com/assets/colab-badge.svg\" alt=\"Open In Colab\"/></a>"
      ]
    },
    {
      "cell_type": "markdown",
      "source": [
        "### Office Hours II\n",
        "\n",
        "- Review `numpy` and `pytorch`\n",
        "- Perceptron with `numpy` and `pytorch`\n",
        "- Training a basic network with `pytorch`"
      ],
      "metadata": {
        "id": "YoPWr8laCx8Z"
      }
    },
    {
      "cell_type": "markdown",
      "source": [
        "[Playground](https://playground.tensorflow.org/#activation=tanh&batchSize=10&dataset=circle&regDataset=reg-plane&learningRate=0.03&regularizationRate=0&noise=0&networkShape=1&seed=0.72721&showTestData=false&discretize=false&percTrainData=50&x=true&y=true&xTimesY=false&xSquared=false&ySquared=false&cosX=false&sinX=false&cosY=false&sinY=false&collectStats=false&problem=classification&initZero=false&hideText=false)"
      ],
      "metadata": {
        "id": "VCHjo029DWc5"
      }
    },
    {
      "cell_type": "code",
      "source": [
        "import numpy as np\n",
        "import matplotlib.pyplot as plt\n",
        "import torch"
      ],
      "metadata": {
        "id": "Ts6H85CiF_L6"
      },
      "execution_count": null,
      "outputs": []
    },
    {
      "cell_type": "markdown",
      "source": [
        "### Derivatives and Gradients for Optimization\n",
        "\n",
        "Consider:\n",
        "\n",
        "$$f(x) = x^2$$"
      ],
      "metadata": {
        "id": "rNv4ml83-XPl"
      }
    },
    {
      "cell_type": "code",
      "source": [
        "def f(x): return x**2\n",
        "x = np.linspace(-2, 2, 100)\n",
        "plt.plot(x, f(x))"
      ],
      "metadata": {
        "id": "Ppa9l0o5-i_5",
        "colab": {
          "base_uri": "https://localhost:8080/",
          "height": 447
        },
        "outputId": "a5ff13a0-d6eb-4df0-a3d2-19afcb0b95af"
      },
      "execution_count": null,
      "outputs": [
        {
          "output_type": "execute_result",
          "data": {
            "text/plain": [
              "[<matplotlib.lines.Line2D at 0x7ad1ed594e80>]"
            ]
          },
          "metadata": {},
          "execution_count": 2
        },
        {
          "output_type": "display_data",
          "data": {
            "text/plain": [
              "<Figure size 640x480 with 1 Axes>"
            ],
            "image/png": "[encoded data removed]"
          },
          "metadata": {}
        }
      ]
    },
    {
      "cell_type": "code",
      "source": [],
      "metadata": {
        "id": "NRpNohA5-i4F"
      },
      "execution_count": null,
      "outputs": []
    },
    {
      "cell_type": "markdown",
      "source": [
        "Consider:\n",
        "\n",
        "$$f(x, y) = x^2 + y^2$$\n",
        "\n",
        "$$f_{x} = 2x$$\n",
        "\n",
        "$$f_{y} = 2y$$\n",
        "\n",
        "$$< 2x, 2y >$$"
      ],
      "metadata": {
        "id": "sbrj7lg5-i0t"
      }
    },
    {
      "cell_type": "code",
      "source": [],
      "metadata": {
        "id": "6Rog10Iy_qwM"
      },
      "execution_count": null,
      "outputs": []
    },
    {
      "cell_type": "code",
      "source": [],
      "metadata": {
        "id": "cBQInJYL_qHz"
      },
      "execution_count": null,
      "outputs": []
    },
    {
      "cell_type": "code",
      "source": [
        "ax = plt.axes(projection = '3d')"
      ],
      "metadata": {
        "id": "AVxulHhi-iww"
      },
      "execution_count": null,
      "outputs": []
    },
    {
      "cell_type": "code",
      "source": [
        "x = np.linspace(0, 3, 100)\n",
        "y = 3*x + np.random.normal(size = len(x))\n",
        "plt.scatter(x, y)"
      ],
      "metadata": {
        "id": "OmKGGa27-irN"
      },
      "execution_count": null,
      "outputs": []
    },
    {
      "cell_type": "code",
      "source": [],
      "metadata": {
        "id": "al1mBhQo_FVT"
      },
      "execution_count": null,
      "outputs": []
    },
    {
      "cell_type": "code",
      "source": [],
      "metadata": {
        "id": "wAK-ds5Y_FTF"
      },
      "execution_count": null,
      "outputs": []
    },
    {
      "cell_type": "code",
      "source": [],
      "metadata": {
        "id": "eg7d1nzg_FQt"
      },
      "execution_count": null,
      "outputs": []
    },
    {
      "cell_type": "code",
      "source": [],
      "metadata": {
        "id": "FfsTSo7M_FPH"
      },
      "execution_count": null,
      "outputs": []
    },
    {
      "cell_type": "code",
      "source": [],
      "metadata": {
        "id": "Fg09_9Yp_FMK"
      },
      "execution_count": null,
      "outputs": []
    },
    {
      "cell_type": "markdown",
      "source": [
        "Consider:\n",
        "\n",
        "$$f(\\beta_0, \\beta_1) = \\frac{1}{n}\\sum_{i = 1}^n (\\beta_0 + \\beta_1*x_i - y_i)^2$$"
      ],
      "metadata": {
        "id": "yzFyuvv9_GL_"
      }
    },
    {
      "cell_type": "code",
      "source": [],
      "metadata": {
        "id": "YN65PSrF_bV-"
      },
      "execution_count": null,
      "outputs": []
    },
    {
      "cell_type": "code",
      "source": [],
      "metadata": {
        "id": "6oFyIMUz_bKM"
      },
      "execution_count": null,
      "outputs": []
    },
    {
      "cell_type": "code",
      "source": [],
      "metadata": {
        "id": "CAeZ92eY_bGq"
      },
      "execution_count": null,
      "outputs": []
    },
    {
      "cell_type": "code",
      "source": [],
      "metadata": {
        "id": "JdyHgKrz_bEt"
      },
      "execution_count": null,
      "outputs": []
    },
    {
      "cell_type": "code",
      "source": [],
      "metadata": {
        "id": "REQ12SDu_bCR"
      },
      "execution_count": null,
      "outputs": []
    },
    {
      "cell_type": "code",
      "source": [],
      "metadata": {
        "id": "V8gfvKCu_a_y"
      },
      "execution_count": null,
      "outputs": []
    },
    {
      "cell_type": "code",
      "source": [],
      "metadata": {
        "id": "zLtu8tYp_a91"
      },
      "execution_count": null,
      "outputs": []
    },
    {
      "cell_type": "code",
      "source": [],
      "metadata": {
        "id": "slG5Vwy8_a6m"
      },
      "execution_count": null,
      "outputs": []
    },
    {
      "cell_type": "markdown",
      "source": [
        "#### Perceptron\n",
        "\n",
        "$$\n",
        "{\\displaystyle f(\\mathbf {x} )={\\begin{cases}1&{\\text{if }}\\ \\mathbf {w} \\cdot \\mathbf {x} +b>0,\\\\0&{\\text{otherwise}}\\end{cases}}}$$"
      ],
      "metadata": {
        "id": "LEunaAxADBfh"
      }
    },
    {
      "cell_type": "code",
      "source": [
        "from sklearn.datasets import make_classification, make_blobs"
      ],
      "metadata": {
        "id": "pXlHO474F-Y5"
      },
      "execution_count": null,
      "outputs": []
    },
    {
      "cell_type": "code",
      "source": [
        "### make a basic classification dataset\n",
        "X, y = make_blobs(centers = 2, center_box=[-3, 3], random_state = 22)"
      ],
      "metadata": {
        "id": "ggge54ZSDT54"
      },
      "execution_count": null,
      "outputs": []
    },
    {
      "cell_type": "code",
      "source": [
        "### Visualize it\n",
        "plt.scatter(X[:, 0], X[:, 1], c = y)"
      ],
      "metadata": {
        "id": "Ke-AmxxXEkJ5"
      },
      "execution_count": null,
      "outputs": []
    },
    {
      "cell_type": "code",
      "source": [
        "X[:5]"
      ],
      "metadata": {
        "id": "HNWiomCeeNci"
      },
      "execution_count": null,
      "outputs": []
    },
    {
      "cell_type": "code",
      "source": [
        "X_train = X[:75]\n",
        "X_test = X[75:]\n",
        "y_train = y[:75]\n",
        "y_test = y[75:]"
      ],
      "metadata": {
        "id": "KzXZyIxDNK0B"
      },
      "execution_count": null,
      "outputs": []
    },
    {
      "cell_type": "code",
      "source": [
        "### Add Bias Term\n",
        "ones = np.ones(shape = (75, 1))\n",
        "Xb_train = np.concatenate((ones, X_train), axis = 1)\n",
        "ones = np.ones(shape = (25, 1))\n",
        "Xb_test = np.concatenate((ones, X_test), axis = 1)\n",
        "Xb_train.shape, Xb_test.shape"
      ],
      "metadata": {
        "id": "W40KmoVbEmt9"
      },
      "execution_count": null,
      "outputs": []
    },
    {
      "cell_type": "code",
      "source": [
        "Xb_train[:5]"
      ],
      "metadata": {
        "id": "STNsg_PnN-5y"
      },
      "execution_count": null,
      "outputs": []
    },
    {
      "cell_type": "code",
      "source": [
        "### initial weights\n",
        "w = np.array([0, 1, 2])"
      ],
      "metadata": {
        "id": "OsTlndSwDhLQ"
      },
      "execution_count": null,
      "outputs": []
    },
    {
      "cell_type": "code",
      "source": [
        "### Find weighted sum\n",
        "Xb_train@w"
      ],
      "metadata": {
        "id": "dBh9HIRrEqf5"
      },
      "execution_count": null,
      "outputs": []
    },
    {
      "cell_type": "code",
      "source": [
        "### Make predictions\n",
        "yhat = np.where(Xb_train@w > 0, 1, 0)"
      ],
      "metadata": {
        "id": "uX_f3j0ZEvvc"
      },
      "execution_count": null,
      "outputs": []
    },
    {
      "cell_type": "code",
      "source": [
        "yhat"
      ],
      "metadata": {
        "id": "KS9tlav6OWuP"
      },
      "execution_count": null,
      "outputs": []
    },
    {
      "cell_type": "code",
      "source": [
        "y_train"
      ],
      "metadata": {
        "id": "6G5czj_VOYmz"
      },
      "execution_count": null,
      "outputs": []
    },
    {
      "cell_type": "code",
      "source": [
        "### Evaluate predictions\n",
        "sum(y_train == yhat)/len(y_train)"
      ],
      "metadata": {
        "id": "zm9FOr1JEzTj"
      },
      "execution_count": null,
      "outputs": []
    },
    {
      "cell_type": "code",
      "source": [
        "### actual y\n",
        "y_train"
      ],
      "metadata": {
        "id": "ECZrDVqqdUFK"
      },
      "execution_count": null,
      "outputs": []
    },
    {
      "cell_type": "code",
      "source": [
        "### predicted y\n",
        "yhat"
      ],
      "metadata": {
        "id": "kUlY5SDWdygo"
      },
      "execution_count": null,
      "outputs": []
    },
    {
      "cell_type": "markdown",
      "source": [
        "#### Improving the Model"
      ],
      "metadata": {
        "id": "5sfzkeLAE1x0"
      }
    },
    {
      "cell_type": "markdown",
      "source": [
        "$$w_{i + 1} = w_i - lr*(y - yhat)*-x$$"
      ],
      "metadata": {
        "id": "HhaN8lWEDjqH"
      }
    },
    {
      "cell_type": "code",
      "source": [
        "### update the weights\n",
        "w = w - 0.1*(y_train - yhat)@-Xb_train"
      ],
      "metadata": {
        "id": "KRqdwgFSDv1X"
      },
      "execution_count": null,
      "outputs": []
    },
    {
      "cell_type": "code",
      "source": [
        "w"
      ],
      "metadata": {
        "id": "5kcpHleBLxI7"
      },
      "execution_count": null,
      "outputs": []
    },
    {
      "cell_type": "code",
      "source": [
        "sum(np.where(Xb_train@w > 0, 1, 0) == y_train)/len(y_train)"
      ],
      "metadata": {
        "id": "ut1CDR5oL01G"
      },
      "execution_count": null,
      "outputs": []
    },
    {
      "cell_type": "code",
      "source": [
        "### do this repeatedly\n",
        "w = np.array([0, 1, 2])\n",
        "lr = 0.01\n",
        "for epoch in range(100):\n",
        "  weighted_sum = Xb_train@w\n",
        "  yhat = np.where(weighted_sum > 0, 1, 0)\n",
        "  w = w - lr*(y_train - yhat)@-Xb_train\n",
        "  print(f'Accuracy {sum(yhat == y_train)/len(y_train): .2f} in epoch: {epoch}')\n",
        "  test_preds = np.where(Xb_test@w > 0, 1, 0)\n",
        "  print(f'Test Acc: {sum(y_test == test_preds)/len(y_test)}')\n",
        "  #weighted sum\n"
      ],
      "metadata": {
        "id": "faGtHjsmE8XO"
      },
      "execution_count": null,
      "outputs": []
    },
    {
      "cell_type": "code",
      "source": [
        "### examine performance\n",
        "yhat"
      ],
      "metadata": {
        "id": "VedSlxKME-Pn"
      },
      "execution_count": null,
      "outputs": []
    },
    {
      "cell_type": "code",
      "source": [
        "w"
      ],
      "metadata": {
        "id": "RmXp68rpMq-N"
      },
      "execution_count": null,
      "outputs": []
    },
    {
      "cell_type": "markdown",
      "source": [
        "### Pytorch and Regression"
      ],
      "metadata": {
        "id": "vrsF9ir9FnoV"
      }
    },
    {
      "cell_type": "code",
      "source": [
        "x = np.random.random_integers(low = 1, high = 30, size = 15)\n",
        "y = 3*x + 4 + np.random.normal(size = len(x), scale = 3)"
      ],
      "metadata": {
        "id": "B2y6qhOdF08u"
      },
      "execution_count": null,
      "outputs": []
    },
    {
      "cell_type": "code",
      "source": [
        "plt.scatter(x, y)"
      ],
      "metadata": {
        "id": "l9rH94nqGFaG"
      },
      "execution_count": null,
      "outputs": []
    },
    {
      "cell_type": "code",
      "source": [
        "xt = torch.tensor(x)\n",
        "yt = torch.tensor(y)"
      ],
      "metadata": {
        "id": "xb-avZOSGGSF"
      },
      "execution_count": null,
      "outputs": []
    },
    {
      "cell_type": "code",
      "source": [
        "xt"
      ],
      "metadata": {
        "id": "-EXk6wjCGZMK"
      },
      "execution_count": null,
      "outputs": []
    },
    {
      "cell_type": "code",
      "source": [
        "yt"
      ],
      "metadata": {
        "id": "C8CtC-mEGZ1D"
      },
      "execution_count": null,
      "outputs": []
    },
    {
      "cell_type": "code",
      "source": [
        "### define the model\n",
        "def model(x, w, b):\n",
        "  return x*w + b"
      ],
      "metadata": {
        "id": "FeR-ghVIGaon"
      },
      "execution_count": null,
      "outputs": []
    },
    {
      "cell_type": "code",
      "source": [
        "### define our loss function -- mean squared error\n",
        "def loss_fn(y, yhat):\n",
        "  sq_diff = (y - yhat)**2\n",
        "  return sq_diff.mean()"
      ],
      "metadata": {
        "id": "iGEVXWkEGjic"
      },
      "execution_count": null,
      "outputs": []
    },
    {
      "cell_type": "code",
      "source": [
        "### parameters\n",
        "w = torch.ones(())\n",
        "b = torch.zeros(())"
      ],
      "metadata": {
        "id": "OVmtO_0fGvYW"
      },
      "execution_count": null,
      "outputs": []
    },
    {
      "cell_type": "code",
      "source": [
        "### yhat\n",
        "yhat = model(xt, w, b)"
      ],
      "metadata": {
        "id": "ThNIEclIG0Sq"
      },
      "execution_count": null,
      "outputs": []
    },
    {
      "cell_type": "code",
      "source": [
        "yhat"
      ],
      "metadata": {
        "id": "n1TR5UieG3Eb"
      },
      "execution_count": null,
      "outputs": []
    },
    {
      "cell_type": "code",
      "source": [
        "## compute loss\n",
        "loss = loss_fn(yt, yhat)"
      ],
      "metadata": {
        "id": "HBGMjKP1G35Z"
      },
      "execution_count": null,
      "outputs": []
    },
    {
      "cell_type": "code",
      "source": [
        "loss"
      ],
      "metadata": {
        "id": "KXlnhSqPG8j8"
      },
      "execution_count": null,
      "outputs": []
    },
    {
      "cell_type": "markdown",
      "source": [
        "#### Updating Weights"
      ],
      "metadata": {
        "id": "sKDz2jInWnCs"
      }
    },
    {
      "cell_type": "code",
      "source": [
        "#derivative of loss\n",
        "def dloss(yhat, y):\n",
        "  diff_d = 2*(yhat - y)/yhat.size(0)\n",
        "  return diff_d"
      ],
      "metadata": {
        "id": "-lLC_EmtG86Q"
      },
      "execution_count": null,
      "outputs": []
    },
    {
      "cell_type": "code",
      "source": [
        "#derivative of model w/respect to w\n",
        "def dmodel_dw(x, w, b):\n",
        "  return x"
      ],
      "metadata": {
        "id": "FtiPXaFyHWcw"
      },
      "execution_count": null,
      "outputs": []
    },
    {
      "cell_type": "code",
      "source": [
        "#d dbias\n",
        "def dmodel_db(x, w, b):\n",
        "  return 1.0"
      ],
      "metadata": {
        "id": "xUMqkG5JHpcx"
      },
      "execution_count": null,
      "outputs": []
    },
    {
      "cell_type": "code",
      "source": [
        "#gradient function\n",
        "def grad_func(y, x, yhat, w, b):\n",
        "  dloss_m = dloss(yhat, y)\n",
        "  dloss_dw = dloss_m*dmodel_dw(x, w, b)\n",
        "  dloss_db = dloss_m*dmodel_db(x, w, b)\n",
        "  return torch.stack([dloss_dw.sum(), dloss_db.sum()])"
      ],
      "metadata": {
        "id": "0uBxCW8uHsyB"
      },
      "execution_count": null,
      "outputs": []
    },
    {
      "cell_type": "code",
      "source": [
        "#training loop\n",
        "def training_loop(n_epochs, lr, params, x, y):\n",
        "  for epoch in range(1, n_epochs + 1):\n",
        "    w, b = params\n",
        "    yhat = model(x, w, b)\n",
        "    loss = loss_fn(y, yhat)\n",
        "    grad = grad_func(y, x, yhat, w, b)\n",
        "    params = params - lr*grad\n",
        "    if epoch % 100 == 0:\n",
        "      print(f'Epoch {epoch}, Loss {loss}')\n",
        "  return params"
      ],
      "metadata": {
        "id": "sVdoMrxCJJ2m"
      },
      "execution_count": null,
      "outputs": []
    },
    {
      "cell_type": "code",
      "source": [
        "#test it\n",
        "training_loop(100, .001, torch.tensor([0, 0]), xt, yt)"
      ],
      "metadata": {
        "id": "N6XXZuIBJn_c"
      },
      "execution_count": null,
      "outputs": []
    },
    {
      "cell_type": "code",
      "source": [
        "#scale inputs\n",
        "plt.scatter(xt, yt)\n",
        "plt.plot(xt, 3.2339*x + .1925, color = 'red')"
      ],
      "metadata": {
        "id": "uU0ghl3mThAA"
      },
      "execution_count": null,
      "outputs": []
    },
    {
      "cell_type": "code",
      "source": [],
      "metadata": {
        "id": "POtEdFxrKNhd"
      },
      "execution_count": null,
      "outputs": []
    },
    {
      "cell_type": "code",
      "source": [],
      "metadata": {
        "id": "ictt2PG_MFis"
      },
      "execution_count": null,
      "outputs": []
    },
    {
      "cell_type": "markdown",
      "source": [
        "#### Using `pytorch` for gradient computation"
      ],
      "metadata": {
        "id": "Ixu_Z_UtNt-C"
      }
    },
    {
      "cell_type": "code",
      "source": [
        "#define the model\n",
        "def model(x, w, b):\n",
        "  return x*w + b"
      ],
      "metadata": {
        "id": "7zw4A_0MN35M"
      },
      "execution_count": null,
      "outputs": []
    },
    {
      "cell_type": "code",
      "source": [
        "#loss function\n",
        "def loss_fn(y, yhat):\n",
        "  diff_sq = (y - yhat)**2\n",
        "  return diff_sq.sum()"
      ],
      "metadata": {
        "id": "Nf6yxvziOrbP"
      },
      "execution_count": null,
      "outputs": []
    },
    {
      "cell_type": "code",
      "source": [
        "#parameters\n",
        "params = torch.tensor([1.0, 0.0], requires_grad = True)"
      ],
      "metadata": {
        "id": "i01et8qzOzDd"
      },
      "execution_count": null,
      "outputs": []
    },
    {
      "cell_type": "code",
      "source": [
        "params"
      ],
      "metadata": {
        "id": "clDsXkjSonD1"
      },
      "execution_count": null,
      "outputs": []
    },
    {
      "cell_type": "code",
      "source": [
        "#loss\n",
        "loss = loss_fn(yt, model(xt, *params))"
      ],
      "metadata": {
        "id": "NXlbkS2MO5WK"
      },
      "execution_count": null,
      "outputs": []
    },
    {
      "cell_type": "code",
      "source": [
        "loss"
      ],
      "metadata": {
        "id": "OuXpo-DdPE12"
      },
      "execution_count": null,
      "outputs": []
    },
    {
      "cell_type": "code",
      "source": [
        "#pytorch gradient\n",
        "params.grad is None"
      ],
      "metadata": {
        "id": "3KMo80ExPLHR"
      },
      "execution_count": null,
      "outputs": []
    },
    {
      "cell_type": "code",
      "source": [
        "#backward method\n",
        "loss.backward()"
      ],
      "metadata": {
        "id": "CtfNwkR7PUQ3"
      },
      "execution_count": null,
      "outputs": []
    },
    {
      "cell_type": "code",
      "source": [
        "#gradient\n",
        "params.grad"
      ],
      "metadata": {
        "id": "EQTv1D0XPeBg"
      },
      "execution_count": null,
      "outputs": []
    },
    {
      "cell_type": "code",
      "source": [
        "### GRADIENTS ACCUMULATE!!!\n",
        "if params.grad is not None:\n",
        "  params.grad.zero_()"
      ],
      "metadata": {
        "id": "rn8faq3_PgQO"
      },
      "execution_count": null,
      "outputs": []
    },
    {
      "cell_type": "code",
      "source": [
        "#training loop\n",
        "def training_loop(n_epochs, lr, params, x, y):\n",
        "  for epoch in range(1, n_epochs + 1):\n",
        "    if params.grad is not None:\n",
        "      params.grad.zero_()\n",
        "    yhat = model(x, *params)\n",
        "    loss = loss_fn(y, yhat)\n",
        "    loss.backward()\n",
        "    with torch.no_grad():\n",
        "      params -= lr * params.grad\n",
        "    if epoch % 100 == 0:\n",
        "      print(f'Epoch {epoch}, Loss {loss}')\n",
        "  return params"
      ],
      "metadata": {
        "id": "T7oW7-NJP-XN"
      },
      "execution_count": null,
      "outputs": []
    },
    {
      "cell_type": "code",
      "source": [
        "#test it\n",
        "training_loop(5000, 1e-4, torch.tensor([1.0, 0.0], requires_grad = True), xt, yt)"
      ],
      "metadata": {
        "id": "CzCcgk_OQnwQ"
      },
      "execution_count": null,
      "outputs": []
    },
    {
      "cell_type": "code",
      "source": [
        "plt.scatter(xt, yt)\n",
        "plt.plot(xt, 3.2*xt + .6691, color = 'red')"
      ],
      "metadata": {
        "id": "u6H36hmTQzPO"
      },
      "execution_count": null,
      "outputs": []
    },
    {
      "cell_type": "markdown",
      "source": [
        "### `nn.Sequential` and `nn.Linear`"
      ],
      "metadata": {
        "id": "1sjD_jyACM2K"
      }
    },
    {
      "cell_type": "code",
      "source": [
        "import torch.nn as nn\n",
        "import torch.optim as optim"
      ],
      "metadata": {
        "id": "L2emSqYlTgI0"
      },
      "execution_count": null,
      "outputs": []
    },
    {
      "cell_type": "code",
      "source": [
        "#the linear layer\n",
        "linear_1 = nn.Linear(in_features=1, out_features=1 )"
      ],
      "metadata": {
        "id": "w-Ilvsr6Q4EY"
      },
      "execution_count": null,
      "outputs": []
    },
    {
      "cell_type": "code",
      "source": [
        "#parameters\n",
        "list(linear_1.parameters())"
      ],
      "metadata": {
        "id": "Cmk16io8CX02"
      },
      "execution_count": null,
      "outputs": []
    },
    {
      "cell_type": "code",
      "source": [
        "xt = torch.tensor(xt, dtype = torch.float32)"
      ],
      "metadata": {
        "id": "5rippHn7UNXU"
      },
      "execution_count": null,
      "outputs": []
    },
    {
      "cell_type": "code",
      "source": [
        "linear_1(xt[0].reshape(-1, 1))"
      ],
      "metadata": {
        "id": "m2fI9Ui3T9nV"
      },
      "execution_count": null,
      "outputs": []
    },
    {
      "cell_type": "code",
      "source": [
        "linear_1(xt.unsqueeze(1))"
      ],
      "metadata": {
        "id": "aYnqmHAAWSNG"
      },
      "execution_count": null,
      "outputs": []
    },
    {
      "cell_type": "code",
      "source": [
        "#sample data\n",
        "loss_fn = nn.MSELoss()"
      ],
      "metadata": {
        "id": "VpVlcZ0NCYvh"
      },
      "execution_count": null,
      "outputs": []
    },
    {
      "cell_type": "code",
      "source": [
        "yt = torch.tensor(yt, dtype = torch.float32)"
      ],
      "metadata": {
        "id": "9NOEBflMY5h7"
      },
      "execution_count": null,
      "outputs": []
    },
    {
      "cell_type": "code",
      "source": [
        "loss = loss_fn(yt[0], linear_1(xt[0].reshape(-1, 1)))"
      ],
      "metadata": {
        "id": "aVHm2UPgCbD3"
      },
      "execution_count": null,
      "outputs": []
    },
    {
      "cell_type": "code",
      "source": [
        "optimizer = optim.SGD(linear_1.parameters(), lr = 0.1)"
      ],
      "metadata": {
        "id": "0s9IxFZyU_hu"
      },
      "execution_count": null,
      "outputs": []
    },
    {
      "cell_type": "code",
      "source": [
        "optimizer.zero_grad()"
      ],
      "metadata": {
        "id": "I9Gk6DdZVGK5"
      },
      "execution_count": null,
      "outputs": []
    },
    {
      "cell_type": "code",
      "source": [
        "loss.backward()"
      ],
      "metadata": {
        "id": "7t4qEwrcVQ3j"
      },
      "execution_count": null,
      "outputs": []
    },
    {
      "cell_type": "code",
      "source": [
        "list(linear_1.parameters()) #original parameters"
      ],
      "metadata": {
        "id": "xRqe_T9kVXGT"
      },
      "execution_count": null,
      "outputs": []
    },
    {
      "cell_type": "code",
      "source": [
        "optimizer.step() #update paramters with gradient descent"
      ],
      "metadata": {
        "id": "MCJpuwWGZIHz"
      },
      "execution_count": null,
      "outputs": []
    },
    {
      "cell_type": "code",
      "source": [
        "list(linear_1.parameters()) #updated parameters"
      ],
      "metadata": {
        "id": "vn0bf7bJZNlx"
      },
      "execution_count": null,
      "outputs": []
    },
    {
      "cell_type": "code",
      "source": [],
      "metadata": {
        "id": "nAMdW-9EZPYw"
      },
      "execution_count": null,
      "outputs": []
    }
  ]
}