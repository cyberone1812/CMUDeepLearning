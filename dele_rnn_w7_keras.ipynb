{
  "cells": [
    {
      "cell_type": "markdown",
      "metadata": {
        "id": "view-in-github",
        "colab_type": "text"
      },
      "source": [
        "<a href=\"https://colab.research.google.com/github/cyberone1812/CMUDeepLearning/blob/main/dele_rnn_w7_keras.ipynb\" target=\"_parent\"><img src=\"https://colab.research.google.com/assets/colab-badge.svg\" alt=\"Open In Colab\"/></a>"
      ]
    },
    {
      "cell_type": "markdown",
      "metadata": {
        "id": "9URkQT0nWu_w"
      },
      "source": [
        "## The Recurrent Node\n",
        "\n",
        "Compared to a convential neuron, our recurrent neuron will take in an output from the layer itself.  \n",
        "\n",
        "<center>\n",
        "   <img src = https://upload.wikimedia.org/wikipedia/commons/thumb/b/b5/Recurrent_neural_network_unfold.svg/440px-Recurrent_neural_network_unfold.svg.png />\n",
        "</center>\n",
        "\n"
      ]
    },
    {
      "cell_type": "markdown",
      "metadata": {
        "id": "zJJ3rLQEWu_x"
      },
      "source": [
        "### A Basic Sequence of Stock Prices\n",
        "\n"
      ]
    },
    {
      "cell_type": "code",
      "execution_count": null,
      "metadata": {
        "id": "Cfvwr0sxWu_x"
      },
      "outputs": [],
      "source": [
        "import pandas_datareader as pdr\n",
        "from sklearn.model_selection import train_test_split\n",
        "import numpy as np\n",
        "import pandas as pd\n",
        "import matplotlib.pyplot as plt"
      ]
    },
    {
      "cell_type": "code",
      "execution_count": null,
      "metadata": {
        "id": "IvU_V1IgWu_y"
      },
      "outputs": [],
      "source": [
        "apple = pd.read_csv('AAPL.csv', index_col = 0)"
      ]
    },
    {
      "cell_type": "code",
      "execution_count": null,
      "metadata": {
        "colab": {
          "base_uri": "https://localhost:8080/",
          "height": 237
        },
        "id": "2wa527r3Wu_y",
        "outputId": "f2ff7b14-b3ea-4f53-ae54-67e3dd612312"
      },
      "outputs": [
        {
          "output_type": "execute_result",
          "data": {
            "text/plain": [
              "                  Open        High         Low       Close   Adj Close  \\\n",
              "Date                                                                     \n",
              "2017-04-06  144.289993  144.520004  143.449997  143.660004  139.301605   \n",
              "2017-04-07  143.729996  144.179993  143.270004  143.339996  138.991318   \n",
              "2017-04-10  143.600006  143.880005  142.899994  143.169998  138.826462   \n",
              "2017-04-11  142.940002  143.350006  140.059998  141.630005  137.333206   \n",
              "2017-04-12  141.600006  142.149994  141.009995  141.800003  137.498032   \n",
              "\n",
              "              Volume  \n",
              "Date                  \n",
              "2017-04-06  21149000  \n",
              "2017-04-07  16672200  \n",
              "2017-04-10  18933400  \n",
              "2017-04-11  30379400  \n",
              "2017-04-12  20350000  "
            ],
            "text/html": [
              "\n",
              "  <div id=\"df-efee4706-5a98-4b8d-bb4f-d788358fdc22\" class=\"colab-df-container\">\n",
              "    <div>\n",
              "<style scoped>\n",
              "    .dataframe tbody tr th:only-of-type {\n",
              "        vertical-align: middle;\n",
              "    }\n",
              "\n",
              "    .dataframe tbody tr th {\n",
              "        vertical-align: top;\n",
              "    }\n",
              "\n",
              "    .dataframe thead th {\n",
              "        text-align: right;\n",
              "    }\n",
              "</style>\n",
              "<table border=\"1\" class=\"dataframe\">\n",
              "  <thead>\n",
              "    <tr style=\"text-align: right;\">\n",
              "      <th></th>\n",
              "      <th>Open</th>\n",
              "      <th>High</th>\n",
              "      <th>Low</th>\n",
              "      <th>Close</th>\n",
              "      <th>Adj Close</th>\n",
              "      <th>Volume</th>\n",
              "    </tr>\n",
              "    <tr>\n",
              "      <th>Date</th>\n",
              "      <th></th>\n",
              "      <th></th>\n",
              "      <th></th>\n",
              "      <th></th>\n",
              "      <th></th>\n",
              "      <th></th>\n",
              "    </tr>\n",
              "  </thead>\n",
              "  <tbody>\n",
              "    <tr>\n",
              "      <th>2017-04-06</th>\n",
              "      <td>144.289993</td>\n",
              "      <td>144.520004</td>\n",
              "      <td>143.449997</td>\n",
              "      <td>143.660004</td>\n",
              "      <td>139.301605</td>\n",
              "      <td>21149000</td>\n",
              "    </tr>\n",
              "    <tr>\n",
              "      <th>2017-04-07</th>\n",
              "      <td>143.729996</td>\n",
              "      <td>144.179993</td>\n",
              "      <td>143.270004</td>\n",
              "      <td>143.339996</td>\n",
              "      <td>138.991318</td>\n",
              "      <td>16672200</td>\n",
              "    </tr>\n",
              "    <tr>\n",
              "      <th>2017-04-10</th>\n",
              "      <td>143.600006</td>\n",
              "      <td>143.880005</td>\n",
              "      <td>142.899994</td>\n",
              "      <td>143.169998</td>\n",
              "      <td>138.826462</td>\n",
              "      <td>18933400</td>\n",
              "    </tr>\n",
              "    <tr>\n",
              "      <th>2017-04-11</th>\n",
              "      <td>142.940002</td>\n",
              "      <td>143.350006</td>\n",
              "      <td>140.059998</td>\n",
              "      <td>141.630005</td>\n",
              "      <td>137.333206</td>\n",
              "      <td>30379400</td>\n",
              "    </tr>\n",
              "    <tr>\n",
              "      <th>2017-04-12</th>\n",
              "      <td>141.600006</td>\n",
              "      <td>142.149994</td>\n",
              "      <td>141.009995</td>\n",
              "      <td>141.800003</td>\n",
              "      <td>137.498032</td>\n",
              "      <td>20350000</td>\n",
              "    </tr>\n",
              "  </tbody>\n",
              "</table>\n",
              "</div>\n",
              "    <div class=\"colab-df-buttons\">\n",
              "\n",
              "  <div class=\"colab-df-container\">\n",
              "    <button class=\"colab-df-convert\" onclick=\"convertToInteractive('df-efee4706-5a98-4b8d-bb4f-d788358fdc22')\"\n",
              "            title=\"Convert this dataframe to an interactive table.\"\n",
              "            style=\"display:none;\">\n",
              "\n",
              "  <svg xmlns=\"http://www.w3.org/2000/svg\" height=\"24px\" viewBox=\"0 -960 960 960\">\n",
              "    <path d=\"M120-120v-720h720v720H120Zm60-500h600v-160H180v160Zm220 220h160v-160H400v160Zm0 220h160v-160H400v160ZM180-400h160v-160H180v160Zm440 0h160v-160H620v160ZM180-180h160v-160H180v160Zm440 0h160v-160H620v160Z\"/>\n",
              "  </svg>\n",
              "    </button>\n",
              "\n",
              "  <style>\n",
              "    .colab-df-container {\n",
              "      display:flex;\n",
              "      gap: 12px;\n",
              "    }\n",
              "\n",
              "    .colab-df-convert {\n",
              "      background-color: #E8F0FE;\n",
              "      border: none;\n",
              "      border-radius: 50%;\n",
              "      cursor: pointer;\n",
              "      display: none;\n",
              "      fill: #1967D2;\n",
              "      height: 32px;\n",
              "      padding: 0 0 0 0;\n",
              "      width: 32px;\n",
              "    }\n",
              "\n",
              "    .colab-df-convert:hover {\n",
              "      background-color: #E2EBFA;\n",
              "      box-shadow: 0px 1px 2px rgba(60, 64, 67, 0.3), 0px 1px 3px 1px rgba(60, 64, 67, 0.15);\n",
              "      fill: #174EA6;\n",
              "    }\n",
              "\n",
              "    .colab-df-buttons div {\n",
              "      margin-bottom: 4px;\n",
              "    }\n",
              "\n",
              "    [theme=dark] .colab-df-convert {\n",
              "      background-color: #3B4455;\n",
              "      fill: #D2E3FC;\n",
              "    }\n",
              "\n",
              "    [theme=dark] .colab-df-convert:hover {\n",
              "      background-color: #434B5C;\n",
              "      box-shadow: 0px 1px 3px 1px rgba(0, 0, 0, 0.15);\n",
              "      filter: drop-shadow(0px 1px 2px rgba(0, 0, 0, 0.3));\n",
              "      fill: #FFFFFF;\n",
              "    }\n",
              "  </style>\n",
              "\n",
              "    <script>\n",
              "      const buttonEl =\n",
              "        document.querySelector('#df-efee4706-5a98-4b8d-bb4f-d788358fdc22 button.colab-df-convert');\n",
              "      buttonEl.style.display =\n",
              "        google.colab.kernel.accessAllowed ? 'block' : 'none';\n",
              "\n",
              "      async function convertToInteractive(key) {\n",
              "        const element = document.querySelector('#df-efee4706-5a98-4b8d-bb4f-d788358fdc22');\n",
              "        const dataTable =\n",
              "          await google.colab.kernel.invokeFunction('convertToInteractive',\n",
              "                                                    [key], {});\n",
              "        if (!dataTable) return;\n",
              "\n",
              "        const docLinkHtml = 'Like what you see? Visit the ' +\n",
              "          '<a target=\"_blank\" href=https://colab.research.google.com/notebooks/data_table.ipynb>data table notebook</a>'\n",
              "          + ' to learn more about interactive tables.';\n",
              "        element.innerHTML = '';\n",
              "        dataTable['output_type'] = 'display_data';\n",
              "        await google.colab.output.renderOutput(dataTable, element);\n",
              "        const docLink = document.createElement('div');\n",
              "        docLink.innerHTML = docLinkHtml;\n",
              "        element.appendChild(docLink);\n",
              "      }\n",
              "    </script>\n",
              "  </div>\n",
              "\n",
              "\n",
              "<div id=\"df-41daac3c-5953-4116-9b68-bf60f40d7f89\">\n",
              "  <button class=\"colab-df-quickchart\" onclick=\"quickchart('df-41daac3c-5953-4116-9b68-bf60f40d7f89')\"\n",
              "            title=\"Suggest charts\"\n",
              "            style=\"display:none;\">\n",
              "\n",
              "<svg xmlns=\"http://www.w3.org/2000/svg\" height=\"24px\"viewBox=\"0 0 24 24\"\n",
              "     width=\"24px\">\n",
              "    <g>\n",
              "        <path d=\"M19 3H5c-1.1 0-2 .9-2 2v14c0 1.1.9 2 2 2h14c1.1 0 2-.9 2-2V5c0-1.1-.9-2-2-2zM9 17H7v-7h2v7zm4 0h-2V7h2v10zm4 0h-2v-4h2v4z\"/>\n",
              "    </g>\n",
              "</svg>\n",
              "  </button>\n",
              "\n",
              "<style>\n",
              "  .colab-df-quickchart {\n",
              "      --bg-color: #E8F0FE;\n",
              "      --fill-color: #1967D2;\n",
              "      --hover-bg-color: #E2EBFA;\n",
              "      --hover-fill-color: #174EA6;\n",
              "      --disabled-fill-color: #AAA;\n",
              "      --disabled-bg-color: #DDD;\n",
              "  }\n",
              "\n",
              "  [theme=dark] .colab-df-quickchart {\n",
              "      --bg-color: #3B4455;\n",
              "      --fill-color: #D2E3FC;\n",
              "      --hover-bg-color: #434B5C;\n",
              "      --hover-fill-color: #FFFFFF;\n",
              "      --disabled-bg-color: #3B4455;\n",
              "      --disabled-fill-color: #666;\n",
              "  }\n",
              "\n",
              "  .colab-df-quickchart {\n",
              "    background-color: var(--bg-color);\n",
              "    border: none;\n",
              "    border-radius: 50%;\n",
              "    cursor: pointer;\n",
              "    display: none;\n",
              "    fill: var(--fill-color);\n",
              "    height: 32px;\n",
              "    padding: 0;\n",
              "    width: 32px;\n",
              "  }\n",
              "\n",
              "  .colab-df-quickchart:hover {\n",
              "    background-color: var(--hover-bg-color);\n",
              "    box-shadow: 0 1px 2px rgba(60, 64, 67, 0.3), 0 1px 3px 1px rgba(60, 64, 67, 0.15);\n",
              "    fill: var(--button-hover-fill-color);\n",
              "  }\n",
              "\n",
              "  .colab-df-quickchart-complete:disabled,\n",
              "  .colab-df-quickchart-complete:disabled:hover {\n",
              "    background-color: var(--disabled-bg-color);\n",
              "    fill: var(--disabled-fill-color);\n",
              "    box-shadow: none;\n",
              "  }\n",
              "\n",
              "  .colab-df-spinner {\n",
              "    border: 2px solid var(--fill-color);\n",
              "    border-color: transparent;\n",
              "    border-bottom-color: var(--fill-color);\n",
              "    animation:\n",
              "      spin 1s steps(1) infinite;\n",
              "  }\n",
              "\n",
              "  @keyframes spin {\n",
              "    0% {\n",
              "      border-color: transparent;\n",
              "      border-bottom-color: var(--fill-color);\n",
              "      border-left-color: var(--fill-color);\n",
              "    }\n",
              "    20% {\n",
              "      border-color: transparent;\n",
              "      border-left-color: var(--fill-color);\n",
              "      border-top-color: var(--fill-color);\n",
              "    }\n",
              "    30% {\n",
              "      border-color: transparent;\n",
              "      border-left-color: var(--fill-color);\n",
              "      border-top-color: var(--fill-color);\n",
              "      border-right-color: var(--fill-color);\n",
              "    }\n",
              "    40% {\n",
              "      border-color: transparent;\n",
              "      border-right-color: var(--fill-color);\n",
              "      border-top-color: var(--fill-color);\n",
              "    }\n",
              "    60% {\n",
              "      border-color: transparent;\n",
              "      border-right-color: var(--fill-color);\n",
              "    }\n",
              "    80% {\n",
              "      border-color: transparent;\n",
              "      border-right-color: var(--fill-color);\n",
              "      border-bottom-color: var(--fill-color);\n",
              "    }\n",
              "    90% {\n",
              "      border-color: transparent;\n",
              "      border-bottom-color: var(--fill-color);\n",
              "    }\n",
              "  }\n",
              "</style>\n",
              "\n",
              "  <script>\n",
              "    async function quickchart(key) {\n",
              "      const quickchartButtonEl =\n",
              "        document.querySelector('#' + key + ' button');\n",
              "      quickchartButtonEl.disabled = true;  // To prevent multiple clicks.\n",
              "      quickchartButtonEl.classList.add('colab-df-spinner');\n",
              "      try {\n",
              "        const charts = await google.colab.kernel.invokeFunction(\n",
              "            'suggestCharts', [key], {});\n",
              "      } catch (error) {\n",
              "        console.error('Error during call to suggestCharts:', error);\n",
              "      }\n",
              "      quickchartButtonEl.classList.remove('colab-df-spinner');\n",
              "      quickchartButtonEl.classList.add('colab-df-quickchart-complete');\n",
              "    }\n",
              "    (() => {\n",
              "      let quickchartButtonEl =\n",
              "        document.querySelector('#df-41daac3c-5953-4116-9b68-bf60f40d7f89 button');\n",
              "      quickchartButtonEl.style.display =\n",
              "        google.colab.kernel.accessAllowed ? 'block' : 'none';\n",
              "    })();\n",
              "  </script>\n",
              "</div>\n",
              "    </div>\n",
              "  </div>\n"
            ]
          },
          "metadata": {},
          "execution_count": 234
        }
      ],
      "source": [
        "#take a peek\n",
        "apple.head()"
      ]
    },
    {
      "cell_type": "code",
      "source": [
        "apple.tail()"
      ],
      "metadata": {
        "colab": {
          "base_uri": "https://localhost:8080/",
          "height": 237
        },
        "id": "L9ElCph-9j9R",
        "outputId": "a4ee9d31-64d0-4d6d-f7fa-4d921457cdb7"
      },
      "execution_count": null,
      "outputs": [
        {
          "output_type": "execute_result",
          "data": {
            "text/plain": [
              "                  Open        High         Low       Close   Adj Close  \\\n",
              "Date                                                                     \n",
              "2019-04-01  191.639999  191.679993  188.380005  191.240005  191.240005   \n",
              "2019-04-02  191.089996  194.460007  191.050003  194.020004  194.020004   \n",
              "2019-04-03  193.250000  196.500000  193.149994  195.350006  195.350006   \n",
              "2019-04-04  194.789993  196.369995  193.139999  195.690002  195.690002   \n",
              "2019-04-05  196.449997  197.100006  195.949997  197.000000  197.000000   \n",
              "\n",
              "              Volume  \n",
              "Date                  \n",
              "2019-04-01  27862000  \n",
              "2019-04-02  22765700  \n",
              "2019-04-03  23271800  \n",
              "2019-04-04  19099200  \n",
              "2019-04-05  18526644  "
            ],
            "text/html": [
              "\n",
              "  <div id=\"df-ec98f58e-2d39-4f42-88c6-f11b41d88b65\" class=\"colab-df-container\">\n",
              "    <div>\n",
              "<style scoped>\n",
              "    .dataframe tbody tr th:only-of-type {\n",
              "        vertical-align: middle;\n",
              "    }\n",
              "\n",
              "    .dataframe tbody tr th {\n",
              "        vertical-align: top;\n",
              "    }\n",
              "\n",
              "    .dataframe thead th {\n",
              "        text-align: right;\n",
              "    }\n",
              "</style>\n",
              "<table border=\"1\" class=\"dataframe\">\n",
              "  <thead>\n",
              "    <tr style=\"text-align: right;\">\n",
              "      <th></th>\n",
              "      <th>Open</th>\n",
              "      <th>High</th>\n",
              "      <th>Low</th>\n",
              "      <th>Close</th>\n",
              "      <th>Adj Close</th>\n",
              "      <th>Volume</th>\n",
              "    </tr>\n",
              "    <tr>\n",
              "      <th>Date</th>\n",
              "      <th></th>\n",
              "      <th></th>\n",
              "      <th></th>\n",
              "      <th></th>\n",
              "      <th></th>\n",
              "      <th></th>\n",
              "    </tr>\n",
              "  </thead>\n",
              "  <tbody>\n",
              "    <tr>\n",
              "      <th>2019-04-01</th>\n",
              "      <td>191.639999</td>\n",
              "      <td>191.679993</td>\n",
              "      <td>188.380005</td>\n",
              "      <td>191.240005</td>\n",
              "      <td>191.240005</td>\n",
              "      <td>27862000</td>\n",
              "    </tr>\n",
              "    <tr>\n",
              "      <th>2019-04-02</th>\n",
              "      <td>191.089996</td>\n",
              "      <td>194.460007</td>\n",
              "      <td>191.050003</td>\n",
              "      <td>194.020004</td>\n",
              "      <td>194.020004</td>\n",
              "      <td>22765700</td>\n",
              "    </tr>\n",
              "    <tr>\n",
              "      <th>2019-04-03</th>\n",
              "      <td>193.250000</td>\n",
              "      <td>196.500000</td>\n",
              "      <td>193.149994</td>\n",
              "      <td>195.350006</td>\n",
              "      <td>195.350006</td>\n",
              "      <td>23271800</td>\n",
              "    </tr>\n",
              "    <tr>\n",
              "      <th>2019-04-04</th>\n",
              "      <td>194.789993</td>\n",
              "      <td>196.369995</td>\n",
              "      <td>193.139999</td>\n",
              "      <td>195.690002</td>\n",
              "      <td>195.690002</td>\n",
              "      <td>19099200</td>\n",
              "    </tr>\n",
              "    <tr>\n",
              "      <th>2019-04-05</th>\n",
              "      <td>196.449997</td>\n",
              "      <td>197.100006</td>\n",
              "      <td>195.949997</td>\n",
              "      <td>197.000000</td>\n",
              "      <td>197.000000</td>\n",
              "      <td>18526644</td>\n",
              "    </tr>\n",
              "  </tbody>\n",
              "</table>\n",
              "</div>\n",
              "    <div class=\"colab-df-buttons\">\n",
              "\n",
              "  <div class=\"colab-df-container\">\n",
              "    <button class=\"colab-df-convert\" onclick=\"convertToInteractive('df-ec98f58e-2d39-4f42-88c6-f11b41d88b65')\"\n",
              "            title=\"Convert this dataframe to an interactive table.\"\n",
              "            style=\"display:none;\">\n",
              "\n",
              "  <svg xmlns=\"http://www.w3.org/2000/svg\" height=\"24px\" viewBox=\"0 -960 960 960\">\n",
              "    <path d=\"M120-120v-720h720v720H120Zm60-500h600v-160H180v160Zm220 220h160v-160H400v160Zm0 220h160v-160H400v160ZM180-400h160v-160H180v160Zm440 0h160v-160H620v160ZM180-180h160v-160H180v160Zm440 0h160v-160H620v160Z\"/>\n",
              "  </svg>\n",
              "    </button>\n",
              "\n",
              "  <style>\n",
              "    .colab-df-container {\n",
              "      display:flex;\n",
              "      gap: 12px;\n",
              "    }\n",
              "\n",
              "    .colab-df-convert {\n",
              "      background-color: #E8F0FE;\n",
              "      border: none;\n",
              "      border-radius: 50%;\n",
              "      cursor: pointer;\n",
              "      display: none;\n",
              "      fill: #1967D2;\n",
              "      height: 32px;\n",
              "      padding: 0 0 0 0;\n",
              "      width: 32px;\n",
              "    }\n",
              "\n",
              "    .colab-df-convert:hover {\n",
              "      background-color: #E2EBFA;\n",
              "      box-shadow: 0px 1px 2px rgba(60, 64, 67, 0.3), 0px 1px 3px 1px rgba(60, 64, 67, 0.15);\n",
              "      fill: #174EA6;\n",
              "    }\n",
              "\n",
              "    .colab-df-buttons div {\n",
              "      margin-bottom: 4px;\n",
              "    }\n",
              "\n",
              "    [theme=dark] .colab-df-convert {\n",
              "      background-color: #3B4455;\n",
              "      fill: #D2E3FC;\n",
              "    }\n",
              "\n",
              "    [theme=dark] .colab-df-convert:hover {\n",
              "      background-color: #434B5C;\n",
              "      box-shadow: 0px 1px 3px 1px rgba(0, 0, 0, 0.15);\n",
              "      filter: drop-shadow(0px 1px 2px rgba(0, 0, 0, 0.3));\n",
              "      fill: #FFFFFF;\n",
              "    }\n",
              "  </style>\n",
              "\n",
              "    <script>\n",
              "      const buttonEl =\n",
              "        document.querySelector('#df-ec98f58e-2d39-4f42-88c6-f11b41d88b65 button.colab-df-convert');\n",
              "      buttonEl.style.display =\n",
              "        google.colab.kernel.accessAllowed ? 'block' : 'none';\n",
              "\n",
              "      async function convertToInteractive(key) {\n",
              "        const element = document.querySelector('#df-ec98f58e-2d39-4f42-88c6-f11b41d88b65');\n",
              "        const dataTable =\n",
              "          await google.colab.kernel.invokeFunction('convertToInteractive',\n",
              "                                                    [key], {});\n",
              "        if (!dataTable) return;\n",
              "\n",
              "        const docLinkHtml = 'Like what you see? Visit the ' +\n",
              "          '<a target=\"_blank\" href=https://colab.research.google.com/notebooks/data_table.ipynb>data table notebook</a>'\n",
              "          + ' to learn more about interactive tables.';\n",
              "        element.innerHTML = '';\n",
              "        dataTable['output_type'] = 'display_data';\n",
              "        await google.colab.output.renderOutput(dataTable, element);\n",
              "        const docLink = document.createElement('div');\n",
              "        docLink.innerHTML = docLinkHtml;\n",
              "        element.appendChild(docLink);\n",
              "      }\n",
              "    </script>\n",
              "  </div>\n",
              "\n",
              "\n",
              "<div id=\"df-7b752936-ed5a-4c2f-889b-18720e905e88\">\n",
              "  <button class=\"colab-df-quickchart\" onclick=\"quickchart('df-7b752936-ed5a-4c2f-889b-18720e905e88')\"\n",
              "            title=\"Suggest charts\"\n",
              "            style=\"display:none;\">\n",
              "\n",
              "<svg xmlns=\"http://www.w3.org/2000/svg\" height=\"24px\"viewBox=\"0 0 24 24\"\n",
              "     width=\"24px\">\n",
              "    <g>\n",
              "        <path d=\"M19 3H5c-1.1 0-2 .9-2 2v14c0 1.1.9 2 2 2h14c1.1 0 2-.9 2-2V5c0-1.1-.9-2-2-2zM9 17H7v-7h2v7zm4 0h-2V7h2v10zm4 0h-2v-4h2v4z\"/>\n",
              "    </g>\n",
              "</svg>\n",
              "  </button>\n",
              "\n",
              "<style>\n",
              "  .colab-df-quickchart {\n",
              "      --bg-color: #E8F0FE;\n",
              "      --fill-color: #1967D2;\n",
              "      --hover-bg-color: #E2EBFA;\n",
              "      --hover-fill-color: #174EA6;\n",
              "      --disabled-fill-color: #AAA;\n",
              "      --disabled-bg-color: #DDD;\n",
              "  }\n",
              "\n",
              "  [theme=dark] .colab-df-quickchart {\n",
              "      --bg-color: #3B4455;\n",
              "      --fill-color: #D2E3FC;\n",
              "      --hover-bg-color: #434B5C;\n",
              "      --hover-fill-color: #FFFFFF;\n",
              "      --disabled-bg-color: #3B4455;\n",
              "      --disabled-fill-color: #666;\n",
              "  }\n",
              "\n",
              "  .colab-df-quickchart {\n",
              "    background-color: var(--bg-color);\n",
              "    border: none;\n",
              "    border-radius: 50%;\n",
              "    cursor: pointer;\n",
              "    display: none;\n",
              "    fill: var(--fill-color);\n",
              "    height: 32px;\n",
              "    padding: 0;\n",
              "    width: 32px;\n",
              "  }\n",
              "\n",
              "  .colab-df-quickchart:hover {\n",
              "    background-color: var(--hover-bg-color);\n",
              "    box-shadow: 0 1px 2px rgba(60, 64, 67, 0.3), 0 1px 3px 1px rgba(60, 64, 67, 0.15);\n",
              "    fill: var(--button-hover-fill-color);\n",
              "  }\n",
              "\n",
              "  .colab-df-quickchart-complete:disabled,\n",
              "  .colab-df-quickchart-complete:disabled:hover {\n",
              "    background-color: var(--disabled-bg-color);\n",
              "    fill: var(--disabled-fill-color);\n",
              "    box-shadow: none;\n",
              "  }\n",
              "\n",
              "  .colab-df-spinner {\n",
              "    border: 2px solid var(--fill-color);\n",
              "    border-color: transparent;\n",
              "    border-bottom-color: var(--fill-color);\n",
              "    animation:\n",
              "      spin 1s steps(1) infinite;\n",
              "  }\n",
              "\n",
              "  @keyframes spin {\n",
              "    0% {\n",
              "      border-color: transparent;\n",
              "      border-bottom-color: var(--fill-color);\n",
              "      border-left-color: var(--fill-color);\n",
              "    }\n",
              "    20% {\n",
              "      border-color: transparent;\n",
              "      border-left-color: var(--fill-color);\n",
              "      border-top-color: var(--fill-color);\n",
              "    }\n",
              "    30% {\n",
              "      border-color: transparent;\n",
              "      border-left-color: var(--fill-color);\n",
              "      border-top-color: var(--fill-color);\n",
              "      border-right-color: var(--fill-color);\n",
              "    }\n",
              "    40% {\n",
              "      border-color: transparent;\n",
              "      border-right-color: var(--fill-color);\n",
              "      border-top-color: var(--fill-color);\n",
              "    }\n",
              "    60% {\n",
              "      border-color: transparent;\n",
              "      border-right-color: var(--fill-color);\n",
              "    }\n",
              "    80% {\n",
              "      border-color: transparent;\n",
              "      border-right-color: var(--fill-color);\n",
              "      border-bottom-color: var(--fill-color);\n",
              "    }\n",
              "    90% {\n",
              "      border-color: transparent;\n",
              "      border-bottom-color: var(--fill-color);\n",
              "    }\n",
              "  }\n",
              "</style>\n",
              "\n",
              "  <script>\n",
              "    async function quickchart(key) {\n",
              "      const quickchartButtonEl =\n",
              "        document.querySelector('#' + key + ' button');\n",
              "      quickchartButtonEl.disabled = true;  // To prevent multiple clicks.\n",
              "      quickchartButtonEl.classList.add('colab-df-spinner');\n",
              "      try {\n",
              "        const charts = await google.colab.kernel.invokeFunction(\n",
              "            'suggestCharts', [key], {});\n",
              "      } catch (error) {\n",
              "        console.error('Error during call to suggestCharts:', error);\n",
              "      }\n",
              "      quickchartButtonEl.classList.remove('colab-df-spinner');\n",
              "      quickchartButtonEl.classList.add('colab-df-quickchart-complete');\n",
              "    }\n",
              "    (() => {\n",
              "      let quickchartButtonEl =\n",
              "        document.querySelector('#df-7b752936-ed5a-4c2f-889b-18720e905e88 button');\n",
              "      quickchartButtonEl.style.display =\n",
              "        google.colab.kernel.accessAllowed ? 'block' : 'none';\n",
              "    })();\n",
              "  </script>\n",
              "</div>\n",
              "    </div>\n",
              "  </div>\n"
            ]
          },
          "metadata": {},
          "execution_count": 235
        }
      ]
    },
    {
      "cell_type": "code",
      "execution_count": null,
      "metadata": {
        "id": "JHx9S0jtWu_z"
      },
      "outputs": [],
      "source": [
        "# apple.to_csv('appl.csv')"
      ]
    },
    {
      "cell_type": "code",
      "execution_count": null,
      "metadata": {
        "colab": {
          "base_uri": "https://localhost:8080/",
          "height": 466
        },
        "id": "VUFLVd2bWu_z",
        "outputId": "63788470-3a4e-4f89-c511-565a7bd9f246"
      },
      "outputs": [
        {
          "output_type": "execute_result",
          "data": {
            "text/plain": [
              "<Axes: xlabel='Date'>"
            ]
          },
          "metadata": {},
          "execution_count": 237
        },
        {
          "output_type": "display_data",
          "data": {
            "text/plain": [
              "<Figure size 640x480 with 1 Axes>"
            ],
            "image/png": "[encoded data removed]"
          },
          "metadata": {}
        }
      ],
      "source": [
        "#plot the adjusted close\n",
        "apple['Adj Close'].plot()"
      ]
    },
    {
      "cell_type": "code",
      "execution_count": null,
      "metadata": {
        "colab": {
          "base_uri": "https://localhost:8080/",
          "height": 466
        },
        "id": "3JaUHlJdWu_0",
        "outputId": "6bdf666a-73a1-4cfd-b36f-75a608446cb6"
      },
      "outputs": [
        {
          "output_type": "execute_result",
          "data": {
            "text/plain": [
              "<Axes: xlabel='Date'>"
            ]
          },
          "metadata": {},
          "execution_count": 238
        },
        {
          "output_type": "display_data",
          "data": {
            "text/plain": [
              "<Figure size 640x480 with 1 Axes>"
            ],
            "image/png": "[encoded data removed]"
          },
          "metadata": {}
        }
      ],
      "source": [
        "#look at the percent change\n",
        "apple['Adj Close'].pct_change().plot()"
      ]
    },
    {
      "cell_type": "code",
      "source": [
        "apple.rolling(window = 10).mean().plot()"
      ],
      "metadata": {
        "colab": {
          "base_uri": "https://localhost:8080/",
          "height": 482
        },
        "id": "f5tdvc_8-PAo",
        "outputId": "17685523-51fe-450a-d956-78cee0a11f82"
      },
      "execution_count": null,
      "outputs": [
        {
          "output_type": "execute_result",
          "data": {
            "text/plain": [
              "<Axes: xlabel='Date'>"
            ]
          },
          "metadata": {},
          "execution_count": 239
        },
        {
          "output_type": "display_data",
          "data": {
            "text/plain": [
              "<Figure size 640x480 with 1 Axes>"
            ],
            "image/png": "[encoded data removed]"
          },
          "metadata": {}
        }
      ]
    },
    {
      "cell_type": "code",
      "execution_count": null,
      "metadata": {
        "id": "Hp49rLE1Wu_0"
      },
      "outputs": [],
      "source": [
        "#determine X and y\n",
        "apple_pchange = apple.pct_change().dropna()\n",
        "X = apple_pchange[['High', 'Low', 'Open', 'Volume']]\n",
        "y2 = apple_pchange['Adj Close']\n",
        "#typical arima -- X = apple_pchange.shift(1)\n"
      ]
    },
    {
      "cell_type": "code",
      "source": [
        "y = np.where(y2 > 0, 1, 0) #making a classification problem"
      ],
      "metadata": {
        "id": "npax8gePW3xl"
      },
      "execution_count": null,
      "outputs": []
    },
    {
      "cell_type": "code",
      "execution_count": null,
      "metadata": {
        "id": "ysS2nPSXWu_1"
      },
      "outputs": [],
      "source": [
        "from sklearn.model_selection import train_test_split"
      ]
    },
    {
      "cell_type": "code",
      "execution_count": null,
      "metadata": {
        "id": "ndhSAzn6Wu_1"
      },
      "outputs": [],
      "source": [
        "X_train, X_test, y_train, y_test = train_test_split(X, y, shuffle = False)"
      ]
    },
    {
      "cell_type": "code",
      "execution_count": null,
      "metadata": {
        "colab": {
          "base_uri": "https://localhost:8080/",
          "height": 237
        },
        "id": "BYbnmMs6Wu_2",
        "outputId": "5d284314-9c94-48e0-9aeb-a06d92bdc142"
      },
      "outputs": [
        {
          "output_type": "execute_result",
          "data": {
            "text/plain": [
              "                High       Low      Open    Volume\n",
              "Date                                              \n",
              "2018-09-27  0.012022  0.017201  0.012760  0.258352\n",
              "2018-09-28 -0.002650  0.002147  0.004334 -0.240275\n",
              "2018-10-01  0.015852  0.010401  0.014058  0.029281\n",
              "2018-10-02  0.002528  0.001237 -0.003071  0.050312\n",
              "2018-10-03  0.015087  0.013899  0.012321  0.155986"
            ],
            "text/html": [
              "\n",
              "  <div id=\"df-078d0ea1-98fa-45d4-b2f3-c4ae14324e86\" class=\"colab-df-container\">\n",
              "    <div>\n",
              "<style scoped>\n",
              "    .dataframe tbody tr th:only-of-type {\n",
              "        vertical-align: middle;\n",
              "    }\n",
              "\n",
              "    .dataframe tbody tr th {\n",
              "        vertical-align: top;\n",
              "    }\n",
              "\n",
              "    .dataframe thead th {\n",
              "        text-align: right;\n",
              "    }\n",
              "</style>\n",
              "<table border=\"1\" class=\"dataframe\">\n",
              "  <thead>\n",
              "    <tr style=\"text-align: right;\">\n",
              "      <th></th>\n",
              "      <th>High</th>\n",
              "      <th>Low</th>\n",
              "      <th>Open</th>\n",
              "      <th>Volume</th>\n",
              "    </tr>\n",
              "    <tr>\n",
              "      <th>Date</th>\n",
              "      <th></th>\n",
              "      <th></th>\n",
              "      <th></th>\n",
              "      <th></th>\n",
              "    </tr>\n",
              "  </thead>\n",
              "  <tbody>\n",
              "    <tr>\n",
              "      <th>2018-09-27</th>\n",
              "      <td>0.012022</td>\n",
              "      <td>0.017201</td>\n",
              "      <td>0.012760</td>\n",
              "      <td>0.258352</td>\n",
              "    </tr>\n",
              "    <tr>\n",
              "      <th>2018-09-28</th>\n",
              "      <td>-0.002650</td>\n",
              "      <td>0.002147</td>\n",
              "      <td>0.004334</td>\n",
              "      <td>-0.240275</td>\n",
              "    </tr>\n",
              "    <tr>\n",
              "      <th>2018-10-01</th>\n",
              "      <td>0.015852</td>\n",
              "      <td>0.010401</td>\n",
              "      <td>0.014058</td>\n",
              "      <td>0.029281</td>\n",
              "    </tr>\n",
              "    <tr>\n",
              "      <th>2018-10-02</th>\n",
              "      <td>0.002528</td>\n",
              "      <td>0.001237</td>\n",
              "      <td>-0.003071</td>\n",
              "      <td>0.050312</td>\n",
              "    </tr>\n",
              "    <tr>\n",
              "      <th>2018-10-03</th>\n",
              "      <td>0.015087</td>\n",
              "      <td>0.013899</td>\n",
              "      <td>0.012321</td>\n",
              "      <td>0.155986</td>\n",
              "    </tr>\n",
              "  </tbody>\n",
              "</table>\n",
              "</div>\n",
              "    <div class=\"colab-df-buttons\">\n",
              "\n",
              "  <div class=\"colab-df-container\">\n",
              "    <button class=\"colab-df-convert\" onclick=\"convertToInteractive('df-078d0ea1-98fa-45d4-b2f3-c4ae14324e86')\"\n",
              "            title=\"Convert this dataframe to an interactive table.\"\n",
              "            style=\"display:none;\">\n",
              "\n",
              "  <svg xmlns=\"http://www.w3.org/2000/svg\" height=\"24px\" viewBox=\"0 -960 960 960\">\n",
              "    <path d=\"M120-120v-720h720v720H120Zm60-500h600v-160H180v160Zm220 220h160v-160H400v160Zm0 220h160v-160H400v160ZM180-400h160v-160H180v160Zm440 0h160v-160H620v160ZM180-180h160v-160H180v160Zm440 0h160v-160H620v160Z\"/>\n",
              "  </svg>\n",
              "    </button>\n",
              "\n",
              "  <style>\n",
              "    .colab-df-container {\n",
              "      display:flex;\n",
              "      gap: 12px;\n",
              "    }\n",
              "\n",
              "    .colab-df-convert {\n",
              "      background-color: #E8F0FE;\n",
              "      border: none;\n",
              "      border-radius: 50%;\n",
              "      cursor: pointer;\n",
              "      display: none;\n",
              "      fill: #1967D2;\n",
              "      height: 32px;\n",
              "      padding: 0 0 0 0;\n",
              "      width: 32px;\n",
              "    }\n",
              "\n",
              "    .colab-df-convert:hover {\n",
              "      background-color: #E2EBFA;\n",
              "      box-shadow: 0px 1px 2px rgba(60, 64, 67, 0.3), 0px 1px 3px 1px rgba(60, 64, 67, 0.15);\n",
              "      fill: #174EA6;\n",
              "    }\n",
              "\n",
              "    .colab-df-buttons div {\n",
              "      margin-bottom: 4px;\n",
              "    }\n",
              "\n",
              "    [theme=dark] .colab-df-convert {\n",
              "      background-color: #3B4455;\n",
              "      fill: #D2E3FC;\n",
              "    }\n",
              "\n",
              "    [theme=dark] .colab-df-convert:hover {\n",
              "      background-color: #434B5C;\n",
              "      box-shadow: 0px 1px 3px 1px rgba(0, 0, 0, 0.15);\n",
              "      filter: drop-shadow(0px 1px 2px rgba(0, 0, 0, 0.3));\n",
              "      fill: #FFFFFF;\n",
              "    }\n",
              "  </style>\n",
              "\n",
              "    <script>\n",
              "      const buttonEl =\n",
              "        document.querySelector('#df-078d0ea1-98fa-45d4-b2f3-c4ae14324e86 button.colab-df-convert');\n",
              "      buttonEl.style.display =\n",
              "        google.colab.kernel.accessAllowed ? 'block' : 'none';\n",
              "\n",
              "      async function convertToInteractive(key) {\n",
              "        const element = document.querySelector('#df-078d0ea1-98fa-45d4-b2f3-c4ae14324e86');\n",
              "        const dataTable =\n",
              "          await google.colab.kernel.invokeFunction('convertToInteractive',\n",
              "                                                    [key], {});\n",
              "        if (!dataTable) return;\n",
              "\n",
              "        const docLinkHtml = 'Like what you see? Visit the ' +\n",
              "          '<a target=\"_blank\" href=https://colab.research.google.com/notebooks/data_table.ipynb>data table notebook</a>'\n",
              "          + ' to learn more about interactive tables.';\n",
              "        element.innerHTML = '';\n",
              "        dataTable['output_type'] = 'display_data';\n",
              "        await google.colab.output.renderOutput(dataTable, element);\n",
              "        const docLink = document.createElement('div');\n",
              "        docLink.innerHTML = docLinkHtml;\n",
              "        element.appendChild(docLink);\n",
              "      }\n",
              "    </script>\n",
              "  </div>\n",
              "\n",
              "\n",
              "<div id=\"df-a1282787-6806-42c0-b0d3-d7fb8721ff64\">\n",
              "  <button class=\"colab-df-quickchart\" onclick=\"quickchart('df-a1282787-6806-42c0-b0d3-d7fb8721ff64')\"\n",
              "            title=\"Suggest charts\"\n",
              "            style=\"display:none;\">\n",
              "\n",
              "<svg xmlns=\"http://www.w3.org/2000/svg\" height=\"24px\"viewBox=\"0 0 24 24\"\n",
              "     width=\"24px\">\n",
              "    <g>\n",
              "        <path d=\"M19 3H5c-1.1 0-2 .9-2 2v14c0 1.1.9 2 2 2h14c1.1 0 2-.9 2-2V5c0-1.1-.9-2-2-2zM9 17H7v-7h2v7zm4 0h-2V7h2v10zm4 0h-2v-4h2v4z\"/>\n",
              "    </g>\n",
              "</svg>\n",
              "  </button>\n",
              "\n",
              "<style>\n",
              "  .colab-df-quickchart {\n",
              "      --bg-color: #E8F0FE;\n",
              "      --fill-color: #1967D2;\n",
              "      --hover-bg-color: #E2EBFA;\n",
              "      --hover-fill-color: #174EA6;\n",
              "      --disabled-fill-color: #AAA;\n",
              "      --disabled-bg-color: #DDD;\n",
              "  }\n",
              "\n",
              "  [theme=dark] .colab-df-quickchart {\n",
              "      --bg-color: #3B4455;\n",
              "      --fill-color: #D2E3FC;\n",
              "      --hover-bg-color: #434B5C;\n",
              "      --hover-fill-color: #FFFFFF;\n",
              "      --disabled-bg-color: #3B4455;\n",
              "      --disabled-fill-color: #666;\n",
              "  }\n",
              "\n",
              "  .colab-df-quickchart {\n",
              "    background-color: var(--bg-color);\n",
              "    border: none;\n",
              "    border-radius: 50%;\n",
              "    cursor: pointer;\n",
              "    display: none;\n",
              "    fill: var(--fill-color);\n",
              "    height: 32px;\n",
              "    padding: 0;\n",
              "    width: 32px;\n",
              "  }\n",
              "\n",
              "  .colab-df-quickchart:hover {\n",
              "    background-color: var(--hover-bg-color);\n",
              "    box-shadow: 0 1px 2px rgba(60, 64, 67, 0.3), 0 1px 3px 1px rgba(60, 64, 67, 0.15);\n",
              "    fill: var(--button-hover-fill-color);\n",
              "  }\n",
              "\n",
              "  .colab-df-quickchart-complete:disabled,\n",
              "  .colab-df-quickchart-complete:disabled:hover {\n",
              "    background-color: var(--disabled-bg-color);\n",
              "    fill: var(--disabled-fill-color);\n",
              "    box-shadow: none;\n",
              "  }\n",
              "\n",
              "  .colab-df-spinner {\n",
              "    border: 2px solid var(--fill-color);\n",
              "    border-color: transparent;\n",
              "    border-bottom-color: var(--fill-color);\n",
              "    animation:\n",
              "      spin 1s steps(1) infinite;\n",
              "  }\n",
              "\n",
              "  @keyframes spin {\n",
              "    0% {\n",
              "      border-color: transparent;\n",
              "      border-bottom-color: var(--fill-color);\n",
              "      border-left-color: var(--fill-color);\n",
              "    }\n",
              "    20% {\n",
              "      border-color: transparent;\n",
              "      border-left-color: var(--fill-color);\n",
              "      border-top-color: var(--fill-color);\n",
              "    }\n",
              "    30% {\n",
              "      border-color: transparent;\n",
              "      border-left-color: var(--fill-color);\n",
              "      border-top-color: var(--fill-color);\n",
              "      border-right-color: var(--fill-color);\n",
              "    }\n",
              "    40% {\n",
              "      border-color: transparent;\n",
              "      border-right-color: var(--fill-color);\n",
              "      border-top-color: var(--fill-color);\n",
              "    }\n",
              "    60% {\n",
              "      border-color: transparent;\n",
              "      border-right-color: var(--fill-color);\n",
              "    }\n",
              "    80% {\n",
              "      border-color: transparent;\n",
              "      border-right-color: var(--fill-color);\n",
              "      border-bottom-color: var(--fill-color);\n",
              "    }\n",
              "    90% {\n",
              "      border-color: transparent;\n",
              "      border-bottom-color: var(--fill-color);\n",
              "    }\n",
              "  }\n",
              "</style>\n",
              "\n",
              "  <script>\n",
              "    async function quickchart(key) {\n",
              "      const quickchartButtonEl =\n",
              "        document.querySelector('#' + key + ' button');\n",
              "      quickchartButtonEl.disabled = true;  // To prevent multiple clicks.\n",
              "      quickchartButtonEl.classList.add('colab-df-spinner');\n",
              "      try {\n",
              "        const charts = await google.colab.kernel.invokeFunction(\n",
              "            'suggestCharts', [key], {});\n",
              "      } catch (error) {\n",
              "        console.error('Error during call to suggestCharts:', error);\n",
              "      }\n",
              "      quickchartButtonEl.classList.remove('colab-df-spinner');\n",
              "      quickchartButtonEl.classList.add('colab-df-quickchart-complete');\n",
              "    }\n",
              "    (() => {\n",
              "      let quickchartButtonEl =\n",
              "        document.querySelector('#df-a1282787-6806-42c0-b0d3-d7fb8721ff64 button');\n",
              "      quickchartButtonEl.style.display =\n",
              "        google.colab.kernel.accessAllowed ? 'block' : 'none';\n",
              "    })();\n",
              "  </script>\n",
              "</div>\n",
              "    </div>\n",
              "  </div>\n"
            ]
          },
          "metadata": {},
          "execution_count": 244
        }
      ],
      "source": [
        "X_train.tail()"
      ]
    },
    {
      "cell_type": "code",
      "execution_count": null,
      "metadata": {
        "colab": {
          "base_uri": "https://localhost:8080/",
          "height": 237
        },
        "id": "794iTuSdWu_2",
        "outputId": "40b73838-6f43-4d4e-c278-6aa031db37db"
      },
      "outputs": [
        {
          "output_type": "execute_result",
          "data": {
            "text/plain": [
              "                High       Low      Open    Volume\n",
              "Date                                              \n",
              "2018-10-04 -0.004797 -0.013274  0.003173  0.118207\n",
              "2018-10-05 -0.016957 -0.027125 -0.012219  0.048015\n",
              "2018-10-08 -0.015805 -0.001723 -0.025224 -0.116633\n",
              "2018-10-09  0.010988  0.009310  0.006435 -0.093477\n",
              "2018-10-10 -0.004048 -0.027896  0.008138  0.561511"
            ],
            "text/html": [
              "\n",
              "  <div id=\"df-952d4f10-b60b-4730-8c84-bff1bf3e4146\" class=\"colab-df-container\">\n",
              "    <div>\n",
              "<style scoped>\n",
              "    .dataframe tbody tr th:only-of-type {\n",
              "        vertical-align: middle;\n",
              "    }\n",
              "\n",
              "    .dataframe tbody tr th {\n",
              "        vertical-align: top;\n",
              "    }\n",
              "\n",
              "    .dataframe thead th {\n",
              "        text-align: right;\n",
              "    }\n",
              "</style>\n",
              "<table border=\"1\" class=\"dataframe\">\n",
              "  <thead>\n",
              "    <tr style=\"text-align: right;\">\n",
              "      <th></th>\n",
              "      <th>High</th>\n",
              "      <th>Low</th>\n",
              "      <th>Open</th>\n",
              "      <th>Volume</th>\n",
              "    </tr>\n",
              "    <tr>\n",
              "      <th>Date</th>\n",
              "      <th></th>\n",
              "      <th></th>\n",
              "      <th></th>\n",
              "      <th></th>\n",
              "    </tr>\n",
              "  </thead>\n",
              "  <tbody>\n",
              "    <tr>\n",
              "      <th>2018-10-04</th>\n",
              "      <td>-0.004797</td>\n",
              "      <td>-0.013274</td>\n",
              "      <td>0.003173</td>\n",
              "      <td>0.118207</td>\n",
              "    </tr>\n",
              "    <tr>\n",
              "      <th>2018-10-05</th>\n",
              "      <td>-0.016957</td>\n",
              "      <td>-0.027125</td>\n",
              "      <td>-0.012219</td>\n",
              "      <td>0.048015</td>\n",
              "    </tr>\n",
              "    <tr>\n",
              "      <th>2018-10-08</th>\n",
              "      <td>-0.015805</td>\n",
              "      <td>-0.001723</td>\n",
              "      <td>-0.025224</td>\n",
              "      <td>-0.116633</td>\n",
              "    </tr>\n",
              "    <tr>\n",
              "      <th>2018-10-09</th>\n",
              "      <td>0.010988</td>\n",
              "      <td>0.009310</td>\n",
              "      <td>0.006435</td>\n",
              "      <td>-0.093477</td>\n",
              "    </tr>\n",
              "    <tr>\n",
              "      <th>2018-10-10</th>\n",
              "      <td>-0.004048</td>\n",
              "      <td>-0.027896</td>\n",
              "      <td>0.008138</td>\n",
              "      <td>0.561511</td>\n",
              "    </tr>\n",
              "  </tbody>\n",
              "</table>\n",
              "</div>\n",
              "    <div class=\"colab-df-buttons\">\n",
              "\n",
              "  <div class=\"colab-df-container\">\n",
              "    <button class=\"colab-df-convert\" onclick=\"convertToInteractive('df-952d4f10-b60b-4730-8c84-bff1bf3e4146')\"\n",
              "            title=\"Convert this dataframe to an interactive table.\"\n",
              "            style=\"display:none;\">\n",
              "\n",
              "  <svg xmlns=\"http://www.w3.org/2000/svg\" height=\"24px\" viewBox=\"0 -960 960 960\">\n",
              "    <path d=\"M120-120v-720h720v720H120Zm60-500h600v-160H180v160Zm220 220h160v-160H400v160Zm0 220h160v-160H400v160ZM180-400h160v-160H180v160Zm440 0h160v-160H620v160ZM180-180h160v-160H180v160Zm440 0h160v-160H620v160Z\"/>\n",
              "  </svg>\n",
              "    </button>\n",
              "\n",
              "  <style>\n",
              "    .colab-df-container {\n",
              "      display:flex;\n",
              "      gap: 12px;\n",
              "    }\n",
              "\n",
              "    .colab-df-convert {\n",
              "      background-color: #E8F0FE;\n",
              "      border: none;\n",
              "      border-radius: 50%;\n",
              "      cursor: pointer;\n",
              "      display: none;\n",
              "      fill: #1967D2;\n",
              "      height: 32px;\n",
              "      padding: 0 0 0 0;\n",
              "      width: 32px;\n",
              "    }\n",
              "\n",
              "    .colab-df-convert:hover {\n",
              "      background-color: #E2EBFA;\n",
              "      box-shadow: 0px 1px 2px rgba(60, 64, 67, 0.3), 0px 1px 3px 1px rgba(60, 64, 67, 0.15);\n",
              "      fill: #174EA6;\n",
              "    }\n",
              "\n",
              "    .colab-df-buttons div {\n",
              "      margin-bottom: 4px;\n",
              "    }\n",
              "\n",
              "    [theme=dark] .colab-df-convert {\n",
              "      background-color: #3B4455;\n",
              "      fill: #D2E3FC;\n",
              "    }\n",
              "\n",
              "    [theme=dark] .colab-df-convert:hover {\n",
              "      background-color: #434B5C;\n",
              "      box-shadow: 0px 1px 3px 1px rgba(0, 0, 0, 0.15);\n",
              "      filter: drop-shadow(0px 1px 2px rgba(0, 0, 0, 0.3));\n",
              "      fill: #FFFFFF;\n",
              "    }\n",
              "  </style>\n",
              "\n",
              "    <script>\n",
              "      const buttonEl =\n",
              "        document.querySelector('#df-952d4f10-b60b-4730-8c84-bff1bf3e4146 button.colab-df-convert');\n",
              "      buttonEl.style.display =\n",
              "        google.colab.kernel.accessAllowed ? 'block' : 'none';\n",
              "\n",
              "      async function convertToInteractive(key) {\n",
              "        const element = document.querySelector('#df-952d4f10-b60b-4730-8c84-bff1bf3e4146');\n",
              "        const dataTable =\n",
              "          await google.colab.kernel.invokeFunction('convertToInteractive',\n",
              "                                                    [key], {});\n",
              "        if (!dataTable) return;\n",
              "\n",
              "        const docLinkHtml = 'Like what you see? Visit the ' +\n",
              "          '<a target=\"_blank\" href=https://colab.research.google.com/notebooks/data_table.ipynb>data table notebook</a>'\n",
              "          + ' to learn more about interactive tables.';\n",
              "        element.innerHTML = '';\n",
              "        dataTable['output_type'] = 'display_data';\n",
              "        await google.colab.output.renderOutput(dataTable, element);\n",
              "        const docLink = document.createElement('div');\n",
              "        docLink.innerHTML = docLinkHtml;\n",
              "        element.appendChild(docLink);\n",
              "      }\n",
              "    </script>\n",
              "  </div>\n",
              "\n",
              "\n",
              "<div id=\"df-43766d1e-0f9a-4868-8fcc-0de6f9c55d8e\">\n",
              "  <button class=\"colab-df-quickchart\" onclick=\"quickchart('df-43766d1e-0f9a-4868-8fcc-0de6f9c55d8e')\"\n",
              "            title=\"Suggest charts\"\n",
              "            style=\"display:none;\">\n",
              "\n",
              "<svg xmlns=\"http://www.w3.org/2000/svg\" height=\"24px\"viewBox=\"0 0 24 24\"\n",
              "     width=\"24px\">\n",
              "    <g>\n",
              "        <path d=\"M19 3H5c-1.1 0-2 .9-2 2v14c0 1.1.9 2 2 2h14c1.1 0 2-.9 2-2V5c0-1.1-.9-2-2-2zM9 17H7v-7h2v7zm4 0h-2V7h2v10zm4 0h-2v-4h2v4z\"/>\n",
              "    </g>\n",
              "</svg>\n",
              "  </button>\n",
              "\n",
              "<style>\n",
              "  .colab-df-quickchart {\n",
              "      --bg-color: #E8F0FE;\n",
              "      --fill-color: #1967D2;\n",
              "      --hover-bg-color: #E2EBFA;\n",
              "      --hover-fill-color: #174EA6;\n",
              "      --disabled-fill-color: #AAA;\n",
              "      --disabled-bg-color: #DDD;\n",
              "  }\n",
              "\n",
              "  [theme=dark] .colab-df-quickchart {\n",
              "      --bg-color: #3B4455;\n",
              "      --fill-color: #D2E3FC;\n",
              "      --hover-bg-color: #434B5C;\n",
              "      --hover-fill-color: #FFFFFF;\n",
              "      --disabled-bg-color: #3B4455;\n",
              "      --disabled-fill-color: #666;\n",
              "  }\n",
              "\n",
              "  .colab-df-quickchart {\n",
              "    background-color: var(--bg-color);\n",
              "    border: none;\n",
              "    border-radius: 50%;\n",
              "    cursor: pointer;\n",
              "    display: none;\n",
              "    fill: var(--fill-color);\n",
              "    height: 32px;\n",
              "    padding: 0;\n",
              "    width: 32px;\n",
              "  }\n",
              "\n",
              "  .colab-df-quickchart:hover {\n",
              "    background-color: var(--hover-bg-color);\n",
              "    box-shadow: 0 1px 2px rgba(60, 64, 67, 0.3), 0 1px 3px 1px rgba(60, 64, 67, 0.15);\n",
              "    fill: var(--button-hover-fill-color);\n",
              "  }\n",
              "\n",
              "  .colab-df-quickchart-complete:disabled,\n",
              "  .colab-df-quickchart-complete:disabled:hover {\n",
              "    background-color: var(--disabled-bg-color);\n",
              "    fill: var(--disabled-fill-color);\n",
              "    box-shadow: none;\n",
              "  }\n",
              "\n",
              "  .colab-df-spinner {\n",
              "    border: 2px solid var(--fill-color);\n",
              "    border-color: transparent;\n",
              "    border-bottom-color: var(--fill-color);\n",
              "    animation:\n",
              "      spin 1s steps(1) infinite;\n",
              "  }\n",
              "\n",
              "  @keyframes spin {\n",
              "    0% {\n",
              "      border-color: transparent;\n",
              "      border-bottom-color: var(--fill-color);\n",
              "      border-left-color: var(--fill-color);\n",
              "    }\n",
              "    20% {\n",
              "      border-color: transparent;\n",
              "      border-left-color: var(--fill-color);\n",
              "      border-top-color: var(--fill-color);\n",
              "    }\n",
              "    30% {\n",
              "      border-color: transparent;\n",
              "      border-left-color: var(--fill-color);\n",
              "      border-top-color: var(--fill-color);\n",
              "      border-right-color: var(--fill-color);\n",
              "    }\n",
              "    40% {\n",
              "      border-color: transparent;\n",
              "      border-right-color: var(--fill-color);\n",
              "      border-top-color: var(--fill-color);\n",
              "    }\n",
              "    60% {\n",
              "      border-color: transparent;\n",
              "      border-right-color: var(--fill-color);\n",
              "    }\n",
              "    80% {\n",
              "      border-color: transparent;\n",
              "      border-right-color: var(--fill-color);\n",
              "      border-bottom-color: var(--fill-color);\n",
              "    }\n",
              "    90% {\n",
              "      border-color: transparent;\n",
              "      border-bottom-color: var(--fill-color);\n",
              "    }\n",
              "  }\n",
              "</style>\n",
              "\n",
              "  <script>\n",
              "    async function quickchart(key) {\n",
              "      const quickchartButtonEl =\n",
              "        document.querySelector('#' + key + ' button');\n",
              "      quickchartButtonEl.disabled = true;  // To prevent multiple clicks.\n",
              "      quickchartButtonEl.classList.add('colab-df-spinner');\n",
              "      try {\n",
              "        const charts = await google.colab.kernel.invokeFunction(\n",
              "            'suggestCharts', [key], {});\n",
              "      } catch (error) {\n",
              "        console.error('Error during call to suggestCharts:', error);\n",
              "      }\n",
              "      quickchartButtonEl.classList.remove('colab-df-spinner');\n",
              "      quickchartButtonEl.classList.add('colab-df-quickchart-complete');\n",
              "    }\n",
              "    (() => {\n",
              "      let quickchartButtonEl =\n",
              "        document.querySelector('#df-43766d1e-0f9a-4868-8fcc-0de6f9c55d8e button');\n",
              "      quickchartButtonEl.style.display =\n",
              "        google.colab.kernel.accessAllowed ? 'block' : 'none';\n",
              "    })();\n",
              "  </script>\n",
              "</div>\n",
              "    </div>\n",
              "  </div>\n"
            ]
          },
          "metadata": {},
          "execution_count": 245
        }
      ],
      "source": [
        "X_test.head()"
      ]
    },
    {
      "cell_type": "markdown",
      "metadata": {
        "id": "plbxMNs7Wu_2"
      },
      "source": [
        "### Scaling\n",
        "------\n",
        "\n",
        "Per usual we need to scale our data for the network."
      ]
    },
    {
      "cell_type": "code",
      "execution_count": null,
      "metadata": {
        "id": "JWrTT0upWu_2"
      },
      "outputs": [],
      "source": [
        "from sklearn.preprocessing import StandardScaler"
      ]
    },
    {
      "cell_type": "code",
      "execution_count": null,
      "metadata": {
        "id": "UuY_AQo9Wu_3"
      },
      "outputs": [],
      "source": [
        "#instantiate\n",
        "sscaler = StandardScaler()"
      ]
    },
    {
      "cell_type": "code",
      "execution_count": null,
      "metadata": {
        "id": "i3AkFOszWu_3"
      },
      "outputs": [],
      "source": [
        "#fit and transform\n",
        "X_train_scaled = sscaler.fit_transform(X_train)\n",
        "X_test_scaled = sscaler.transform(X_test)"
      ]
    },
    {
      "cell_type": "markdown",
      "metadata": {
        "id": "iS4ZfZqdWu_3"
      },
      "source": [
        "### `TimeSeriesGenerator`\n",
        "-------\n",
        "This creates stacks of sequenced data of which we specify the length of the sequences desired."
      ]
    },
    {
      "cell_type": "code",
      "source": [
        "X_train_scaled"
      ],
      "metadata": {
        "colab": {
          "base_uri": "https://localhost:8080/"
        },
        "id": "c8MN0WEL_OuW",
        "outputId": "08fe39c0-ad84-41e7-c65a-20f79d1c7878"
      },
      "execution_count": null,
      "outputs": [
        {
          "output_type": "execute_result",
          "data": {
            "text/plain": [
              "array([[-0.31501537, -0.19680477, -0.38236103, -0.67993705],\n",
              "       [-0.29183909, -0.29749229, -0.1641142 ,  0.1897112 ],\n",
              "       [-0.42840186, -1.60864377, -0.43479013,  1.36386165],\n",
              "       ...,\n",
              "       [ 1.23590363,  0.68700255,  0.93289361, -0.07657681],\n",
              "       [ 0.10079905, -0.00786251, -0.32295623, -0.02391638],\n",
              "       [ 1.17073229,  0.95227606,  0.80558592,  0.24068863]])"
            ]
          },
          "metadata": {},
          "execution_count": 249
        }
      ]
    },
    {
      "cell_type": "code",
      "execution_count": null,
      "metadata": {
        "id": "ZUJYQM--Wu_3"
      },
      "outputs": [],
      "source": [
        "from keras.preprocessing.sequence import TimeseriesGenerator"
      ]
    },
    {
      "cell_type": "code",
      "execution_count": null,
      "metadata": {
        "id": "_zxJqjDPWu_4"
      },
      "outputs": [],
      "source": [
        "train_sequences = TimeseriesGenerator(X_train_scaled, y_train, length = 3)"
      ]
    },
    {
      "cell_type": "code",
      "execution_count": null,
      "metadata": {
        "id": "ZVKory-qWu_4",
        "colab": {
          "base_uri": "https://localhost:8080/"
        },
        "outputId": "4a87b355-8723-4a31-ff8c-0207ffb8c5eb"
      },
      "outputs": [
        {
          "output_type": "execute_result",
          "data": {
            "text/plain": [
              "(array([[[-0.31501537, -0.19680477, -0.38236103, -0.67993705],\n",
              "         [-0.29183909, -0.29749229, -0.1641142 ,  0.1897112 ],\n",
              "         [-0.42840186, -1.60864377, -0.43479013,  1.36386165]],\n",
              " \n",
              "        [[-0.29183909, -0.29749229, -0.1641142 ,  0.1897112 ],\n",
              "         [-0.42840186, -1.60864377, -0.43479013,  1.36386165],\n",
              "         [-0.82775433,  0.41265522, -0.78514129, -0.97655671]],\n",
              " \n",
              "        [[-0.42840186, -1.60864377, -0.43479013,  1.36386165],\n",
              "         [-0.82775433,  0.41265522, -0.78514129, -0.97655671],\n",
              "         [ 0.02326972, -0.08014767,  0.06271156, -0.46084552]],\n",
              " \n",
              "        ...,\n",
              " \n",
              "        [[ 0.76027962,  0.68913119,  0.16467724, -0.01081246],\n",
              "         [-0.08717531,  0.14936909,  0.27788145, -0.60592106],\n",
              "         [ 0.56481549,  0.35459769,  0.29961715, -0.31455488]],\n",
              " \n",
              "        [[-0.08717531,  0.14936909,  0.27788145, -0.60592106],\n",
              "         [ 0.56481549,  0.35459769,  0.29961715, -0.31455488],\n",
              "         [ 0.5757545 , -0.29184981,  0.01983914, -0.24934498]],\n",
              " \n",
              "        [[ 0.56481549,  0.35459769,  0.29961715, -0.31455488],\n",
              "         [ 0.5757545 , -0.29184981,  0.01983914, -0.24934498],\n",
              "         [-0.66456747,  0.21611371, -0.14008573,  0.05671385]]]),\n",
              " array([1, 0, 1, 0, 0, 1, 0, 1, 1, 0, 1, 0, 1, 1, 0, 0, 1, 1, 1, 0, 1, 1,\n",
              "        0, 0, 0, 1, 1, 1, 0, 0, 1, 0, 1, 0, 1, 1, 0, 1, 1, 0, 0, 0, 1, 0,\n",
              "        0, 0, 1, 0, 1, 0, 1, 0, 0, 1, 0, 1, 0, 1, 0, 1, 1, 1, 1, 1, 1, 1,\n",
              "        1, 1, 0, 0, 1, 1, 1, 0, 0, 0, 1, 1, 0, 1, 1, 1, 1, 0, 1, 1, 1, 0,\n",
              "        0, 0, 0, 1, 1, 0, 1, 1, 1, 1, 1, 1, 0, 0, 0, 0, 1, 0, 0, 0, 1, 0,\n",
              "        1, 0, 0, 0, 0, 1, 1, 0, 1, 0, 1, 0, 1, 0, 1, 1, 1, 0]))"
            ]
          },
          "metadata": {},
          "execution_count": 252
        }
      ],
      "source": [
        "list(train_sequences)[0]"
      ]
    },
    {
      "cell_type": "code",
      "execution_count": null,
      "metadata": {
        "id": "Crm6rkW1Wu_4"
      },
      "outputs": [],
      "source": [
        "test_sequences = TimeseriesGenerator(X_test_scaled, y_test, length = 3)"
      ]
    },
    {
      "cell_type": "code",
      "execution_count": null,
      "metadata": {
        "colab": {
          "base_uri": "https://localhost:8080/"
        },
        "id": "u8HuWF9DWu_4",
        "outputId": "c8f02738-5696-446b-b4f8-31bdd850aa05"
      },
      "outputs": [
        {
          "output_type": "execute_result",
          "data": {
            "text/plain": [
              "(376, 4)"
            ]
          },
          "metadata": {},
          "execution_count": 254
        }
      ],
      "source": [
        "train_sequences.data.shape"
      ]
    },
    {
      "cell_type": "code",
      "source": [
        "train_sequences.targets[:10]"
      ],
      "metadata": {
        "colab": {
          "base_uri": "https://localhost:8080/"
        },
        "id": "QkN_mFLClYs7",
        "outputId": "75a8c632-bca2-4647-daf9-4ed6447762d8"
      },
      "execution_count": null,
      "outputs": [
        {
          "output_type": "execute_result",
          "data": {
            "text/plain": [
              "array([0, 0, 0, 1, 0, 1, 0, 0, 1, 0])"
            ]
          },
          "metadata": {},
          "execution_count": 255
        }
      ]
    },
    {
      "cell_type": "markdown",
      "metadata": {
        "id": "ZLD9FzhmWu_5"
      },
      "source": [
        "### Model with `SimpleRNN`\n",
        "--------\n",
        "\n",
        "- 1 `SimpleRNN` layer\n",
        "- 1 hidden `Dense` layer"
      ]
    },
    {
      "cell_type": "code",
      "execution_count": null,
      "metadata": {
        "id": "V9-R6f2RWu_5"
      },
      "outputs": [],
      "source": [
        "from keras.models import Sequential\n",
        "from keras.layers import SimpleRNN, LSTM, GRU, Dense"
      ]
    },
    {
      "cell_type": "code",
      "execution_count": null,
      "metadata": {
        "id": "bT2Ytnr9Wu_5"
      },
      "outputs": [],
      "source": [
        "#build the network\n",
        "model1 = Sequential()\n",
        "model1.add(SimpleRNN(16, activation = 'tanh' ))\n",
        "model1.add(Dense(50, activation = 'relu'))\n",
        "model1.add(Dense(1, activation = 'sigmoid'))"
      ]
    },
    {
      "cell_type": "code",
      "execution_count": null,
      "metadata": {
        "id": "uFWfmdJ2Wu_5"
      },
      "outputs": [],
      "source": [
        "#compilation\n",
        "model1.compile(loss = 'bce',   #loss_fn = nn.BCELoss()\n",
        "               optimizer = \"adam\",\n",
        "               metrics = ['accuracy'])"
      ]
    },
    {
      "cell_type": "code",
      "execution_count": null,
      "metadata": {
        "colab": {
          "base_uri": "https://localhost:8080/"
        },
        "id": "NoJ0qBrFWu_5",
        "outputId": "2fe7eb15-8b7b-434e-9e08-1ba00eabc408"
      },
      "outputs": [
        {
          "output_type": "stream",
          "name": "stdout",
          "text": [
            "Epoch 1/10\n",
            "3/3 [==============================] - 3s 258ms/step - loss: 0.7012 - accuracy: 0.4826 - val_loss: 0.6858 - val_accuracy: 0.5854\n",
            "Epoch 2/10\n",
            "3/3 [==============================] - 0s 64ms/step - loss: 0.6955 - accuracy: 0.4826 - val_loss: 0.6856 - val_accuracy: 0.5854\n",
            "Epoch 3/10\n",
            "3/3 [==============================] - 0s 17ms/step - loss: 0.6928 - accuracy: 0.4960 - val_loss: 0.6854 - val_accuracy: 0.5935\n",
            "Epoch 4/10\n",
            "3/3 [==============================] - 0s 17ms/step - loss: 0.6894 - accuracy: 0.4879 - val_loss: 0.6862 - val_accuracy: 0.5447\n",
            "Epoch 5/10\n",
            "3/3 [==============================] - 0s 17ms/step - loss: 0.6873 - accuracy: 0.5013 - val_loss: 0.6874 - val_accuracy: 0.5366\n",
            "Epoch 6/10\n",
            "3/3 [==============================] - 0s 16ms/step - loss: 0.6856 - accuracy: 0.5174 - val_loss: 0.6889 - val_accuracy: 0.5447\n",
            "Epoch 7/10\n",
            "3/3 [==============================] - 0s 19ms/step - loss: 0.6839 - accuracy: 0.5121 - val_loss: 0.6907 - val_accuracy: 0.5528\n",
            "Epoch 8/10\n",
            "3/3 [==============================] - 0s 20ms/step - loss: 0.6822 - accuracy: 0.5174 - val_loss: 0.6924 - val_accuracy: 0.5285\n",
            "Epoch 9/10\n",
            "3/3 [==============================] - 0s 17ms/step - loss: 0.6807 - accuracy: 0.5308 - val_loss: 0.6939 - val_accuracy: 0.5285\n",
            "Epoch 10/10\n",
            "3/3 [==============================] - 0s 17ms/step - loss: 0.6794 - accuracy: 0.5416 - val_loss: 0.6954 - val_accuracy: 0.5366\n"
          ]
        }
      ],
      "source": [
        "#fit it\n",
        "history = model1.fit(train_sequences,\n",
        "                     validation_data=test_sequences,\n",
        "                     epochs = 10,\n",
        "                     batch_size = 10)"
      ]
    },
    {
      "cell_type": "code",
      "execution_count": null,
      "metadata": {
        "colab": {
          "base_uri": "https://localhost:8080/",
          "height": 430
        },
        "id": "6YhOX2DqWu_6",
        "outputId": "3cba92af-9e21-4589-e454-1818c81e80d5"
      },
      "outputs": [
        {
          "output_type": "display_data",
          "data": {
            "text/plain": [
              "<Figure size 640x480 with 1 Axes>"
            ],
            "image/png": "[encoded data removed]"
          },
          "metadata": {}
        }
      ],
      "source": [
        "#loss?\n",
        "plt.plot(history.history['loss'], label = 'Training Loss')\n",
        "plt.plot(history.history['val_loss'], label = 'Validation Loss')\n",
        "plt.legend();"
      ]
    },
    {
      "cell_type": "code",
      "execution_count": null,
      "metadata": {
        "colab": {
          "base_uri": "https://localhost:8080/"
        },
        "id": "ujALEUQFWu_6",
        "outputId": "b64f541d-b3fe-4631-a98a-6191c97264e2"
      },
      "outputs": [
        {
          "output_type": "execute_result",
          "data": {
            "text/plain": [
              "0.5476190476190477"
            ]
          },
          "metadata": {},
          "execution_count": 263
        }
      ],
      "source": [
        "y_test.mean()"
      ]
    },
    {
      "cell_type": "markdown",
      "metadata": {
        "id": "0-9jrIC5Wu_6"
      },
      "source": [
        "### The `LSTM` and `GRU` layers"
      ]
    },
    {
      "cell_type": "code",
      "execution_count": null,
      "metadata": {
        "id": "H4r7HQ32Wu_6"
      },
      "outputs": [],
      "source": [
        "#network with LSTM\n",
        "model2 = Sequential()\n",
        "model2.add(LSTM(16, activation = 'tanh'))\n",
        "model2.add(Dense(50, activation = 'relu'))\n",
        "model2.add(Dense(1, activation = 'sigmoid'))"
      ]
    },
    {
      "cell_type": "code",
      "execution_count": null,
      "metadata": {
        "id": "UuN5-zD_Wu_7"
      },
      "outputs": [],
      "source": [
        "#compile\n",
        "model2.compile(loss = 'bce', metrics = ['accuracy'])"
      ]
    },
    {
      "cell_type": "code",
      "execution_count": null,
      "metadata": {
        "colab": {
          "base_uri": "https://localhost:8080/"
        },
        "id": "zoUPJBgZWu_7",
        "outputId": "2d8236ab-9e6f-4239-c940-829a14e3f8d3"
      },
      "outputs": [
        {
          "output_type": "stream",
          "name": "stdout",
          "text": [
            "Epoch 1/10\n",
            "3/3 [==============================] - 3s 241ms/step - loss: 0.6959 - accuracy: 0.4799 - val_loss: 0.6954 - val_accuracy: 0.5122\n",
            "Epoch 2/10\n",
            "3/3 [==============================] - 0s 22ms/step - loss: 0.6937 - accuracy: 0.5282 - val_loss: 0.6934 - val_accuracy: 0.5122\n",
            "Epoch 3/10\n",
            "3/3 [==============================] - 0s 18ms/step - loss: 0.6923 - accuracy: 0.5362 - val_loss: 0.6920 - val_accuracy: 0.5122\n",
            "Epoch 4/10\n",
            "3/3 [==============================] - 0s 23ms/step - loss: 0.6914 - accuracy: 0.5201 - val_loss: 0.6910 - val_accuracy: 0.5366\n",
            "Epoch 5/10\n",
            "3/3 [==============================] - 0s 17ms/step - loss: 0.6906 - accuracy: 0.5282 - val_loss: 0.6900 - val_accuracy: 0.5691\n",
            "Epoch 6/10\n",
            "3/3 [==============================] - 0s 17ms/step - loss: 0.6899 - accuracy: 0.5335 - val_loss: 0.6894 - val_accuracy: 0.5691\n",
            "Epoch 7/10\n",
            "3/3 [==============================] - 0s 17ms/step - loss: 0.6894 - accuracy: 0.5389 - val_loss: 0.6888 - val_accuracy: 0.5691\n",
            "Epoch 8/10\n",
            "3/3 [==============================] - 0s 17ms/step - loss: 0.6888 - accuracy: 0.5389 - val_loss: 0.6882 - val_accuracy: 0.5610\n",
            "Epoch 9/10\n",
            "3/3 [==============================] - 0s 18ms/step - loss: 0.6884 - accuracy: 0.5416 - val_loss: 0.6877 - val_accuracy: 0.5610\n",
            "Epoch 10/10\n",
            "3/3 [==============================] - 0s 23ms/step - loss: 0.6879 - accuracy: 0.5416 - val_loss: 0.6874 - val_accuracy: 0.5610\n"
          ]
        }
      ],
      "source": [
        "#fit\n",
        "history = model2.fit(train_sequences, validation_data=test_sequences, epochs = 10)"
      ]
    },
    {
      "cell_type": "code",
      "execution_count": null,
      "metadata": {
        "colab": {
          "base_uri": "https://localhost:8080/",
          "height": 430
        },
        "id": "wy59Jf6tWu_7",
        "outputId": "5f5d9510-fb59-49c5-e7d7-4d62ec31d6de"
      },
      "outputs": [
        {
          "output_type": "display_data",
          "data": {
            "text/plain": [
              "<Figure size 640x480 with 1 Axes>"
            ],
            "image/png": "[encoded data removed]"
          },
          "metadata": {}
        }
      ],
      "source": [
        "#examine the loss\n",
        "plt.plot(history.history['loss'], label = 'Train')\n",
        "plt.plot(history.history['val_loss'], label = 'Val')\n",
        "plt.legend();"
      ]
    },
    {
      "cell_type": "code",
      "execution_count": null,
      "metadata": {
        "colab": {
          "base_uri": "https://localhost:8080/",
          "height": 430
        },
        "id": "OSZoWE6jWu_8",
        "outputId": "34cd53b8-6ddc-4dd5-9215-8ecd43f1fd44"
      },
      "outputs": [
        {
          "output_type": "display_data",
          "data": {
            "text/plain": [
              "<Figure size 640x480 with 1 Axes>"
            ],
            "image/png": "[encoded data removed]"
          },
          "metadata": {}
        }
      ],
      "source": [
        "plt.plot(history.history['accuracy'], label = 'Train')\n",
        "plt.plot(history.history['val_accuracy'], label = 'Val')\n",
        "plt.legend();"
      ]
    },
    {
      "cell_type": "code",
      "execution_count": null,
      "metadata": {
        "id": "JlMHgvzbWu_8"
      },
      "outputs": [],
      "source": [
        "#GRU layer\n",
        "model3 = Sequential()\n",
        "model3.add(GRU(16, activation = 'tanh'))\n",
        "model3.add(Dense(50, activation = 'relu'))\n",
        "model3.add(Dense(1, activation = 'sigmoid'))"
      ]
    },
    {
      "cell_type": "code",
      "execution_count": null,
      "metadata": {
        "id": "ck2Imu11Wu_8"
      },
      "outputs": [],
      "source": [
        "#compile\n",
        "model3.compile(loss = 'bce', metrics = ['accuracy'])"
      ]
    },
    {
      "cell_type": "code",
      "execution_count": null,
      "metadata": {
        "id": "2-61e4WJWu_8"
      },
      "outputs": [],
      "source": [
        "#train_sequences.targets"
      ]
    },
    {
      "cell_type": "code",
      "execution_count": null,
      "metadata": {
        "colab": {
          "base_uri": "https://localhost:8080/"
        },
        "id": "iyEUnUBZWu_8",
        "outputId": "daa9af3d-b666-4106-f5c7-bbabdd98f9cb"
      },
      "outputs": [
        {
          "output_type": "stream",
          "name": "stdout",
          "text": [
            "Epoch 1/10\n",
            "3/3 [==============================] - 3s 248ms/step - loss: 0.6952 - accuracy: 0.5147 - val_loss: 0.6850 - val_accuracy: 0.5610\n",
            "Epoch 2/10\n",
            "3/3 [==============================] - 0s 18ms/step - loss: 0.6930 - accuracy: 0.5389 - val_loss: 0.6847 - val_accuracy: 0.5772\n",
            "Epoch 3/10\n",
            "3/3 [==============================] - 0s 18ms/step - loss: 0.6918 - accuracy: 0.5362 - val_loss: 0.6847 - val_accuracy: 0.5691\n",
            "Epoch 4/10\n",
            "3/3 [==============================] - 0s 21ms/step - loss: 0.6909 - accuracy: 0.5416 - val_loss: 0.6848 - val_accuracy: 0.5610\n",
            "Epoch 5/10\n",
            "3/3 [==============================] - 0s 23ms/step - loss: 0.6901 - accuracy: 0.5416 - val_loss: 0.6848 - val_accuracy: 0.5610\n",
            "Epoch 6/10\n",
            "3/3 [==============================] - 0s 22ms/step - loss: 0.6894 - accuracy: 0.5416 - val_loss: 0.6850 - val_accuracy: 0.5610\n",
            "Epoch 7/10\n",
            "3/3 [==============================] - 0s 20ms/step - loss: 0.6887 - accuracy: 0.5416 - val_loss: 0.6851 - val_accuracy: 0.5610\n",
            "Epoch 8/10\n",
            "3/3 [==============================] - 0s 18ms/step - loss: 0.6880 - accuracy: 0.5416 - val_loss: 0.6851 - val_accuracy: 0.5610\n",
            "Epoch 9/10\n",
            "3/3 [==============================] - 0s 17ms/step - loss: 0.6874 - accuracy: 0.5416 - val_loss: 0.6852 - val_accuracy: 0.5610\n",
            "Epoch 10/10\n",
            "3/3 [==============================] - 0s 18ms/step - loss: 0.6869 - accuracy: 0.5416 - val_loss: 0.6855 - val_accuracy: 0.5610\n"
          ]
        }
      ],
      "source": [
        "#fit\n",
        "history = model3.fit(train_sequences, validation_data=test_sequences, epochs = 10)"
      ]
    },
    {
      "cell_type": "code",
      "execution_count": null,
      "metadata": {
        "colab": {
          "base_uri": "https://localhost:8080/",
          "height": 433
        },
        "id": "TGOkwm3BWu_8",
        "outputId": "26b96253-5c9c-45e3-d6b5-d392acbe260e"
      },
      "outputs": [
        {
          "output_type": "display_data",
          "data": {
            "text/plain": [
              "<Figure size 640x480 with 1 Axes>"
            ],
            "image/png": "[encoded data removed]"
          },
          "metadata": {}
        }
      ],
      "source": [
        "#examine the loss\n",
        "plt.plot(history.history['accuracy'], label = 'Train')\n",
        "plt.plot(history.history['val_accuracy'], label = 'Val')\n",
        "plt.legend();"
      ]
    },
    {
      "cell_type": "code",
      "execution_count": null,
      "metadata": {
        "id": "bV47ku1fWu_9"
      },
      "outputs": [],
      "source": [
        "#stacking layers\n",
        "model4 = Sequential()\n",
        "model4.add(GRU(32, return_sequences = True))\n",
        "model4.add(GRU(16, return_sequences = True))\n",
        "model4.add(GRU(16, return_sequences = True))\n",
        "model4.add(GRU(16))\n",
        "model4.add(Dense(100, activation = 'relu'))\n",
        "model4.add(Dense(1, activation = 'sigmoid'))\n",
        "model4.compile(loss = 'bce', metrics = ['accuracy'])\n",
        "history = model4.fit(train_sequences, validation_data = test_sequences, epochs = 50, verbose = 0)"
      ]
    },
    {
      "cell_type": "code",
      "source": [
        "plt.plot(history.history['accuracy'], label = 'Train')\n",
        "plt.plot(history.history['val_accuracy'], label = 'Val')\n",
        "plt.legend();"
      ],
      "metadata": {
        "colab": {
          "base_uri": "https://localhost:8080/",
          "height": 430
        },
        "id": "dvY1s5DaoqEh",
        "outputId": "d9a50a55-33bf-43ba-efd5-6f18d6146a65"
      },
      "execution_count": null,
      "outputs": [
        {
          "output_type": "display_data",
          "data": {
            "text/plain": [
              "<Figure size 640x480 with 1 Axes>"
            ],
            "image/png": "[encoded data removed]"
          },
          "metadata": {}
        }
      ]
    },
    {
      "cell_type": "markdown",
      "metadata": {
        "id": "dbM9HQB2Wu_9"
      },
      "source": [
        "### Sequential Models for Text\n",
        "-------\n",
        "\n",
        "Now, we use the Keras `Tokenizer` to preprocess our spam data and feed it through different architectures of sequential network models."
      ]
    },
    {
      "cell_type": "code",
      "execution_count": null,
      "metadata": {
        "id": "aHMk39bnWu_-"
      },
      "outputs": [],
      "source": [
        "import pandas as pd\n",
        "import numpy as np"
      ]
    },
    {
      "cell_type": "code",
      "execution_count": null,
      "metadata": {
        "id": "GcRxPpALWu_-"
      },
      "outputs": [],
      "source": [
        "from keras.preprocessing.text import Tokenizer"
      ]
    },
    {
      "cell_type": "code",
      "execution_count": null,
      "metadata": {
        "id": "Jd-0ZXXiWu_-"
      },
      "outputs": [],
      "source": [
        "spam = pd.read_csv('sms_spam.csv')"
      ]
    },
    {
      "cell_type": "code",
      "execution_count": null,
      "metadata": {
        "colab": {
          "base_uri": "https://localhost:8080/",
          "height": 206
        },
        "id": "GkZYEe0sWu_-",
        "outputId": "e0be56e2-2034-4a24-fe60-fd264cc713b7"
      },
      "outputs": [
        {
          "output_type": "execute_result",
          "data": {
            "text/plain": [
              "   type                                               text\n",
              "0   ham  Hope you are having a good week. Just checking in\n",
              "1   ham                            K..give back my thanks.\n",
              "2   ham        Am also doing in cbe only. But have to pay.\n",
              "3  spam  complimentary 4 STAR Ibiza Holiday or £10,000 ...\n",
              "4  spam  okmail: Dear Dave this is your final notice to..."
            ],
            "text/html": [
              "\n",
              "  <div id=\"df-544ff9b9-d945-41a8-87c9-13937b7cfe6b\" class=\"colab-df-container\">\n",
              "    <div>\n",
              "<style scoped>\n",
              "    .dataframe tbody tr th:only-of-type {\n",
              "        vertical-align: middle;\n",
              "    }\n",
              "\n",
              "    .dataframe tbody tr th {\n",
              "        vertical-align: top;\n",
              "    }\n",
              "\n",
              "    .dataframe thead th {\n",
              "        text-align: right;\n",
              "    }\n",
              "</style>\n",
              "<table border=\"1\" class=\"dataframe\">\n",
              "  <thead>\n",
              "    <tr style=\"text-align: right;\">\n",
              "      <th></th>\n",
              "      <th>type</th>\n",
              "      <th>text</th>\n",
              "    </tr>\n",
              "  </thead>\n",
              "  <tbody>\n",
              "    <tr>\n",
              "      <th>0</th>\n",
              "      <td>ham</td>\n",
              "      <td>Hope you are having a good week. Just checking in</td>\n",
              "    </tr>\n",
              "    <tr>\n",
              "      <th>1</th>\n",
              "      <td>ham</td>\n",
              "      <td>K..give back my thanks.</td>\n",
              "    </tr>\n",
              "    <tr>\n",
              "      <th>2</th>\n",
              "      <td>ham</td>\n",
              "      <td>Am also doing in cbe only. But have to pay.</td>\n",
              "    </tr>\n",
              "    <tr>\n",
              "      <th>3</th>\n",
              "      <td>spam</td>\n",
              "      <td>complimentary 4 STAR Ibiza Holiday or £10,000 ...</td>\n",
              "    </tr>\n",
              "    <tr>\n",
              "      <th>4</th>\n",
              "      <td>spam</td>\n",
              "      <td>okmail: Dear Dave this is your final notice to...</td>\n",
              "    </tr>\n",
              "  </tbody>\n",
              "</table>\n",
              "</div>\n",
              "    <div class=\"colab-df-buttons\">\n",
              "\n",
              "  <div class=\"colab-df-container\">\n",
              "    <button class=\"colab-df-convert\" onclick=\"convertToInteractive('df-544ff9b9-d945-41a8-87c9-13937b7cfe6b')\"\n",
              "            title=\"Convert this dataframe to an interactive table.\"\n",
              "            style=\"display:none;\">\n",
              "\n",
              "  <svg xmlns=\"http://www.w3.org/2000/svg\" height=\"24px\" viewBox=\"0 -960 960 960\">\n",
              "    <path d=\"M120-120v-720h720v720H120Zm60-500h600v-160H180v160Zm220 220h160v-160H400v160Zm0 220h160v-160H400v160ZM180-400h160v-160H180v160Zm440 0h160v-160H620v160ZM180-180h160v-160H180v160Zm440 0h160v-160H620v160Z\"/>\n",
              "  </svg>\n",
              "    </button>\n",
              "\n",
              "  <style>\n",
              "    .colab-df-container {\n",
              "      display:flex;\n",
              "      gap: 12px;\n",
              "    }\n",
              "\n",
              "    .colab-df-convert {\n",
              "      background-color: #E8F0FE;\n",
              "      border: none;\n",
              "      border-radius: 50%;\n",
              "      cursor: pointer;\n",
              "      display: none;\n",
              "      fill: #1967D2;\n",
              "      height: 32px;\n",
              "      padding: 0 0 0 0;\n",
              "      width: 32px;\n",
              "    }\n",
              "\n",
              "    .colab-df-convert:hover {\n",
              "      background-color: #E2EBFA;\n",
              "      box-shadow: 0px 1px 2px rgba(60, 64, 67, 0.3), 0px 1px 3px 1px rgba(60, 64, 67, 0.15);\n",
              "      fill: #174EA6;\n",
              "    }\n",
              "\n",
              "    .colab-df-buttons div {\n",
              "      margin-bottom: 4px;\n",
              "    }\n",
              "\n",
              "    [theme=dark] .colab-df-convert {\n",
              "      background-color: #3B4455;\n",
              "      fill: #D2E3FC;\n",
              "    }\n",
              "\n",
              "    [theme=dark] .colab-df-convert:hover {\n",
              "      background-color: #434B5C;\n",
              "      box-shadow: 0px 1px 3px 1px rgba(0, 0, 0, 0.15);\n",
              "      filter: drop-shadow(0px 1px 2px rgba(0, 0, 0, 0.3));\n",
              "      fill: #FFFFFF;\n",
              "    }\n",
              "  </style>\n",
              "\n",
              "    <script>\n",
              "      const buttonEl =\n",
              "        document.querySelector('#df-544ff9b9-d945-41a8-87c9-13937b7cfe6b button.colab-df-convert');\n",
              "      buttonEl.style.display =\n",
              "        google.colab.kernel.accessAllowed ? 'block' : 'none';\n",
              "\n",
              "      async function convertToInteractive(key) {\n",
              "        const element = document.querySelector('#df-544ff9b9-d945-41a8-87c9-13937b7cfe6b');\n",
              "        const dataTable =\n",
              "          await google.colab.kernel.invokeFunction('convertToInteractive',\n",
              "                                                    [key], {});\n",
              "        if (!dataTable) return;\n",
              "\n",
              "        const docLinkHtml = 'Like what you see? Visit the ' +\n",
              "          '<a target=\"_blank\" href=https://colab.research.google.com/notebooks/data_table.ipynb>data table notebook</a>'\n",
              "          + ' to learn more about interactive tables.';\n",
              "        element.innerHTML = '';\n",
              "        dataTable['output_type'] = 'display_data';\n",
              "        await google.colab.output.renderOutput(dataTable, element);\n",
              "        const docLink = document.createElement('div');\n",
              "        docLink.innerHTML = docLinkHtml;\n",
              "        element.appendChild(docLink);\n",
              "      }\n",
              "    </script>\n",
              "  </div>\n",
              "\n",
              "\n",
              "<div id=\"df-eb45a875-1e48-4d46-af35-2e9773265107\">\n",
              "  <button class=\"colab-df-quickchart\" onclick=\"quickchart('df-eb45a875-1e48-4d46-af35-2e9773265107')\"\n",
              "            title=\"Suggest charts\"\n",
              "            style=\"display:none;\">\n",
              "\n",
              "<svg xmlns=\"http://www.w3.org/2000/svg\" height=\"24px\"viewBox=\"0 0 24 24\"\n",
              "     width=\"24px\">\n",
              "    <g>\n",
              "        <path d=\"M19 3H5c-1.1 0-2 .9-2 2v14c0 1.1.9 2 2 2h14c1.1 0 2-.9 2-2V5c0-1.1-.9-2-2-2zM9 17H7v-7h2v7zm4 0h-2V7h2v10zm4 0h-2v-4h2v4z\"/>\n",
              "    </g>\n",
              "</svg>\n",
              "  </button>\n",
              "\n",
              "<style>\n",
              "  .colab-df-quickchart {\n",
              "      --bg-color: #E8F0FE;\n",
              "      --fill-color: #1967D2;\n",
              "      --hover-bg-color: #E2EBFA;\n",
              "      --hover-fill-color: #174EA6;\n",
              "      --disabled-fill-color: #AAA;\n",
              "      --disabled-bg-color: #DDD;\n",
              "  }\n",
              "\n",
              "  [theme=dark] .colab-df-quickchart {\n",
              "      --bg-color: #3B4455;\n",
              "      --fill-color: #D2E3FC;\n",
              "      --hover-bg-color: #434B5C;\n",
              "      --hover-fill-color: #FFFFFF;\n",
              "      --disabled-bg-color: #3B4455;\n",
              "      --disabled-fill-color: #666;\n",
              "  }\n",
              "\n",
              "  .colab-df-quickchart {\n",
              "    background-color: var(--bg-color);\n",
              "    border: none;\n",
              "    border-radius: 50%;\n",
              "    cursor: pointer;\n",
              "    display: none;\n",
              "    fill: var(--fill-color);\n",
              "    height: 32px;\n",
              "    padding: 0;\n",
              "    width: 32px;\n",
              "  }\n",
              "\n",
              "  .colab-df-quickchart:hover {\n",
              "    background-color: var(--hover-bg-color);\n",
              "    box-shadow: 0 1px 2px rgba(60, 64, 67, 0.3), 0 1px 3px 1px rgba(60, 64, 67, 0.15);\n",
              "    fill: var(--button-hover-fill-color);\n",
              "  }\n",
              "\n",
              "  .colab-df-quickchart-complete:disabled,\n",
              "  .colab-df-quickchart-complete:disabled:hover {\n",
              "    background-color: var(--disabled-bg-color);\n",
              "    fill: var(--disabled-fill-color);\n",
              "    box-shadow: none;\n",
              "  }\n",
              "\n",
              "  .colab-df-spinner {\n",
              "    border: 2px solid var(--fill-color);\n",
              "    border-color: transparent;\n",
              "    border-bottom-color: var(--fill-color);\n",
              "    animation:\n",
              "      spin 1s steps(1) infinite;\n",
              "  }\n",
              "\n",
              "  @keyframes spin {\n",
              "    0% {\n",
              "      border-color: transparent;\n",
              "      border-bottom-color: var(--fill-color);\n",
              "      border-left-color: var(--fill-color);\n",
              "    }\n",
              "    20% {\n",
              "      border-color: transparent;\n",
              "      border-left-color: var(--fill-color);\n",
              "      border-top-color: var(--fill-color);\n",
              "    }\n",
              "    30% {\n",
              "      border-color: transparent;\n",
              "      border-left-color: var(--fill-color);\n",
              "      border-top-color: var(--fill-color);\n",
              "      border-right-color: var(--fill-color);\n",
              "    }\n",
              "    40% {\n",
              "      border-color: transparent;\n",
              "      border-right-color: var(--fill-color);\n",
              "      border-top-color: var(--fill-color);\n",
              "    }\n",
              "    60% {\n",
              "      border-color: transparent;\n",
              "      border-right-color: var(--fill-color);\n",
              "    }\n",
              "    80% {\n",
              "      border-color: transparent;\n",
              "      border-right-color: var(--fill-color);\n",
              "      border-bottom-color: var(--fill-color);\n",
              "    }\n",
              "    90% {\n",
              "      border-color: transparent;\n",
              "      border-bottom-color: var(--fill-color);\n",
              "    }\n",
              "  }\n",
              "</style>\n",
              "\n",
              "  <script>\n",
              "    async function quickchart(key) {\n",
              "      const quickchartButtonEl =\n",
              "        document.querySelector('#' + key + ' button');\n",
              "      quickchartButtonEl.disabled = true;  // To prevent multiple clicks.\n",
              "      quickchartButtonEl.classList.add('colab-df-spinner');\n",
              "      try {\n",
              "        const charts = await google.colab.kernel.invokeFunction(\n",
              "            'suggestCharts', [key], {});\n",
              "      } catch (error) {\n",
              "        console.error('Error during call to suggestCharts:', error);\n",
              "      }\n",
              "      quickchartButtonEl.classList.remove('colab-df-spinner');\n",
              "      quickchartButtonEl.classList.add('colab-df-quickchart-complete');\n",
              "    }\n",
              "    (() => {\n",
              "      let quickchartButtonEl =\n",
              "        document.querySelector('#df-eb45a875-1e48-4d46-af35-2e9773265107 button');\n",
              "      quickchartButtonEl.style.display =\n",
              "        google.colab.kernel.accessAllowed ? 'block' : 'none';\n",
              "    })();\n",
              "  </script>\n",
              "</div>\n",
              "    </div>\n",
              "  </div>\n"
            ]
          },
          "metadata": {},
          "execution_count": 280
        }
      ],
      "source": [
        "spam.head()"
      ]
    },
    {
      "cell_type": "markdown",
      "metadata": {
        "id": "oru06UOKWu_-"
      },
      "source": [
        "### `Tokenizer`\n",
        "------\n",
        "Here, we set the limit to the number of words at 500, then fit the texts, and finally transform our text to sequences of integer values with the `.texts_to_sequences`.  To assure the same length we use the `pad_sequences` function.  "
      ]
    },
    {
      "cell_type": "code",
      "execution_count": null,
      "metadata": {
        "id": "VSqNfyMCWu_-"
      },
      "outputs": [],
      "source": [
        "#create a tokenizer and specify the vocabulary\n",
        "tokenizer = Tokenizer(500)"
      ]
    },
    {
      "cell_type": "code",
      "execution_count": null,
      "metadata": {
        "id": "rrJ3y8hYWu_-"
      },
      "outputs": [],
      "source": [
        "#fit it on text\n",
        "tokenizer.fit_on_texts(spam['text'])"
      ]
    },
    {
      "cell_type": "code",
      "execution_count": null,
      "metadata": {
        "id": "genzCtf2Wu__"
      },
      "outputs": [],
      "source": [
        "#generate sequences\n",
        "sequences = tokenizer.texts_to_sequences(spam['text'])"
      ]
    },
    {
      "cell_type": "code",
      "execution_count": null,
      "metadata": {
        "colab": {
          "base_uri": "https://localhost:8080/"
        },
        "id": "vgX70hTqWu__",
        "outputId": "59c48548-496e-41d1-814c-67591639acb3"
      },
      "outputs": [
        {
          "output_type": "execute_result",
          "data": {
            "text/plain": [
              "[[122, 3, 22, 313, 4, 53, 110, 37, 8],\n",
              " [92, 134, 86, 11, 170],\n",
              " [60, 179, 155, 8, 62, 24, 17, 2, 387]]"
            ]
          },
          "metadata": {},
          "execution_count": 284
        }
      ],
      "source": [
        "sequences[:3]"
      ]
    },
    {
      "cell_type": "code",
      "source": [
        "lengths = [len(seq) for seq in sequences]\n",
        "max(lengths)"
      ],
      "metadata": {
        "colab": {
          "base_uri": "https://localhost:8080/"
        },
        "id": "7Kcdbv0EGkoP",
        "outputId": "5f593d52-48cd-459d-bb2c-d77805feeb54"
      },
      "execution_count": null,
      "outputs": [
        {
          "output_type": "execute_result",
          "data": {
            "text/plain": [
              "162"
            ]
          },
          "metadata": {},
          "execution_count": 289
        }
      ]
    },
    {
      "cell_type": "code",
      "execution_count": null,
      "metadata": {
        "id": "VzO5K_5BWu__"
      },
      "outputs": [],
      "source": [
        "from tensorflow.keras.utils import pad_sequences"
      ]
    },
    {
      "cell_type": "code",
      "execution_count": null,
      "metadata": {
        "id": "AO4CT73UWu__"
      },
      "outputs": [],
      "source": [
        "#pad sequences to 100\n",
        "X = pad_sequences(sequences, maxlen = 100)"
      ]
    },
    {
      "cell_type": "code",
      "execution_count": null,
      "metadata": {
        "colab": {
          "base_uri": "https://localhost:8080/"
        },
        "id": "hHaOWyq7Wu__",
        "outputId": "c5c6e548-aee6-4df5-dad1-bebee0f4d47e"
      },
      "outputs": [
        {
          "output_type": "execute_result",
          "data": {
            "text/plain": [
              "array([  0,   0,   0,   0,   0,   0,   0,   0,   0,   0,   0,   0,   0,\n",
              "         0,   0,   0,   0,   0,   0,   0,   0,   0,   0,   0,   0,   0,\n",
              "         0,   0,   0,   0,   0,   0,   0,   0,   0,   0,   0,   0,   0,\n",
              "         0,   0,   0,   0,   0,   0,   0,   0,   0,   0,   0,   0,   0,\n",
              "         0,   0,   0,   0,   0,   0,   0,   0,   0,   0,   0,   0,   0,\n",
              "         0,   0,   0,   0,   0,   0,   0,   0,   0,   0,   0,   0,   0,\n",
              "         0,   0,   0,   0,   0,   0,   0,   0,   0,   0,   0,   0,   0,\n",
              "       122,   3,  22, 313,   4,  53, 110,  37,   8], dtype=int32)"
            ]
          },
          "metadata": {},
          "execution_count": 293
        }
      ],
      "source": [
        "#take a peek\n",
        "X[0]"
      ]
    },
    {
      "cell_type": "code",
      "execution_count": null,
      "metadata": {
        "id": "IRltAyRzWu__",
        "colab": {
          "base_uri": "https://localhost:8080/"
        },
        "outputId": "4822fde2-4ccb-4ca9-f71a-406649b0cbc3"
      },
      "outputs": [
        {
          "output_type": "execute_result",
          "data": {
            "text/plain": [
              "(5559, 100)"
            ]
          },
          "metadata": {},
          "execution_count": 288
        }
      ],
      "source": [
        "X.shape"
      ]
    },
    {
      "cell_type": "markdown",
      "metadata": {
        "id": "fd2ScTtzWu__"
      },
      "source": [
        "### Model\n",
        "-------"
      ]
    },
    {
      "cell_type": "code",
      "execution_count": null,
      "metadata": {
        "id": "_lF3oihUWvAA"
      },
      "outputs": [],
      "source": [
        "from keras.layers import Embedding"
      ]
    },
    {
      "cell_type": "code",
      "execution_count": null,
      "metadata": {
        "id": "QJqJ4-aXWvAA"
      },
      "outputs": [],
      "source": [
        "#sequential model\n",
        "text_model1 = Sequential()\n",
        "#embedding layer\n",
        "text_model1.add(Embedding(input_dim = tokenizer.num_words, output_dim = 64))\n",
        "#simple RNN\n",
        "text_model1.add(SimpleRNN(16))\n",
        "#dense layer\n",
        "text_model1.add(Dense(20, activation = 'relu'))\n",
        "#output\n",
        "text_model1.add(Dense(1, activation = 'sigmoid'))\n",
        "#compilation\n",
        "text_model1.compile(loss = 'bce', metrics = ['accuracy'])"
      ]
    },
    {
      "cell_type": "code",
      "execution_count": null,
      "metadata": {
        "id": "vJ0xyyZRWvAA"
      },
      "outputs": [],
      "source": [
        "#make y binary\n",
        "y = np.where(spam['type'] == 'ham', 0, 1)"
      ]
    },
    {
      "cell_type": "code",
      "execution_count": null,
      "metadata": {
        "colab": {
          "base_uri": "https://localhost:8080/"
        },
        "id": "6bG_xUNdWvAA",
        "outputId": "99862e84-b8f5-4544-ee8d-8119b3636cd9"
      },
      "outputs": [
        {
          "output_type": "execute_result",
          "data": {
            "text/plain": [
              "0.8656233135456017"
            ]
          },
          "metadata": {},
          "execution_count": 296
        }
      ],
      "source": [
        "#baseline?\n",
        "1 - np.mean(y)"
      ]
    },
    {
      "cell_type": "code",
      "execution_count": null,
      "metadata": {
        "colab": {
          "base_uri": "https://localhost:8080/"
        },
        "id": "pNeWudIHWvAA",
        "outputId": "139061af-85f4-42a2-f9ad-db97b8bc730f"
      },
      "outputs": [
        {
          "output_type": "stream",
          "name": "stdout",
          "text": [
            "Epoch 1/10\n",
            "186/186 [==============================] - 5s 21ms/step - loss: 0.2357 - accuracy: 0.9260 - val_loss: 0.0882 - val_accuracy: 0.9739\n",
            "Epoch 2/10\n",
            "186/186 [==============================] - 4s 23ms/step - loss: 0.0688 - accuracy: 0.9784 - val_loss: 0.0583 - val_accuracy: 0.9856\n",
            "Epoch 3/10\n",
            "186/186 [==============================] - 4s 23ms/step - loss: 0.0482 - accuracy: 0.9870 - val_loss: 0.0562 - val_accuracy: 0.9820\n",
            "Epoch 4/10\n",
            "186/186 [==============================] - 4s 20ms/step - loss: 0.0394 - accuracy: 0.9892 - val_loss: 0.0769 - val_accuracy: 0.9757\n",
            "Epoch 5/10\n",
            "186/186 [==============================] - 4s 22ms/step - loss: 0.0349 - accuracy: 0.9910 - val_loss: 0.0600 - val_accuracy: 0.9829\n",
            "Epoch 6/10\n",
            "186/186 [==============================] - 4s 22ms/step - loss: 0.0289 - accuracy: 0.9917 - val_loss: 0.0631 - val_accuracy: 0.9820\n",
            "Epoch 7/10\n",
            "186/186 [==============================] - 4s 20ms/step - loss: 0.0241 - accuracy: 0.9939 - val_loss: 0.0745 - val_accuracy: 0.9793\n",
            "Epoch 8/10\n",
            "186/186 [==============================] - 4s 23ms/step - loss: 0.0218 - accuracy: 0.9946 - val_loss: 0.0813 - val_accuracy: 0.9784\n",
            "Epoch 9/10\n",
            "186/186 [==============================] - 4s 21ms/step - loss: 0.0184 - accuracy: 0.9955 - val_loss: 0.0784 - val_accuracy: 0.9829\n",
            "Epoch 10/10\n",
            "186/186 [==============================] - 4s 20ms/step - loss: 0.0168 - accuracy: 0.9962 - val_loss: 0.0824 - val_accuracy: 0.9784\n"
          ]
        }
      ],
      "source": [
        "#fit it\n",
        "history = text_model1.fit(X, y, validation_split = .2, epochs = 10, batch_size = 24)"
      ]
    },
    {
      "cell_type": "code",
      "execution_count": null,
      "metadata": {
        "colab": {
          "base_uri": "https://localhost:8080/",
          "height": 430
        },
        "id": "HfP4O4HdWvAA",
        "outputId": "250c45e0-00e3-46fb-eb6e-16e62ca7ff80"
      },
      "outputs": [
        {
          "output_type": "display_data",
          "data": {
            "text/plain": [
              "<Figure size 640x480 with 1 Axes>"
            ],
            "image/png": "[encoded data removed]"
          },
          "metadata": {}
        }
      ],
      "source": [
        "plt.plot(history.history['accuracy'], label = 'Train')\n",
        "plt.plot(history.history['val_accuracy'], label = 'Test')\n",
        "plt.legend();"
      ]
    },
    {
      "cell_type": "markdown",
      "metadata": {
        "id": "fHZ1hWozWvAB"
      },
      "source": [
        "### Improving the Model\n",
        "-----\n",
        "\n",
        "- `LSTM` layers\n",
        "- `GRU` layers\n",
        "- `recurrent_dropout`\n",
        "- `dropout`\n",
        "- `Bidirectional` layers"
      ]
    },
    {
      "cell_type": "code",
      "execution_count": null,
      "metadata": {
        "id": "fPnbl3FmWvAB"
      },
      "outputs": [],
      "source": [
        "model = Sequential()\n",
        "model.add(Embedding(input_dim = tokenizer.num_words, output_dim = 64))\n",
        "model.add(GRU(16))\n",
        "model.add(Dense(20, activation = 'relu'))\n",
        "model.add(Dense(1, activation = 'sigmoid'))\n",
        "model.compile(loss = 'bce', optimizer = 'adam', metrics = ['acc'])\n",
        "model.fit(X, y, validation_split = 0.2, epochs = 10)"
      ]
    },
    {
      "cell_type": "code",
      "execution_count": null,
      "metadata": {
        "id": "wuAAVZF6WvAB"
      },
      "outputs": [],
      "source": [
        "model = Sequential()\n",
        "model.add(Embedding(input_dim = tokenizer.num_words, output_dim = 64))\n",
        "model.add(GRU(16, recurrent_dropout = 0.2))\n",
        "model.add(Dense(20, activation = 'relu'))\n",
        "model.add(Dense(1, activation = 'sigmoid'))\n",
        "model.compile(loss = 'bce', optimizer = 'adam', metrics = ['acc'])\n",
        "model.fit(X, y)"
      ]
    },
    {
      "cell_type": "code",
      "execution_count": null,
      "metadata": {
        "id": "V3oT3ULaWvAB"
      },
      "outputs": [],
      "source": [
        "model = Sequential()\n",
        "model.add(Embedding(input_dim = tokenizer.num_words, output_dim = 64))\n",
        "model.add(GRU(16, dropout = 0.2, recurrent_dropout = 0.2))\n",
        "model.add(Dense(20, activation = 'relu'))\n",
        "model.add(Dense(1, activation = 'sigmoid'))\n",
        "model.compile(loss = 'bce', optimizer = 'adam', metrics = ['acc'])\n",
        "model.fit(X, y, validation_split=.2, epochs = 10)"
      ]
    },
    {
      "cell_type": "code",
      "execution_count": null,
      "metadata": {
        "id": "o-Py6wcLWvAB"
      },
      "outputs": [],
      "source": [
        "from keras.layers import Bidirectional"
      ]
    },
    {
      "cell_type": "code",
      "execution_count": null,
      "metadata": {
        "colab": {
          "base_uri": "https://localhost:8080/"
        },
        "id": "AYnEA7tEWvAB",
        "outputId": "368432cb-b27a-41e6-ca3e-58555ba99f62"
      },
      "outputs": [
        {
          "output_type": "stream",
          "name": "stdout",
          "text": [
            "Epoch 1/10\n",
            "139/139 [==============================] - 14s 75ms/step - loss: 0.2653 - acc: 0.9083 - val_loss: 0.0642 - val_acc: 0.9820\n",
            "Epoch 2/10\n",
            "139/139 [==============================] - 9s 67ms/step - loss: 0.0525 - acc: 0.9847 - val_loss: 0.0555 - val_acc: 0.9820\n",
            "Epoch 3/10\n",
            "139/139 [==============================] - 8s 59ms/step - loss: 0.0381 - acc: 0.9899 - val_loss: 0.0534 - val_acc: 0.9811\n",
            "Epoch 4/10\n",
            "139/139 [==============================] - 9s 68ms/step - loss: 0.0290 - acc: 0.9928 - val_loss: 0.0573 - val_acc: 0.9838\n",
            "Epoch 5/10\n",
            "139/139 [==============================] - 9s 68ms/step - loss: 0.0232 - acc: 0.9942 - val_loss: 0.0551 - val_acc: 0.9856\n",
            "Epoch 6/10\n",
            "139/139 [==============================] - 9s 62ms/step - loss: 0.0191 - acc: 0.9955 - val_loss: 0.0567 - val_acc: 0.9829\n",
            "Epoch 7/10\n",
            "139/139 [==============================] - 9s 66ms/step - loss: 0.0155 - acc: 0.9964 - val_loss: 0.0581 - val_acc: 0.9829\n",
            "Epoch 8/10\n",
            "139/139 [==============================] - 9s 67ms/step - loss: 0.0133 - acc: 0.9966 - val_loss: 0.0657 - val_acc: 0.9847\n",
            "Epoch 9/10\n",
            "139/139 [==============================] - 9s 66ms/step - loss: 0.0111 - acc: 0.9971 - val_loss: 0.0816 - val_acc: 0.9820\n",
            "Epoch 10/10\n",
            "139/139 [==============================] - 8s 59ms/step - loss: 0.0101 - acc: 0.9973 - val_loss: 0.0837 - val_acc: 0.9820\n"
          ]
        },
        {
          "output_type": "execute_result",
          "data": {
            "text/plain": [
              "<keras.src.callbacks.History at 0x79f376cae980>"
            ]
          },
          "metadata": {},
          "execution_count": 300
        }
      ],
      "source": [
        "model = Sequential()\n",
        "model.add(Embedding(input_dim = tokenizer.num_words, output_dim = 64))\n",
        "model.add(Bidirectional(GRU(16)))\n",
        "model.add(Dense(20, activation = 'relu'))\n",
        "model.add(Dense(1, activation = 'sigmoid'))\n",
        "model.compile(loss = 'bce', optimizer = 'adam', metrics = ['acc'])\n",
        "model.fit(X, y, validation_split = 0.2, epochs = 10)"
      ]
    },
    {
      "cell_type": "markdown",
      "metadata": {
        "id": "DK8Zwt42WvAB"
      },
      "source": [
        "### Convolutional Networks in 1D\n",
        "--------"
      ]
    },
    {
      "cell_type": "code",
      "execution_count": null,
      "metadata": {
        "id": "mtHGeEIKWvAC"
      },
      "outputs": [],
      "source": [
        "from keras.layers import Conv1D, MaxPooling1D"
      ]
    },
    {
      "cell_type": "code",
      "execution_count": null,
      "metadata": {
        "id": "fi2eSznVWvAC"
      },
      "outputs": [],
      "source": [
        "model = Sequential()\n",
        "model.add(Embedding(input_dim = tokenizer.num_words, output_dim = 64))\n",
        "model.add(Conv1D(32, 10, activation = 'relu'))\n",
        "model.add(MaxPooling1D(4))\n",
        "model.add(Dense(20, activation = 'relu'))\n",
        "model.add(Dense(1, activation = 'sigmoid'))\n",
        "model.compile(loss = 'bce', metrics = ['acc'])"
      ]
    },
    {
      "cell_type": "code",
      "execution_count": null,
      "metadata": {
        "id": "Bno_NluPWvAC"
      },
      "outputs": [],
      "source": [
        "Y = y.reshape(-1, 1)"
      ]
    },
    {
      "cell_type": "code",
      "source": [
        "model.fit(X, Y, epochs = 10)"
      ],
      "metadata": {
        "colab": {
          "base_uri": "https://localhost:8080/"
        },
        "id": "EFAHSwZdveGq",
        "outputId": "54322509-9d8b-4bb0-9e94-2dac7c13cb06"
      },
      "execution_count": null,
      "outputs": [
        {
          "output_type": "stream",
          "name": "stdout",
          "text": [
            "Epoch 1/10\n",
            "174/174 [==============================] - 3s 13ms/step - loss: 0.4092 - acc: 0.8611\n",
            "Epoch 2/10\n",
            "174/174 [==============================] - 2s 13ms/step - loss: 0.3809 - acc: 0.8729\n",
            "Epoch 3/10\n",
            "174/174 [==============================] - 2s 13ms/step - loss: 0.3680 - acc: 0.8782\n",
            "Epoch 4/10\n",
            "174/174 [==============================] - 2s 13ms/step - loss: 0.3629 - acc: 0.8800\n",
            "Epoch 5/10\n",
            "174/174 [==============================] - 3s 18ms/step - loss: 0.3609 - acc: 0.8808\n",
            "Epoch 6/10\n",
            "174/174 [==============================] - 2s 13ms/step - loss: 0.3584 - acc: 0.8815\n",
            "Epoch 7/10\n",
            "174/174 [==============================] - 2s 13ms/step - loss: 0.3575 - acc: 0.8820\n",
            "Epoch 8/10\n",
            "174/174 [==============================] - 2s 13ms/step - loss: 0.3564 - acc: 0.8822\n",
            "Epoch 9/10\n",
            "174/174 [==============================] - 2s 13ms/step - loss: 0.3552 - acc: 0.8826\n",
            "Epoch 10/10\n",
            "174/174 [==============================] - 3s 19ms/step - loss: 0.3548 - acc: 0.8830\n"
          ]
        },
        {
          "output_type": "execute_result",
          "data": {
            "text/plain": [
              "<keras.src.callbacks.History at 0x79f350d92920>"
            ]
          },
          "metadata": {},
          "execution_count": 303
        }
      ]
    },
    {
      "cell_type": "code",
      "source": [
        "# model.save('a.h5')"
      ],
      "metadata": {
        "colab": {
          "base_uri": "https://localhost:8080/",
          "height": 176
        },
        "id": "Mf4RfRdbvnnP",
        "outputId": "66a35670-c950-4ae9-d20a-6e1f3e793740"
      },
      "execution_count": null,
      "outputs": [
        {
          "output_type": "error",
          "ename": "AttributeError",
          "evalue": "'Sequential' object has no attribute 'save_model'",
          "traceback": [
            "\u001b[0;31m---------------------------------------------------------------------------\u001b[0m",
            "\u001b[0;31mAttributeError\u001b[0m                            Traceback (most recent call last)",
            "\u001b[0;32m<ipython-input-305-a40067296ab4>\u001b[0m in \u001b[0;36m<cell line: 1>\u001b[0;34m()\u001b[0m\n\u001b[0;32m----> 1\u001b[0;31m \u001b[0mmodel\u001b[0m\u001b[0;34m.\u001b[0m\u001b[0msave_model\u001b[0m\u001b[0;34m(\u001b[0m\u001b[0;34m'a.h5'\u001b[0m\u001b[0;34m)\u001b[0m\u001b[0;34m\u001b[0m\u001b[0;34m\u001b[0m\u001b[0m\n\u001b[0m",
            "\u001b[0;31mAttributeError\u001b[0m: 'Sequential' object has no attribute 'save_model'"
          ]
        }
      ]
    },
    {
      "cell_type": "code",
      "source": [],
      "metadata": {
        "id": "ZbZdlgWyKXXa"
      },
      "execution_count": null,
      "outputs": []
    }
  ],
  "metadata": {
    "kernelspec": {
      "display_name": "Python 3",
      "language": "python",
      "name": "python3"
    },
    "language_info": {
      "codemirror_mode": {
        "name": "ipython",
        "version": 3
      },
      "file_extension": ".py",
      "mimetype": "text/x-python",
      "name": "python",
      "nbconvert_exporter": "python",
      "pygments_lexer": "ipython3",
      "version": "3.8.3"
    },
    "colab": {
      "provenance": [],
      "include_colab_link": true
    }
  },
  "nbformat": 4,
  "nbformat_minor": 0
}