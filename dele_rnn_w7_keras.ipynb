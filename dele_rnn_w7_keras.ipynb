{
  "cells": [
    {
      "cell_type": "markdown",
      "metadata": {
        "id": "view-in-github",
        "colab_type": "text"
      },
      "source": [
        "<a href=\"https://colab.research.google.com/github/cyberone1812/CMUDeepLearning/blob/main/dele_rnn_w7_keras.ipynb\" target=\"_parent\"><img src=\"https://colab.research.google.com/assets/colab-badge.svg\" alt=\"Open In Colab\"/></a>"
      ]
    },
    {
      "cell_type": "markdown",
      "metadata": {
        "id": "9URkQT0nWu_w"
      },
      "source": [
        "## The Recurrent Node\n",
        "\n",
        "Compared to a convential neuron, our recurrent neuron will take in an output from the layer itself.  \n",
        "\n",
        "<center>\n",
        "   <img src = https://upload.wikimedia.org/wikipedia/commons/thumb/b/b5/Recurrent_neural_network_unfold.svg/440px-Recurrent_neural_network_unfold.svg.png />\n",
        "</center>\n",
        "\n"
      ]
    },
    {
      "cell_type": "markdown",
      "metadata": {
        "id": "zJJ3rLQEWu_x"
      },
      "source": [
        "### A Basic Sequence of Stock Prices\n",
        "\n"
      ]
    },
    {
      "cell_type": "code",
      "execution_count": null,
      "metadata": {
        "id": "Cfvwr0sxWu_x"
      },
      "outputs": [],
      "source": [
        "import pandas_datareader as pdr\n",
        "from sklearn.model_selection import train_test_split\n",
        "import numpy as np\n",
        "import pandas as pd\n",
        "import matplotlib.pyplot as plt"
      ]
    },
    {
      "cell_type": "code",
      "execution_count": null,
      "metadata": {
        "id": "IvU_V1IgWu_y"
      },
      "outputs": [],
      "source": [
        "apple = pd.read_csv('AAPL.csv', index_col = 0)"
      ]
    },
    {
      "cell_type": "code",
      "execution_count": null,
      "metadata": {
        "colab": {
          "base_uri": "https://localhost:8080/",
          "height": 237
        },
        "id": "2wa527r3Wu_y",
        "outputId": "b0179bf7-a806-4fe7-b342-eb4c396998ef"
      },
      "outputs": [
        {
          "output_type": "execute_result",
          "data": {
            "text/plain": [
              "                  Open        High         Low       Close   Adj Close  \\\n",
              "Date                                                                     \n",
              "2017-04-06  144.289993  144.520004  143.449997  143.660004  139.301605   \n",
              "2017-04-07  143.729996  144.179993  143.270004  143.339996  138.991318   \n",
              "2017-04-10  143.600006  143.880005  142.899994  143.169998  138.826462   \n",
              "2017-04-11  142.940002  143.350006  140.059998  141.630005  137.333206   \n",
              "2017-04-12  141.600006  142.149994  141.009995  141.800003  137.498032   \n",
              "\n",
              "              Volume  \n",
              "Date                  \n",
              "2017-04-06  21149000  \n",
              "2017-04-07  16672200  \n",
              "2017-04-10  18933400  \n",
              "2017-04-11  30379400  \n",
              "2017-04-12  20350000  "
            ],
            "text/html": [
              "\n",
              "  <div id=\"df-0d3590c5-8ee1-47d6-b7de-bc3c1f895cd8\" class=\"colab-df-container\">\n",
              "    <div>\n",
              "<style scoped>\n",
              "    .dataframe tbody tr th:only-of-type {\n",
              "        vertical-align: middle;\n",
              "    }\n",
              "\n",
              "    .dataframe tbody tr th {\n",
              "        vertical-align: top;\n",
              "    }\n",
              "\n",
              "    .dataframe thead th {\n",
              "        text-align: right;\n",
              "    }\n",
              "</style>\n",
              "<table border=\"1\" class=\"dataframe\">\n",
              "  <thead>\n",
              "    <tr style=\"text-align: right;\">\n",
              "      <th></th>\n",
              "      <th>Open</th>\n",
              "      <th>High</th>\n",
              "      <th>Low</th>\n",
              "      <th>Close</th>\n",
              "      <th>Adj Close</th>\n",
              "      <th>Volume</th>\n",
              "    </tr>\n",
              "    <tr>\n",
              "      <th>Date</th>\n",
              "      <th></th>\n",
              "      <th></th>\n",
              "      <th></th>\n",
              "      <th></th>\n",
              "      <th></th>\n",
              "      <th></th>\n",
              "    </tr>\n",
              "  </thead>\n",
              "  <tbody>\n",
              "    <tr>\n",
              "      <th>2017-04-06</th>\n",
              "      <td>144.289993</td>\n",
              "      <td>144.520004</td>\n",
              "      <td>143.449997</td>\n",
              "      <td>143.660004</td>\n",
              "      <td>139.301605</td>\n",
              "      <td>21149000</td>\n",
              "    </tr>\n",
              "    <tr>\n",
              "      <th>2017-04-07</th>\n",
              "      <td>143.729996</td>\n",
              "      <td>144.179993</td>\n",
              "      <td>143.270004</td>\n",
              "      <td>143.339996</td>\n",
              "      <td>138.991318</td>\n",
              "      <td>16672200</td>\n",
              "    </tr>\n",
              "    <tr>\n",
              "      <th>2017-04-10</th>\n",
              "      <td>143.600006</td>\n",
              "      <td>143.880005</td>\n",
              "      <td>142.899994</td>\n",
              "      <td>143.169998</td>\n",
              "      <td>138.826462</td>\n",
              "      <td>18933400</td>\n",
              "    </tr>\n",
              "    <tr>\n",
              "      <th>2017-04-11</th>\n",
              "      <td>142.940002</td>\n",
              "      <td>143.350006</td>\n",
              "      <td>140.059998</td>\n",
              "      <td>141.630005</td>\n",
              "      <td>137.333206</td>\n",
              "      <td>30379400</td>\n",
              "    </tr>\n",
              "    <tr>\n",
              "      <th>2017-04-12</th>\n",
              "      <td>141.600006</td>\n",
              "      <td>142.149994</td>\n",
              "      <td>141.009995</td>\n",
              "      <td>141.800003</td>\n",
              "      <td>137.498032</td>\n",
              "      <td>20350000</td>\n",
              "    </tr>\n",
              "  </tbody>\n",
              "</table>\n",
              "</div>\n",
              "    <div class=\"colab-df-buttons\">\n",
              "\n",
              "  <div class=\"colab-df-container\">\n",
              "    <button class=\"colab-df-convert\" onclick=\"convertToInteractive('df-0d3590c5-8ee1-47d6-b7de-bc3c1f895cd8')\"\n",
              "            title=\"Convert this dataframe to an interactive table.\"\n",
              "            style=\"display:none;\">\n",
              "\n",
              "  <svg xmlns=\"http://www.w3.org/2000/svg\" height=\"24px\" viewBox=\"0 -960 960 960\">\n",
              "    <path d=\"M120-120v-720h720v720H120Zm60-500h600v-160H180v160Zm220 220h160v-160H400v160Zm0 220h160v-160H400v160ZM180-400h160v-160H180v160Zm440 0h160v-160H620v160ZM180-180h160v-160H180v160Zm440 0h160v-160H620v160Z\"/>\n",
              "  </svg>\n",
              "    </button>\n",
              "\n",
              "  <style>\n",
              "    .colab-df-container {\n",
              "      display:flex;\n",
              "      gap: 12px;\n",
              "    }\n",
              "\n",
              "    .colab-df-convert {\n",
              "      background-color: #E8F0FE;\n",
              "      border: none;\n",
              "      border-radius: 50%;\n",
              "      cursor: pointer;\n",
              "      display: none;\n",
              "      fill: #1967D2;\n",
              "      height: 32px;\n",
              "      padding: 0 0 0 0;\n",
              "      width: 32px;\n",
              "    }\n",
              "\n",
              "    .colab-df-convert:hover {\n",
              "      background-color: #E2EBFA;\n",
              "      box-shadow: 0px 1px 2px rgba(60, 64, 67, 0.3), 0px 1px 3px 1px rgba(60, 64, 67, 0.15);\n",
              "      fill: #174EA6;\n",
              "    }\n",
              "\n",
              "    .colab-df-buttons div {\n",
              "      margin-bottom: 4px;\n",
              "    }\n",
              "\n",
              "    [theme=dark] .colab-df-convert {\n",
              "      background-color: #3B4455;\n",
              "      fill: #D2E3FC;\n",
              "    }\n",
              "\n",
              "    [theme=dark] .colab-df-convert:hover {\n",
              "      background-color: #434B5C;\n",
              "      box-shadow: 0px 1px 3px 1px rgba(0, 0, 0, 0.15);\n",
              "      filter: drop-shadow(0px 1px 2px rgba(0, 0, 0, 0.3));\n",
              "      fill: #FFFFFF;\n",
              "    }\n",
              "  </style>\n",
              "\n",
              "    <script>\n",
              "      const buttonEl =\n",
              "        document.querySelector('#df-0d3590c5-8ee1-47d6-b7de-bc3c1f895cd8 button.colab-df-convert');\n",
              "      buttonEl.style.display =\n",
              "        google.colab.kernel.accessAllowed ? 'block' : 'none';\n",
              "\n",
              "      async function convertToInteractive(key) {\n",
              "        const element = document.querySelector('#df-0d3590c5-8ee1-47d6-b7de-bc3c1f895cd8');\n",
              "        const dataTable =\n",
              "          await google.colab.kernel.invokeFunction('convertToInteractive',\n",
              "                                                    [key], {});\n",
              "        if (!dataTable) return;\n",
              "\n",
              "        const docLinkHtml = 'Like what you see? Visit the ' +\n",
              "          '<a target=\"_blank\" href=https://colab.research.google.com/notebooks/data_table.ipynb>data table notebook</a>'\n",
              "          + ' to learn more about interactive tables.';\n",
              "        element.innerHTML = '';\n",
              "        dataTable['output_type'] = 'display_data';\n",
              "        await google.colab.output.renderOutput(dataTable, element);\n",
              "        const docLink = document.createElement('div');\n",
              "        docLink.innerHTML = docLinkHtml;\n",
              "        element.appendChild(docLink);\n",
              "      }\n",
              "    </script>\n",
              "  </div>\n",
              "\n",
              "\n",
              "<div id=\"df-480680aa-06aa-4026-8929-6e595ed56928\">\n",
              "  <button class=\"colab-df-quickchart\" onclick=\"quickchart('df-480680aa-06aa-4026-8929-6e595ed56928')\"\n",
              "            title=\"Suggest charts\"\n",
              "            style=\"display:none;\">\n",
              "\n",
              "<svg xmlns=\"http://www.w3.org/2000/svg\" height=\"24px\"viewBox=\"0 0 24 24\"\n",
              "     width=\"24px\">\n",
              "    <g>\n",
              "        <path d=\"M19 3H5c-1.1 0-2 .9-2 2v14c0 1.1.9 2 2 2h14c1.1 0 2-.9 2-2V5c0-1.1-.9-2-2-2zM9 17H7v-7h2v7zm4 0h-2V7h2v10zm4 0h-2v-4h2v4z\"/>\n",
              "    </g>\n",
              "</svg>\n",
              "  </button>\n",
              "\n",
              "<style>\n",
              "  .colab-df-quickchart {\n",
              "      --bg-color: #E8F0FE;\n",
              "      --fill-color: #1967D2;\n",
              "      --hover-bg-color: #E2EBFA;\n",
              "      --hover-fill-color: #174EA6;\n",
              "      --disabled-fill-color: #AAA;\n",
              "      --disabled-bg-color: #DDD;\n",
              "  }\n",
              "\n",
              "  [theme=dark] .colab-df-quickchart {\n",
              "      --bg-color: #3B4455;\n",
              "      --fill-color: #D2E3FC;\n",
              "      --hover-bg-color: #434B5C;\n",
              "      --hover-fill-color: #FFFFFF;\n",
              "      --disabled-bg-color: #3B4455;\n",
              "      --disabled-fill-color: #666;\n",
              "  }\n",
              "\n",
              "  .colab-df-quickchart {\n",
              "    background-color: var(--bg-color);\n",
              "    border: none;\n",
              "    border-radius: 50%;\n",
              "    cursor: pointer;\n",
              "    display: none;\n",
              "    fill: var(--fill-color);\n",
              "    height: 32px;\n",
              "    padding: 0;\n",
              "    width: 32px;\n",
              "  }\n",
              "\n",
              "  .colab-df-quickchart:hover {\n",
              "    background-color: var(--hover-bg-color);\n",
              "    box-shadow: 0 1px 2px rgba(60, 64, 67, 0.3), 0 1px 3px 1px rgba(60, 64, 67, 0.15);\n",
              "    fill: var(--button-hover-fill-color);\n",
              "  }\n",
              "\n",
              "  .colab-df-quickchart-complete:disabled,\n",
              "  .colab-df-quickchart-complete:disabled:hover {\n",
              "    background-color: var(--disabled-bg-color);\n",
              "    fill: var(--disabled-fill-color);\n",
              "    box-shadow: none;\n",
              "  }\n",
              "\n",
              "  .colab-df-spinner {\n",
              "    border: 2px solid var(--fill-color);\n",
              "    border-color: transparent;\n",
              "    border-bottom-color: var(--fill-color);\n",
              "    animation:\n",
              "      spin 1s steps(1) infinite;\n",
              "  }\n",
              "\n",
              "  @keyframes spin {\n",
              "    0% {\n",
              "      border-color: transparent;\n",
              "      border-bottom-color: var(--fill-color);\n",
              "      border-left-color: var(--fill-color);\n",
              "    }\n",
              "    20% {\n",
              "      border-color: transparent;\n",
              "      border-left-color: var(--fill-color);\n",
              "      border-top-color: var(--fill-color);\n",
              "    }\n",
              "    30% {\n",
              "      border-color: transparent;\n",
              "      border-left-color: var(--fill-color);\n",
              "      border-top-color: var(--fill-color);\n",
              "      border-right-color: var(--fill-color);\n",
              "    }\n",
              "    40% {\n",
              "      border-color: transparent;\n",
              "      border-right-color: var(--fill-color);\n",
              "      border-top-color: var(--fill-color);\n",
              "    }\n",
              "    60% {\n",
              "      border-color: transparent;\n",
              "      border-right-color: var(--fill-color);\n",
              "    }\n",
              "    80% {\n",
              "      border-color: transparent;\n",
              "      border-right-color: var(--fill-color);\n",
              "      border-bottom-color: var(--fill-color);\n",
              "    }\n",
              "    90% {\n",
              "      border-color: transparent;\n",
              "      border-bottom-color: var(--fill-color);\n",
              "    }\n",
              "  }\n",
              "</style>\n",
              "\n",
              "  <script>\n",
              "    async function quickchart(key) {\n",
              "      const quickchartButtonEl =\n",
              "        document.querySelector('#' + key + ' button');\n",
              "      quickchartButtonEl.disabled = true;  // To prevent multiple clicks.\n",
              "      quickchartButtonEl.classList.add('colab-df-spinner');\n",
              "      try {\n",
              "        const charts = await google.colab.kernel.invokeFunction(\n",
              "            'suggestCharts', [key], {});\n",
              "      } catch (error) {\n",
              "        console.error('Error during call to suggestCharts:', error);\n",
              "      }\n",
              "      quickchartButtonEl.classList.remove('colab-df-spinner');\n",
              "      quickchartButtonEl.classList.add('colab-df-quickchart-complete');\n",
              "    }\n",
              "    (() => {\n",
              "      let quickchartButtonEl =\n",
              "        document.querySelector('#df-480680aa-06aa-4026-8929-6e595ed56928 button');\n",
              "      quickchartButtonEl.style.display =\n",
              "        google.colab.kernel.accessAllowed ? 'block' : 'none';\n",
              "    })();\n",
              "  </script>\n",
              "</div>\n",
              "    </div>\n",
              "  </div>\n"
            ]
          },
          "metadata": {},
          "execution_count": 140
        }
      ],
      "source": [
        "#take a peek\n",
        "apple.head()"
      ]
    },
    {
      "cell_type": "code",
      "execution_count": null,
      "metadata": {
        "id": "JHx9S0jtWu_z"
      },
      "outputs": [],
      "source": [
        "# apple.to_csv('appl.csv')"
      ]
    },
    {
      "cell_type": "code",
      "execution_count": null,
      "metadata": {
        "colab": {
          "base_uri": "https://localhost:8080/",
          "height": 466
        },
        "id": "VUFLVd2bWu_z",
        "outputId": "035aa83b-b1f1-4fa4-ff4c-ca74bcab22a7"
      },
      "outputs": [
        {
          "output_type": "execute_result",
          "data": {
            "text/plain": [
              "<Axes: xlabel='Date'>"
            ]
          },
          "metadata": {},
          "execution_count": 142
        },
        {
          "output_type": "display_data",
          "data": {
            "text/plain": [
              "<Figure size 640x480 with 1 Axes>"
            ],
            "image/png": "[encoded data removed]"
          },
          "metadata": {}
        }
      ],
      "source": [
        "#plot the adjusted close\n",
        "apple['Adj Close'].plot()"
      ]
    },
    {
      "cell_type": "code",
      "execution_count": null,
      "metadata": {
        "colab": {
          "base_uri": "https://localhost:8080/",
          "height": 466
        },
        "id": "3JaUHlJdWu_0",
        "outputId": "91183c9e-2cc4-4b74-80cc-e0df26acbb75"
      },
      "outputs": [
        {
          "output_type": "execute_result",
          "data": {
            "text/plain": [
              "<Axes: xlabel='Date'>"
            ]
          },
          "metadata": {},
          "execution_count": 143
        },
        {
          "output_type": "display_data",
          "data": {
            "text/plain": [
              "<Figure size 640x480 with 1 Axes>"
            ],
            "image/png": "[encoded data removed]"
          },
          "metadata": {}
        }
      ],
      "source": [
        "#look at the percent change\n",
        "apple['Adj Close'].pct_change().plot()"
      ]
    },
    {
      "cell_type": "code",
      "execution_count": null,
      "metadata": {
        "id": "Hp49rLE1Wu_0"
      },
      "outputs": [],
      "source": [
        "#determine X and y\n",
        "apple_pchange = apple.pct_change().dropna()\n",
        "X = apple_pchange[['High', 'Low', 'Open', 'Volume']]\n",
        "y2 = apple_pchange['Adj Close']\n"
      ]
    },
    {
      "cell_type": "code",
      "source": [
        "y = np.where(y2 > 0, 1, 0) #making a classification problem"
      ],
      "metadata": {
        "id": "npax8gePW3xl"
      },
      "execution_count": null,
      "outputs": []
    },
    {
      "cell_type": "code",
      "execution_count": null,
      "metadata": {
        "id": "ysS2nPSXWu_1"
      },
      "outputs": [],
      "source": [
        "from sklearn.model_selection import train_test_split"
      ]
    },
    {
      "cell_type": "code",
      "execution_count": null,
      "metadata": {
        "id": "ndhSAzn6Wu_1"
      },
      "outputs": [],
      "source": [
        "X_train, X_test, y_train, y_test = train_test_split(X, y, shuffle = False)"
      ]
    },
    {
      "cell_type": "code",
      "execution_count": null,
      "metadata": {
        "colab": {
          "base_uri": "https://localhost:8080/",
          "height": 237
        },
        "id": "BYbnmMs6Wu_2",
        "outputId": "3eb5ae39-71b5-4623-a7cc-0ecb813c24c4"
      },
      "outputs": [
        {
          "output_type": "execute_result",
          "data": {
            "text/plain": [
              "                High       Low      Open    Volume\n",
              "Date                                              \n",
              "2018-09-27  0.012022  0.017201  0.012760  0.258352\n",
              "2018-09-28 -0.002650  0.002147  0.004334 -0.240275\n",
              "2018-10-01  0.015852  0.010401  0.014058  0.029281\n",
              "2018-10-02  0.002528  0.001237 -0.003071  0.050312\n",
              "2018-10-03  0.015087  0.013899  0.012321  0.155986"
            ],
            "text/html": [
              "\n",
              "  <div id=\"df-3093a781-fd04-4e68-808a-51a6f6bb259f\" class=\"colab-df-container\">\n",
              "    <div>\n",
              "<style scoped>\n",
              "    .dataframe tbody tr th:only-of-type {\n",
              "        vertical-align: middle;\n",
              "    }\n",
              "\n",
              "    .dataframe tbody tr th {\n",
              "        vertical-align: top;\n",
              "    }\n",
              "\n",
              "    .dataframe thead th {\n",
              "        text-align: right;\n",
              "    }\n",
              "</style>\n",
              "<table border=\"1\" class=\"dataframe\">\n",
              "  <thead>\n",
              "    <tr style=\"text-align: right;\">\n",
              "      <th></th>\n",
              "      <th>High</th>\n",
              "      <th>Low</th>\n",
              "      <th>Open</th>\n",
              "      <th>Volume</th>\n",
              "    </tr>\n",
              "    <tr>\n",
              "      <th>Date</th>\n",
              "      <th></th>\n",
              "      <th></th>\n",
              "      <th></th>\n",
              "      <th></th>\n",
              "    </tr>\n",
              "  </thead>\n",
              "  <tbody>\n",
              "    <tr>\n",
              "      <th>2018-09-27</th>\n",
              "      <td>0.012022</td>\n",
              "      <td>0.017201</td>\n",
              "      <td>0.012760</td>\n",
              "      <td>0.258352</td>\n",
              "    </tr>\n",
              "    <tr>\n",
              "      <th>2018-09-28</th>\n",
              "      <td>-0.002650</td>\n",
              "      <td>0.002147</td>\n",
              "      <td>0.004334</td>\n",
              "      <td>-0.240275</td>\n",
              "    </tr>\n",
              "    <tr>\n",
              "      <th>2018-10-01</th>\n",
              "      <td>0.015852</td>\n",
              "      <td>0.010401</td>\n",
              "      <td>0.014058</td>\n",
              "      <td>0.029281</td>\n",
              "    </tr>\n",
              "    <tr>\n",
              "      <th>2018-10-02</th>\n",
              "      <td>0.002528</td>\n",
              "      <td>0.001237</td>\n",
              "      <td>-0.003071</td>\n",
              "      <td>0.050312</td>\n",
              "    </tr>\n",
              "    <tr>\n",
              "      <th>2018-10-03</th>\n",
              "      <td>0.015087</td>\n",
              "      <td>0.013899</td>\n",
              "      <td>0.012321</td>\n",
              "      <td>0.155986</td>\n",
              "    </tr>\n",
              "  </tbody>\n",
              "</table>\n",
              "</div>\n",
              "    <div class=\"colab-df-buttons\">\n",
              "\n",
              "  <div class=\"colab-df-container\">\n",
              "    <button class=\"colab-df-convert\" onclick=\"convertToInteractive('df-3093a781-fd04-4e68-808a-51a6f6bb259f')\"\n",
              "            title=\"Convert this dataframe to an interactive table.\"\n",
              "            style=\"display:none;\">\n",
              "\n",
              "  <svg xmlns=\"http://www.w3.org/2000/svg\" height=\"24px\" viewBox=\"0 -960 960 960\">\n",
              "    <path d=\"M120-120v-720h720v720H120Zm60-500h600v-160H180v160Zm220 220h160v-160H400v160Zm0 220h160v-160H400v160ZM180-400h160v-160H180v160Zm440 0h160v-160H620v160ZM180-180h160v-160H180v160Zm440 0h160v-160H620v160Z\"/>\n",
              "  </svg>\n",
              "    </button>\n",
              "\n",
              "  <style>\n",
              "    .colab-df-container {\n",
              "      display:flex;\n",
              "      gap: 12px;\n",
              "    }\n",
              "\n",
              "    .colab-df-convert {\n",
              "      background-color: #E8F0FE;\n",
              "      border: none;\n",
              "      border-radius: 50%;\n",
              "      cursor: pointer;\n",
              "      display: none;\n",
              "      fill: #1967D2;\n",
              "      height: 32px;\n",
              "      padding: 0 0 0 0;\n",
              "      width: 32px;\n",
              "    }\n",
              "\n",
              "    .colab-df-convert:hover {\n",
              "      background-color: #E2EBFA;\n",
              "      box-shadow: 0px 1px 2px rgba(60, 64, 67, 0.3), 0px 1px 3px 1px rgba(60, 64, 67, 0.15);\n",
              "      fill: #174EA6;\n",
              "    }\n",
              "\n",
              "    .colab-df-buttons div {\n",
              "      margin-bottom: 4px;\n",
              "    }\n",
              "\n",
              "    [theme=dark] .colab-df-convert {\n",
              "      background-color: #3B4455;\n",
              "      fill: #D2E3FC;\n",
              "    }\n",
              "\n",
              "    [theme=dark] .colab-df-convert:hover {\n",
              "      background-color: #434B5C;\n",
              "      box-shadow: 0px 1px 3px 1px rgba(0, 0, 0, 0.15);\n",
              "      filter: drop-shadow(0px 1px 2px rgba(0, 0, 0, 0.3));\n",
              "      fill: #FFFFFF;\n",
              "    }\n",
              "  </style>\n",
              "\n",
              "    <script>\n",
              "      const buttonEl =\n",
              "        document.querySelector('#df-3093a781-fd04-4e68-808a-51a6f6bb259f button.colab-df-convert');\n",
              "      buttonEl.style.display =\n",
              "        google.colab.kernel.accessAllowed ? 'block' : 'none';\n",
              "\n",
              "      async function convertToInteractive(key) {\n",
              "        const element = document.querySelector('#df-3093a781-fd04-4e68-808a-51a6f6bb259f');\n",
              "        const dataTable =\n",
              "          await google.colab.kernel.invokeFunction('convertToInteractive',\n",
              "                                                    [key], {});\n",
              "        if (!dataTable) return;\n",
              "\n",
              "        const docLinkHtml = 'Like what you see? Visit the ' +\n",
              "          '<a target=\"_blank\" href=https://colab.research.google.com/notebooks/data_table.ipynb>data table notebook</a>'\n",
              "          + ' to learn more about interactive tables.';\n",
              "        element.innerHTML = '';\n",
              "        dataTable['output_type'] = 'display_data';\n",
              "        await google.colab.output.renderOutput(dataTable, element);\n",
              "        const docLink = document.createElement('div');\n",
              "        docLink.innerHTML = docLinkHtml;\n",
              "        element.appendChild(docLink);\n",
              "      }\n",
              "    </script>\n",
              "  </div>\n",
              "\n",
              "\n",
              "<div id=\"df-a923c7c4-6e7e-4e6d-b122-b0c790d909ba\">\n",
              "  <button class=\"colab-df-quickchart\" onclick=\"quickchart('df-a923c7c4-6e7e-4e6d-b122-b0c790d909ba')\"\n",
              "            title=\"Suggest charts\"\n",
              "            style=\"display:none;\">\n",
              "\n",
              "<svg xmlns=\"http://www.w3.org/2000/svg\" height=\"24px\"viewBox=\"0 0 24 24\"\n",
              "     width=\"24px\">\n",
              "    <g>\n",
              "        <path d=\"M19 3H5c-1.1 0-2 .9-2 2v14c0 1.1.9 2 2 2h14c1.1 0 2-.9 2-2V5c0-1.1-.9-2-2-2zM9 17H7v-7h2v7zm4 0h-2V7h2v10zm4 0h-2v-4h2v4z\"/>\n",
              "    </g>\n",
              "</svg>\n",
              "  </button>\n",
              "\n",
              "<style>\n",
              "  .colab-df-quickchart {\n",
              "      --bg-color: #E8F0FE;\n",
              "      --fill-color: #1967D2;\n",
              "      --hover-bg-color: #E2EBFA;\n",
              "      --hover-fill-color: #174EA6;\n",
              "      --disabled-fill-color: #AAA;\n",
              "      --disabled-bg-color: #DDD;\n",
              "  }\n",
              "\n",
              "  [theme=dark] .colab-df-quickchart {\n",
              "      --bg-color: #3B4455;\n",
              "      --fill-color: #D2E3FC;\n",
              "      --hover-bg-color: #434B5C;\n",
              "      --hover-fill-color: #FFFFFF;\n",
              "      --disabled-bg-color: #3B4455;\n",
              "      --disabled-fill-color: #666;\n",
              "  }\n",
              "\n",
              "  .colab-df-quickchart {\n",
              "    background-color: var(--bg-color);\n",
              "    border: none;\n",
              "    border-radius: 50%;\n",
              "    cursor: pointer;\n",
              "    display: none;\n",
              "    fill: var(--fill-color);\n",
              "    height: 32px;\n",
              "    padding: 0;\n",
              "    width: 32px;\n",
              "  }\n",
              "\n",
              "  .colab-df-quickchart:hover {\n",
              "    background-color: var(--hover-bg-color);\n",
              "    box-shadow: 0 1px 2px rgba(60, 64, 67, 0.3), 0 1px 3px 1px rgba(60, 64, 67, 0.15);\n",
              "    fill: var(--button-hover-fill-color);\n",
              "  }\n",
              "\n",
              "  .colab-df-quickchart-complete:disabled,\n",
              "  .colab-df-quickchart-complete:disabled:hover {\n",
              "    background-color: var(--disabled-bg-color);\n",
              "    fill: var(--disabled-fill-color);\n",
              "    box-shadow: none;\n",
              "  }\n",
              "\n",
              "  .colab-df-spinner {\n",
              "    border: 2px solid var(--fill-color);\n",
              "    border-color: transparent;\n",
              "    border-bottom-color: var(--fill-color);\n",
              "    animation:\n",
              "      spin 1s steps(1) infinite;\n",
              "  }\n",
              "\n",
              "  @keyframes spin {\n",
              "    0% {\n",
              "      border-color: transparent;\n",
              "      border-bottom-color: var(--fill-color);\n",
              "      border-left-color: var(--fill-color);\n",
              "    }\n",
              "    20% {\n",
              "      border-color: transparent;\n",
              "      border-left-color: var(--fill-color);\n",
              "      border-top-color: var(--fill-color);\n",
              "    }\n",
              "    30% {\n",
              "      border-color: transparent;\n",
              "      border-left-color: var(--fill-color);\n",
              "      border-top-color: var(--fill-color);\n",
              "      border-right-color: var(--fill-color);\n",
              "    }\n",
              "    40% {\n",
              "      border-color: transparent;\n",
              "      border-right-color: var(--fill-color);\n",
              "      border-top-color: var(--fill-color);\n",
              "    }\n",
              "    60% {\n",
              "      border-color: transparent;\n",
              "      border-right-color: var(--fill-color);\n",
              "    }\n",
              "    80% {\n",
              "      border-color: transparent;\n",
              "      border-right-color: var(--fill-color);\n",
              "      border-bottom-color: var(--fill-color);\n",
              "    }\n",
              "    90% {\n",
              "      border-color: transparent;\n",
              "      border-bottom-color: var(--fill-color);\n",
              "    }\n",
              "  }\n",
              "</style>\n",
              "\n",
              "  <script>\n",
              "    async function quickchart(key) {\n",
              "      const quickchartButtonEl =\n",
              "        document.querySelector('#' + key + ' button');\n",
              "      quickchartButtonEl.disabled = true;  // To prevent multiple clicks.\n",
              "      quickchartButtonEl.classList.add('colab-df-spinner');\n",
              "      try {\n",
              "        const charts = await google.colab.kernel.invokeFunction(\n",
              "            'suggestCharts', [key], {});\n",
              "      } catch (error) {\n",
              "        console.error('Error during call to suggestCharts:', error);\n",
              "      }\n",
              "      quickchartButtonEl.classList.remove('colab-df-spinner');\n",
              "      quickchartButtonEl.classList.add('colab-df-quickchart-complete');\n",
              "    }\n",
              "    (() => {\n",
              "      let quickchartButtonEl =\n",
              "        document.querySelector('#df-a923c7c4-6e7e-4e6d-b122-b0c790d909ba button');\n",
              "      quickchartButtonEl.style.display =\n",
              "        google.colab.kernel.accessAllowed ? 'block' : 'none';\n",
              "    })();\n",
              "  </script>\n",
              "</div>\n",
              "    </div>\n",
              "  </div>\n"
            ]
          },
          "metadata": {},
          "execution_count": 148
        }
      ],
      "source": [
        "X_train.tail()"
      ]
    },
    {
      "cell_type": "code",
      "execution_count": null,
      "metadata": {
        "colab": {
          "base_uri": "https://localhost:8080/",
          "height": 237
        },
        "id": "794iTuSdWu_2",
        "outputId": "802d453d-aa7c-43cd-e121-35e899ed38ad"
      },
      "outputs": [
        {
          "output_type": "execute_result",
          "data": {
            "text/plain": [
              "                High       Low      Open    Volume\n",
              "Date                                              \n",
              "2018-10-04 -0.004797 -0.013274  0.003173  0.118207\n",
              "2018-10-05 -0.016957 -0.027125 -0.012219  0.048015\n",
              "2018-10-08 -0.015805 -0.001723 -0.025224 -0.116633\n",
              "2018-10-09  0.010988  0.009310  0.006435 -0.093477\n",
              "2018-10-10 -0.004048 -0.027896  0.008138  0.561511"
            ],
            "text/html": [
              "\n",
              "  <div id=\"df-5340d613-ece4-4d8d-8ee4-90daea8597dd\" class=\"colab-df-container\">\n",
              "    <div>\n",
              "<style scoped>\n",
              "    .dataframe tbody tr th:only-of-type {\n",
              "        vertical-align: middle;\n",
              "    }\n",
              "\n",
              "    .dataframe tbody tr th {\n",
              "        vertical-align: top;\n",
              "    }\n",
              "\n",
              "    .dataframe thead th {\n",
              "        text-align: right;\n",
              "    }\n",
              "</style>\n",
              "<table border=\"1\" class=\"dataframe\">\n",
              "  <thead>\n",
              "    <tr style=\"text-align: right;\">\n",
              "      <th></th>\n",
              "      <th>High</th>\n",
              "      <th>Low</th>\n",
              "      <th>Open</th>\n",
              "      <th>Volume</th>\n",
              "    </tr>\n",
              "    <tr>\n",
              "      <th>Date</th>\n",
              "      <th></th>\n",
              "      <th></th>\n",
              "      <th></th>\n",
              "      <th></th>\n",
              "    </tr>\n",
              "  </thead>\n",
              "  <tbody>\n",
              "    <tr>\n",
              "      <th>2018-10-04</th>\n",
              "      <td>-0.004797</td>\n",
              "      <td>-0.013274</td>\n",
              "      <td>0.003173</td>\n",
              "      <td>0.118207</td>\n",
              "    </tr>\n",
              "    <tr>\n",
              "      <th>2018-10-05</th>\n",
              "      <td>-0.016957</td>\n",
              "      <td>-0.027125</td>\n",
              "      <td>-0.012219</td>\n",
              "      <td>0.048015</td>\n",
              "    </tr>\n",
              "    <tr>\n",
              "      <th>2018-10-08</th>\n",
              "      <td>-0.015805</td>\n",
              "      <td>-0.001723</td>\n",
              "      <td>-0.025224</td>\n",
              "      <td>-0.116633</td>\n",
              "    </tr>\n",
              "    <tr>\n",
              "      <th>2018-10-09</th>\n",
              "      <td>0.010988</td>\n",
              "      <td>0.009310</td>\n",
              "      <td>0.006435</td>\n",
              "      <td>-0.093477</td>\n",
              "    </tr>\n",
              "    <tr>\n",
              "      <th>2018-10-10</th>\n",
              "      <td>-0.004048</td>\n",
              "      <td>-0.027896</td>\n",
              "      <td>0.008138</td>\n",
              "      <td>0.561511</td>\n",
              "    </tr>\n",
              "  </tbody>\n",
              "</table>\n",
              "</div>\n",
              "    <div class=\"colab-df-buttons\">\n",
              "\n",
              "  <div class=\"colab-df-container\">\n",
              "    <button class=\"colab-df-convert\" onclick=\"convertToInteractive('df-5340d613-ece4-4d8d-8ee4-90daea8597dd')\"\n",
              "            title=\"Convert this dataframe to an interactive table.\"\n",
              "            style=\"display:none;\">\n",
              "\n",
              "  <svg xmlns=\"http://www.w3.org/2000/svg\" height=\"24px\" viewBox=\"0 -960 960 960\">\n",
              "    <path d=\"M120-120v-720h720v720H120Zm60-500h600v-160H180v160Zm220 220h160v-160H400v160Zm0 220h160v-160H400v160ZM180-400h160v-160H180v160Zm440 0h160v-160H620v160ZM180-180h160v-160H180v160Zm440 0h160v-160H620v160Z\"/>\n",
              "  </svg>\n",
              "    </button>\n",
              "\n",
              "  <style>\n",
              "    .colab-df-container {\n",
              "      display:flex;\n",
              "      gap: 12px;\n",
              "    }\n",
              "\n",
              "    .colab-df-convert {\n",
              "      background-color: #E8F0FE;\n",
              "      border: none;\n",
              "      border-radius: 50%;\n",
              "      cursor: pointer;\n",
              "      display: none;\n",
              "      fill: #1967D2;\n",
              "      height: 32px;\n",
              "      padding: 0 0 0 0;\n",
              "      width: 32px;\n",
              "    }\n",
              "\n",
              "    .colab-df-convert:hover {\n",
              "      background-color: #E2EBFA;\n",
              "      box-shadow: 0px 1px 2px rgba(60, 64, 67, 0.3), 0px 1px 3px 1px rgba(60, 64, 67, 0.15);\n",
              "      fill: #174EA6;\n",
              "    }\n",
              "\n",
              "    .colab-df-buttons div {\n",
              "      margin-bottom: 4px;\n",
              "    }\n",
              "\n",
              "    [theme=dark] .colab-df-convert {\n",
              "      background-color: #3B4455;\n",
              "      fill: #D2E3FC;\n",
              "    }\n",
              "\n",
              "    [theme=dark] .colab-df-convert:hover {\n",
              "      background-color: #434B5C;\n",
              "      box-shadow: 0px 1px 3px 1px rgba(0, 0, 0, 0.15);\n",
              "      filter: drop-shadow(0px 1px 2px rgba(0, 0, 0, 0.3));\n",
              "      fill: #FFFFFF;\n",
              "    }\n",
              "  </style>\n",
              "\n",
              "    <script>\n",
              "      const buttonEl =\n",
              "        document.querySelector('#df-5340d613-ece4-4d8d-8ee4-90daea8597dd button.colab-df-convert');\n",
              "      buttonEl.style.display =\n",
              "        google.colab.kernel.accessAllowed ? 'block' : 'none';\n",
              "\n",
              "      async function convertToInteractive(key) {\n",
              "        const element = document.querySelector('#df-5340d613-ece4-4d8d-8ee4-90daea8597dd');\n",
              "        const dataTable =\n",
              "          await google.colab.kernel.invokeFunction('convertToInteractive',\n",
              "                                                    [key], {});\n",
              "        if (!dataTable) return;\n",
              "\n",
              "        const docLinkHtml = 'Like what you see? Visit the ' +\n",
              "          '<a target=\"_blank\" href=https://colab.research.google.com/notebooks/data_table.ipynb>data table notebook</a>'\n",
              "          + ' to learn more about interactive tables.';\n",
              "        element.innerHTML = '';\n",
              "        dataTable['output_type'] = 'display_data';\n",
              "        await google.colab.output.renderOutput(dataTable, element);\n",
              "        const docLink = document.createElement('div');\n",
              "        docLink.innerHTML = docLinkHtml;\n",
              "        element.appendChild(docLink);\n",
              "      }\n",
              "    </script>\n",
              "  </div>\n",
              "\n",
              "\n",
              "<div id=\"df-a4707897-6742-4e79-bba8-ec924cb29f93\">\n",
              "  <button class=\"colab-df-quickchart\" onclick=\"quickchart('df-a4707897-6742-4e79-bba8-ec924cb29f93')\"\n",
              "            title=\"Suggest charts\"\n",
              "            style=\"display:none;\">\n",
              "\n",
              "<svg xmlns=\"http://www.w3.org/2000/svg\" height=\"24px\"viewBox=\"0 0 24 24\"\n",
              "     width=\"24px\">\n",
              "    <g>\n",
              "        <path d=\"M19 3H5c-1.1 0-2 .9-2 2v14c0 1.1.9 2 2 2h14c1.1 0 2-.9 2-2V5c0-1.1-.9-2-2-2zM9 17H7v-7h2v7zm4 0h-2V7h2v10zm4 0h-2v-4h2v4z\"/>\n",
              "    </g>\n",
              "</svg>\n",
              "  </button>\n",
              "\n",
              "<style>\n",
              "  .colab-df-quickchart {\n",
              "      --bg-color: #E8F0FE;\n",
              "      --fill-color: #1967D2;\n",
              "      --hover-bg-color: #E2EBFA;\n",
              "      --hover-fill-color: #174EA6;\n",
              "      --disabled-fill-color: #AAA;\n",
              "      --disabled-bg-color: #DDD;\n",
              "  }\n",
              "\n",
              "  [theme=dark] .colab-df-quickchart {\n",
              "      --bg-color: #3B4455;\n",
              "      --fill-color: #D2E3FC;\n",
              "      --hover-bg-color: #434B5C;\n",
              "      --hover-fill-color: #FFFFFF;\n",
              "      --disabled-bg-color: #3B4455;\n",
              "      --disabled-fill-color: #666;\n",
              "  }\n",
              "\n",
              "  .colab-df-quickchart {\n",
              "    background-color: var(--bg-color);\n",
              "    border: none;\n",
              "    border-radius: 50%;\n",
              "    cursor: pointer;\n",
              "    display: none;\n",
              "    fill: var(--fill-color);\n",
              "    height: 32px;\n",
              "    padding: 0;\n",
              "    width: 32px;\n",
              "  }\n",
              "\n",
              "  .colab-df-quickchart:hover {\n",
              "    background-color: var(--hover-bg-color);\n",
              "    box-shadow: 0 1px 2px rgba(60, 64, 67, 0.3), 0 1px 3px 1px rgba(60, 64, 67, 0.15);\n",
              "    fill: var(--button-hover-fill-color);\n",
              "  }\n",
              "\n",
              "  .colab-df-quickchart-complete:disabled,\n",
              "  .colab-df-quickchart-complete:disabled:hover {\n",
              "    background-color: var(--disabled-bg-color);\n",
              "    fill: var(--disabled-fill-color);\n",
              "    box-shadow: none;\n",
              "  }\n",
              "\n",
              "  .colab-df-spinner {\n",
              "    border: 2px solid var(--fill-color);\n",
              "    border-color: transparent;\n",
              "    border-bottom-color: var(--fill-color);\n",
              "    animation:\n",
              "      spin 1s steps(1) infinite;\n",
              "  }\n",
              "\n",
              "  @keyframes spin {\n",
              "    0% {\n",
              "      border-color: transparent;\n",
              "      border-bottom-color: var(--fill-color);\n",
              "      border-left-color: var(--fill-color);\n",
              "    }\n",
              "    20% {\n",
              "      border-color: transparent;\n",
              "      border-left-color: var(--fill-color);\n",
              "      border-top-color: var(--fill-color);\n",
              "    }\n",
              "    30% {\n",
              "      border-color: transparent;\n",
              "      border-left-color: var(--fill-color);\n",
              "      border-top-color: var(--fill-color);\n",
              "      border-right-color: var(--fill-color);\n",
              "    }\n",
              "    40% {\n",
              "      border-color: transparent;\n",
              "      border-right-color: var(--fill-color);\n",
              "      border-top-color: var(--fill-color);\n",
              "    }\n",
              "    60% {\n",
              "      border-color: transparent;\n",
              "      border-right-color: var(--fill-color);\n",
              "    }\n",
              "    80% {\n",
              "      border-color: transparent;\n",
              "      border-right-color: var(--fill-color);\n",
              "      border-bottom-color: var(--fill-color);\n",
              "    }\n",
              "    90% {\n",
              "      border-color: transparent;\n",
              "      border-bottom-color: var(--fill-color);\n",
              "    }\n",
              "  }\n",
              "</style>\n",
              "\n",
              "  <script>\n",
              "    async function quickchart(key) {\n",
              "      const quickchartButtonEl =\n",
              "        document.querySelector('#' + key + ' button');\n",
              "      quickchartButtonEl.disabled = true;  // To prevent multiple clicks.\n",
              "      quickchartButtonEl.classList.add('colab-df-spinner');\n",
              "      try {\n",
              "        const charts = await google.colab.kernel.invokeFunction(\n",
              "            'suggestCharts', [key], {});\n",
              "      } catch (error) {\n",
              "        console.error('Error during call to suggestCharts:', error);\n",
              "      }\n",
              "      quickchartButtonEl.classList.remove('colab-df-spinner');\n",
              "      quickchartButtonEl.classList.add('colab-df-quickchart-complete');\n",
              "    }\n",
              "    (() => {\n",
              "      let quickchartButtonEl =\n",
              "        document.querySelector('#df-a4707897-6742-4e79-bba8-ec924cb29f93 button');\n",
              "      quickchartButtonEl.style.display =\n",
              "        google.colab.kernel.accessAllowed ? 'block' : 'none';\n",
              "    })();\n",
              "  </script>\n",
              "</div>\n",
              "    </div>\n",
              "  </div>\n"
            ]
          },
          "metadata": {},
          "execution_count": 149
        }
      ],
      "source": [
        "X_test.head()"
      ]
    },
    {
      "cell_type": "markdown",
      "metadata": {
        "id": "plbxMNs7Wu_2"
      },
      "source": [
        "### Scaling\n",
        "------\n",
        "\n",
        "Per usual we need to scale our data for the network."
      ]
    },
    {
      "cell_type": "code",
      "execution_count": null,
      "metadata": {
        "id": "JWrTT0upWu_2"
      },
      "outputs": [],
      "source": [
        "from sklearn.preprocessing import StandardScaler"
      ]
    },
    {
      "cell_type": "code",
      "execution_count": null,
      "metadata": {
        "id": "UuY_AQo9Wu_3"
      },
      "outputs": [],
      "source": [
        "#instantiate\n",
        "sscaler = StandardScaler()"
      ]
    },
    {
      "cell_type": "code",
      "execution_count": null,
      "metadata": {
        "id": "i3AkFOszWu_3"
      },
      "outputs": [],
      "source": [
        "#fit and transform\n",
        "X_train_scaled = sscaler.fit_transform(X_train)\n",
        "X_test_scaled = sscaler.transform(X_test)"
      ]
    },
    {
      "cell_type": "markdown",
      "metadata": {
        "id": "iS4ZfZqdWu_3"
      },
      "source": [
        "### `TimeSeriesGenerator`\n",
        "-------\n",
        "This creates stacks of sequenced data of which we specify the length of the sequences desired."
      ]
    },
    {
      "cell_type": "code",
      "execution_count": null,
      "metadata": {
        "id": "ZUJYQM--Wu_3"
      },
      "outputs": [],
      "source": [
        "from keras.preprocessing.sequence import TimeseriesGenerator"
      ]
    },
    {
      "cell_type": "code",
      "execution_count": null,
      "metadata": {
        "id": "_zxJqjDPWu_4"
      },
      "outputs": [],
      "source": [
        "train_sequences = TimeseriesGenerator(X_train_scaled, y_train, length = 3)"
      ]
    },
    {
      "cell_type": "code",
      "execution_count": null,
      "metadata": {
        "id": "ZVKory-qWu_4",
        "colab": {
          "base_uri": "https://localhost:8080/"
        },
        "outputId": "6e5ff576-a120-4f49-a0ca-61bbf7bcdde0"
      },
      "outputs": [
        {
          "output_type": "execute_result",
          "data": {
            "text/plain": [
              "(array([[[-0.31501537, -0.19680477, -0.38236103, -0.67993705],\n",
              "         [-0.29183909, -0.29749229, -0.1641142 ,  0.1897112 ],\n",
              "         [-0.42840186, -1.60864377, -0.43479013,  1.36386165]],\n",
              " \n",
              "        [[-0.29183909, -0.29749229, -0.1641142 ,  0.1897112 ],\n",
              "         [-0.42840186, -1.60864377, -0.43479013,  1.36386165],\n",
              "         [-0.82775433,  0.41265522, -0.78514129, -0.97655671]],\n",
              " \n",
              "        [[-0.42840186, -1.60864377, -0.43479013,  1.36386165],\n",
              "         [-0.82775433,  0.41265522, -0.78514129, -0.97655671],\n",
              "         [ 0.02326972, -0.08014767,  0.06271156, -0.46084552]],\n",
              " \n",
              "        ...,\n",
              " \n",
              "        [[ 0.76027962,  0.68913119,  0.16467724, -0.01081246],\n",
              "         [-0.08717531,  0.14936909,  0.27788145, -0.60592106],\n",
              "         [ 0.56481549,  0.35459769,  0.29961715, -0.31455488]],\n",
              " \n",
              "        [[-0.08717531,  0.14936909,  0.27788145, -0.60592106],\n",
              "         [ 0.56481549,  0.35459769,  0.29961715, -0.31455488],\n",
              "         [ 0.5757545 , -0.29184981,  0.01983914, -0.24934498]],\n",
              " \n",
              "        [[ 0.56481549,  0.35459769,  0.29961715, -0.31455488],\n",
              "         [ 0.5757545 , -0.29184981,  0.01983914, -0.24934498],\n",
              "         [-0.66456747,  0.21611371, -0.14008573,  0.05671385]]]),\n",
              " array([1, 0, 1, 0, 0, 1, 0, 1, 1, 0, 1, 0, 1, 1, 0, 0, 1, 1, 1, 0, 1, 1,\n",
              "        0, 0, 0, 1, 1, 1, 0, 0, 1, 0, 1, 0, 1, 1, 0, 1, 1, 0, 0, 0, 1, 0,\n",
              "        0, 0, 1, 0, 1, 0, 1, 0, 0, 1, 0, 1, 0, 1, 0, 1, 1, 1, 1, 1, 1, 1,\n",
              "        1, 1, 0, 0, 1, 1, 1, 0, 0, 0, 1, 1, 0, 1, 1, 1, 1, 0, 1, 1, 1, 0,\n",
              "        0, 0, 0, 1, 1, 0, 1, 1, 1, 1, 1, 1, 0, 0, 0, 0, 1, 0, 0, 0, 1, 0,\n",
              "        1, 0, 0, 0, 0, 1, 1, 0, 1, 0, 1, 0, 1, 0, 1, 1, 1, 0]))"
            ]
          },
          "metadata": {},
          "execution_count": 155
        }
      ],
      "source": [
        "list(train_sequences)[0]"
      ]
    },
    {
      "cell_type": "code",
      "execution_count": null,
      "metadata": {
        "id": "Crm6rkW1Wu_4"
      },
      "outputs": [],
      "source": [
        "test_sequences = TimeseriesGenerator(X_test_scaled, y_test, length = 3)"
      ]
    },
    {
      "cell_type": "code",
      "execution_count": null,
      "metadata": {
        "colab": {
          "base_uri": "https://localhost:8080/"
        },
        "id": "u8HuWF9DWu_4",
        "outputId": "3a7ae6c2-a3a0-4653-faf2-1e98e448cc31"
      },
      "outputs": [
        {
          "output_type": "execute_result",
          "data": {
            "text/plain": [
              "(376, 4)"
            ]
          },
          "metadata": {},
          "execution_count": 157
        }
      ],
      "source": [
        "train_sequences.data.shape"
      ]
    },
    {
      "cell_type": "code",
      "source": [
        "train_sequences.targets[:10]"
      ],
      "metadata": {
        "colab": {
          "base_uri": "https://localhost:8080/"
        },
        "id": "QkN_mFLClYs7",
        "outputId": "75e83cd2-53ae-438e-9345-25ded12becfb"
      },
      "execution_count": null,
      "outputs": [
        {
          "output_type": "execute_result",
          "data": {
            "text/plain": [
              "array([0, 0, 0, 1, 0, 1, 0, 0, 1, 0])"
            ]
          },
          "metadata": {},
          "execution_count": 158
        }
      ]
    },
    {
      "cell_type": "markdown",
      "metadata": {
        "id": "ZLD9FzhmWu_5"
      },
      "source": [
        "### Model with `SimpleRNN`\n",
        "--------\n",
        "\n",
        "- 1 `SimpleRNN` layer\n",
        "- 1 hidden `Dense` layer"
      ]
    },
    {
      "cell_type": "code",
      "execution_count": null,
      "metadata": {
        "id": "V9-R6f2RWu_5"
      },
      "outputs": [],
      "source": [
        "from keras.models import Sequential\n",
        "from keras.layers import SimpleRNN, LSTM, GRU, Dense"
      ]
    },
    {
      "cell_type": "code",
      "execution_count": null,
      "metadata": {
        "id": "bT2Ytnr9Wu_5"
      },
      "outputs": [],
      "source": [
        "#build the network\n",
        "model1 = Sequential()\n",
        "model1.add(SimpleRNN(16, activation = 'tanh' ))\n",
        "model1.add(Dense(50, activation = 'relu'))\n",
        "model1.add(Dense(1, activation = 'sigmoid'))"
      ]
    },
    {
      "cell_type": "code",
      "execution_count": null,
      "metadata": {
        "id": "uFWfmdJ2Wu_5"
      },
      "outputs": [],
      "source": [
        "#compilation\n",
        "model1.compile(loss = 'bce',  metrics = ['accuracy'])"
      ]
    },
    {
      "cell_type": "code",
      "execution_count": null,
      "metadata": {
        "colab": {
          "base_uri": "https://localhost:8080/"
        },
        "id": "NoJ0qBrFWu_5",
        "outputId": "e4fd1ded-2f99-432a-9fce-fbbe336289e8"
      },
      "outputs": [
        {
          "output_type": "stream",
          "name": "stdout",
          "text": [
            "Epoch 1/10\n",
            "3/3 [==============================] - 1s 128ms/step - loss: 0.7186 - accuracy: 0.4718 - val_loss: 0.7178 - val_accuracy: 0.4390\n",
            "Epoch 2/10\n",
            "3/3 [==============================] - 0s 22ms/step - loss: 0.7055 - accuracy: 0.4772 - val_loss: 0.7134 - val_accuracy: 0.4146\n",
            "Epoch 3/10\n",
            "3/3 [==============================] - 0s 17ms/step - loss: 0.6985 - accuracy: 0.4853 - val_loss: 0.7121 - val_accuracy: 0.4065\n",
            "Epoch 4/10\n",
            "3/3 [==============================] - 0s 17ms/step - loss: 0.6937 - accuracy: 0.5228 - val_loss: 0.7125 - val_accuracy: 0.3902\n",
            "Epoch 5/10\n",
            "3/3 [==============================] - 0s 17ms/step - loss: 0.6899 - accuracy: 0.5389 - val_loss: 0.7129 - val_accuracy: 0.4390\n",
            "Epoch 6/10\n",
            "3/3 [==============================] - 0s 17ms/step - loss: 0.6866 - accuracy: 0.5469 - val_loss: 0.7132 - val_accuracy: 0.4553\n",
            "Epoch 7/10\n",
            "3/3 [==============================] - 0s 17ms/step - loss: 0.6838 - accuracy: 0.5416 - val_loss: 0.7141 - val_accuracy: 0.4715\n",
            "Epoch 8/10\n",
            "3/3 [==============================] - 0s 17ms/step - loss: 0.6812 - accuracy: 0.5469 - val_loss: 0.7148 - val_accuracy: 0.4878\n",
            "Epoch 9/10\n",
            "3/3 [==============================] - 0s 22ms/step - loss: 0.6789 - accuracy: 0.5603 - val_loss: 0.7159 - val_accuracy: 0.5041\n",
            "Epoch 10/10\n",
            "3/3 [==============================] - 0s 22ms/step - loss: 0.6766 - accuracy: 0.5845 - val_loss: 0.7167 - val_accuracy: 0.4959\n"
          ]
        }
      ],
      "source": [
        "#fit it\n",
        "history = model1.fit(train_sequences,\n",
        "                     validation_data=test_sequences,\n",
        "                     epochs = 10,\n",
        "                     batch_size = 10)"
      ]
    },
    {
      "cell_type": "code",
      "execution_count": null,
      "metadata": {
        "colab": {
          "base_uri": "https://localhost:8080/",
          "height": 430
        },
        "id": "6YhOX2DqWu_6",
        "outputId": "49639fc3-d3a7-426e-bc92-2e00d157c969"
      },
      "outputs": [
        {
          "output_type": "display_data",
          "data": {
            "text/plain": [
              "<Figure size 640x480 with 1 Axes>"
            ],
            "image/png": "[encoded data removed]"
          },
          "metadata": {}
        }
      ],
      "source": [
        "#loss?\n",
        "plt.plot(history.history['loss'], label = 'Training Loss')\n",
        "plt.plot(history.history['val_loss'], label = 'Validation Loss')\n",
        "plt.legend();"
      ]
    },
    {
      "cell_type": "code",
      "execution_count": null,
      "metadata": {
        "colab": {
          "base_uri": "https://localhost:8080/"
        },
        "id": "ujALEUQFWu_6",
        "outputId": "74db9e14-4622-41aa-a379-f2356a265a11"
      },
      "outputs": [
        {
          "output_type": "execute_result",
          "data": {
            "text/plain": [
              "0.5476190476190477"
            ]
          },
          "metadata": {},
          "execution_count": 164
        }
      ],
      "source": [
        "y_test.mean()"
      ]
    },
    {
      "cell_type": "markdown",
      "metadata": {
        "id": "0-9jrIC5Wu_6"
      },
      "source": [
        "### The `LSTM` and `GRU` layers"
      ]
    },
    {
      "cell_type": "code",
      "execution_count": null,
      "metadata": {
        "id": "H4r7HQ32Wu_6"
      },
      "outputs": [],
      "source": [
        "#network with LSTM\n",
        "model2 = Sequential()\n",
        "model2.add(LSTM(16, activation = 'tanh'))\n",
        "model2.add(Dense(50, activation = 'relu'))\n",
        "model2.add(Dense(1, activation = 'sigmoid'))"
      ]
    },
    {
      "cell_type": "code",
      "execution_count": null,
      "metadata": {
        "id": "UuN5-zD_Wu_7"
      },
      "outputs": [],
      "source": [
        "#compile\n",
        "model2.compile(loss = 'bce', metrics = ['accuracy'])"
      ]
    },
    {
      "cell_type": "code",
      "execution_count": null,
      "metadata": {
        "colab": {
          "base_uri": "https://localhost:8080/"
        },
        "id": "zoUPJBgZWu_7",
        "outputId": "0c3726e7-f3ca-476b-81dd-b714ca3ad2ed"
      },
      "outputs": [
        {
          "output_type": "stream",
          "name": "stdout",
          "text": [
            "Epoch 1/10\n",
            "3/3 [==============================] - 3s 254ms/step - loss: 0.6920 - accuracy: 0.5282 - val_loss: 0.6880 - val_accuracy: 0.5691\n",
            "Epoch 2/10\n",
            "3/3 [==============================] - 0s 18ms/step - loss: 0.6905 - accuracy: 0.5335 - val_loss: 0.6868 - val_accuracy: 0.5772\n",
            "Epoch 3/10\n",
            "3/3 [==============================] - 0s 18ms/step - loss: 0.6895 - accuracy: 0.5416 - val_loss: 0.6859 - val_accuracy: 0.5691\n",
            "Epoch 4/10\n",
            "3/3 [==============================] - 0s 20ms/step - loss: 0.6887 - accuracy: 0.5442 - val_loss: 0.6850 - val_accuracy: 0.5610\n",
            "Epoch 5/10\n",
            "3/3 [==============================] - 0s 29ms/step - loss: 0.6881 - accuracy: 0.5442 - val_loss: 0.6845 - val_accuracy: 0.5610\n",
            "Epoch 6/10\n",
            "3/3 [==============================] - 0s 30ms/step - loss: 0.6875 - accuracy: 0.5442 - val_loss: 0.6840 - val_accuracy: 0.5691\n",
            "Epoch 7/10\n",
            "3/3 [==============================] - 0s 30ms/step - loss: 0.6870 - accuracy: 0.5416 - val_loss: 0.6835 - val_accuracy: 0.5691\n",
            "Epoch 8/10\n",
            "3/3 [==============================] - 0s 29ms/step - loss: 0.6866 - accuracy: 0.5416 - val_loss: 0.6834 - val_accuracy: 0.5691\n",
            "Epoch 9/10\n",
            "3/3 [==============================] - 0s 26ms/step - loss: 0.6862 - accuracy: 0.5442 - val_loss: 0.6830 - val_accuracy: 0.5691\n",
            "Epoch 10/10\n",
            "3/3 [==============================] - 0s 25ms/step - loss: 0.6858 - accuracy: 0.5442 - val_loss: 0.6827 - val_accuracy: 0.5691\n"
          ]
        }
      ],
      "source": [
        "#fit\n",
        "history = model2.fit(train_sequences, validation_data=test_sequences, epochs = 10)"
      ]
    },
    {
      "cell_type": "code",
      "execution_count": null,
      "metadata": {
        "colab": {
          "base_uri": "https://localhost:8080/",
          "height": 430
        },
        "id": "wy59Jf6tWu_7",
        "outputId": "37c4cb17-7538-4cb8-dc04-ee4845758bb3"
      },
      "outputs": [
        {
          "output_type": "display_data",
          "data": {
            "text/plain": [
              "<Figure size 640x480 with 1 Axes>"
            ],
            "image/png": "[encoded data removed]"
          },
          "metadata": {}
        }
      ],
      "source": [
        "#examine the loss\n",
        "plt.plot(history.history['loss'], label = 'Train')\n",
        "plt.plot(history.history['val_loss'], label = 'Val')\n",
        "plt.legend();"
      ]
    },
    {
      "cell_type": "code",
      "execution_count": null,
      "metadata": {
        "colab": {
          "base_uri": "https://localhost:8080/",
          "height": 430
        },
        "id": "OSZoWE6jWu_8",
        "outputId": "011a57dc-8d76-4262-e530-000763425fbb"
      },
      "outputs": [
        {
          "output_type": "display_data",
          "data": {
            "text/plain": [
              "<Figure size 640x480 with 1 Axes>"
            ],
            "image/png": "[encoded data removed]"
          },
          "metadata": {}
        }
      ],
      "source": [
        "plt.plot(history.history['accuracy'], label = 'Train')\n",
        "plt.plot(history.history['val_accuracy'], label = 'Val')\n",
        "plt.legend();"
      ]
    },
    {
      "cell_type": "code",
      "execution_count": null,
      "metadata": {
        "id": "JlMHgvzbWu_8"
      },
      "outputs": [],
      "source": [
        "#GRU layer\n",
        "model3 = Sequential()\n",
        "model3.add(GRU(16, activation = 'tanh'))\n",
        "model3.add(Dense(50, activation = 'relu'))\n",
        "model3.add(Dense(1, activation = 'sigmoid'))"
      ]
    },
    {
      "cell_type": "code",
      "execution_count": null,
      "metadata": {
        "id": "ck2Imu11Wu_8"
      },
      "outputs": [],
      "source": [
        "#compile\n",
        "model3.compile(loss = 'bce', metrics = ['accuracy'])"
      ]
    },
    {
      "cell_type": "code",
      "execution_count": null,
      "metadata": {
        "id": "2-61e4WJWu_8"
      },
      "outputs": [],
      "source": [
        "#train_sequences.targets"
      ]
    },
    {
      "cell_type": "code",
      "execution_count": null,
      "metadata": {
        "colab": {
          "base_uri": "https://localhost:8080/"
        },
        "id": "iyEUnUBZWu_8",
        "outputId": "565b9c46-e8ac-4b19-c603-a883761e70b2"
      },
      "outputs": [
        {
          "output_type": "stream",
          "name": "stdout",
          "text": [
            "Epoch 1/10\n",
            "3/3 [==============================] - 3s 244ms/step - loss: 0.6926 - accuracy: 0.5335 - val_loss: 0.6984 - val_accuracy: 0.5610\n",
            "Epoch 2/10\n",
            "3/3 [==============================] - 0s 24ms/step - loss: 0.6904 - accuracy: 0.5416 - val_loss: 0.6984 - val_accuracy: 0.5528\n",
            "Epoch 3/10\n",
            "3/3 [==============================] - 0s 19ms/step - loss: 0.6891 - accuracy: 0.5389 - val_loss: 0.6987 - val_accuracy: 0.5528\n",
            "Epoch 4/10\n",
            "3/3 [==============================] - 0s 19ms/step - loss: 0.6882 - accuracy: 0.5416 - val_loss: 0.6990 - val_accuracy: 0.5528\n",
            "Epoch 5/10\n",
            "3/3 [==============================] - 0s 17ms/step - loss: 0.6874 - accuracy: 0.5389 - val_loss: 0.6994 - val_accuracy: 0.5610\n",
            "Epoch 6/10\n",
            "3/3 [==============================] - 0s 19ms/step - loss: 0.6866 - accuracy: 0.5389 - val_loss: 0.6997 - val_accuracy: 0.5528\n",
            "Epoch 7/10\n",
            "3/3 [==============================] - 0s 17ms/step - loss: 0.6859 - accuracy: 0.5362 - val_loss: 0.7003 - val_accuracy: 0.5528\n",
            "Epoch 8/10\n",
            "3/3 [==============================] - 0s 20ms/step - loss: 0.6851 - accuracy: 0.5416 - val_loss: 0.7007 - val_accuracy: 0.5528\n",
            "Epoch 9/10\n",
            "3/3 [==============================] - 0s 18ms/step - loss: 0.6845 - accuracy: 0.5442 - val_loss: 0.7014 - val_accuracy: 0.5528\n",
            "Epoch 10/10\n",
            "3/3 [==============================] - 0s 18ms/step - loss: 0.6839 - accuracy: 0.5442 - val_loss: 0.7019 - val_accuracy: 0.5528\n"
          ]
        }
      ],
      "source": [
        "#fit\n",
        "history = model3.fit(train_sequences, validation_data=test_sequences, epochs = 10)"
      ]
    },
    {
      "cell_type": "code",
      "execution_count": null,
      "metadata": {
        "colab": {
          "base_uri": "https://localhost:8080/",
          "height": 430
        },
        "id": "TGOkwm3BWu_8",
        "outputId": "48469f33-7526-4d87-9161-ea1dceae0189"
      },
      "outputs": [
        {
          "output_type": "display_data",
          "data": {
            "text/plain": [
              "<Figure size 640x480 with 1 Axes>"
            ],
            "image/png": "[encoded data removed]"
          },
          "metadata": {}
        }
      ],
      "source": [
        "#examine the loss\n",
        "plt.plot(history.history['accuracy'], label = 'Train')\n",
        "plt.plot(history.history['val_accuracy'], label = 'Val')\n",
        "plt.legend();"
      ]
    },
    {
      "cell_type": "code",
      "execution_count": null,
      "metadata": {
        "id": "bV47ku1fWu_9"
      },
      "outputs": [],
      "source": [
        "#stacking layers\n",
        "model4 = Sequential()\n",
        "model4.add(GRU(32, return_sequences = True))\n",
        "# model4.add(GRU(16, return_sequences = True))\n",
        "# model4.add(GRU(16, return_sequences = True))\n",
        "model4.add(GRU(16))\n",
        "model4.add(Dense(100, activation = 'relu'))\n",
        "model4.add(Dense(1, activation = 'sigmoid'))\n",
        "model4.compile(loss = 'bce', metrics = ['accuracy'])\n",
        "history = model4.fit(train_sequences, validation_data = test_sequences, epochs = 50, verbose = 0)"
      ]
    },
    {
      "cell_type": "code",
      "source": [
        "plt.plot(history.history['accuracy'], label = 'Train')\n",
        "plt.plot(history.history['val_accuracy'], label = 'Val')\n",
        "plt.legend();"
      ],
      "metadata": {
        "colab": {
          "base_uri": "https://localhost:8080/",
          "height": 430
        },
        "id": "dvY1s5DaoqEh",
        "outputId": "df577b50-59f6-4c96-e0a6-76c9a1113d7b"
      },
      "execution_count": null,
      "outputs": [
        {
          "output_type": "display_data",
          "data": {
            "text/plain": [
              "<Figure size 640x480 with 1 Axes>"
            ],
            "image/png": "[encoded data removed]"
          },
          "metadata": {}
        }
      ]
    },
    {
      "cell_type": "markdown",
      "metadata": {
        "id": "dbM9HQB2Wu_9"
      },
      "source": [
        "### Sequential Models for Text\n",
        "-------\n",
        "\n",
        "Now, we use the Keras `Tokenizer` to preprocess our spam data and feed it through different architectures of sequential network models."
      ]
    },
    {
      "cell_type": "code",
      "execution_count": null,
      "metadata": {
        "id": "aHMk39bnWu_-"
      },
      "outputs": [],
      "source": [
        "import pandas as pd\n",
        "import numpy as np"
      ]
    },
    {
      "cell_type": "code",
      "execution_count": null,
      "metadata": {
        "id": "GcRxPpALWu_-"
      },
      "outputs": [],
      "source": [
        "from keras.preprocessing.text import Tokenizer"
      ]
    },
    {
      "cell_type": "code",
      "execution_count": null,
      "metadata": {
        "id": "Jd-0ZXXiWu_-"
      },
      "outputs": [],
      "source": [
        "spam = pd.read_csv('sms_spam.csv')"
      ]
    },
    {
      "cell_type": "code",
      "execution_count": null,
      "metadata": {
        "colab": {
          "base_uri": "https://localhost:8080/",
          "height": 206
        },
        "id": "GkZYEe0sWu_-",
        "outputId": "da3c1365-85fc-4395-855e-4533ceb05dbe"
      },
      "outputs": [
        {
          "output_type": "execute_result",
          "data": {
            "text/plain": [
              "   type                                               text\n",
              "0   ham  Hope you are having a good week. Just checking in\n",
              "1   ham                            K..give back my thanks.\n",
              "2   ham        Am also doing in cbe only. But have to pay.\n",
              "3  spam  complimentary 4 STAR Ibiza Holiday or £10,000 ...\n",
              "4  spam  okmail: Dear Dave this is your final notice to..."
            ],
            "text/html": [
              "\n",
              "  <div id=\"df-2a767852-6756-4aa4-bea7-34bae1ce3314\" class=\"colab-df-container\">\n",
              "    <div>\n",
              "<style scoped>\n",
              "    .dataframe tbody tr th:only-of-type {\n",
              "        vertical-align: middle;\n",
              "    }\n",
              "\n",
              "    .dataframe tbody tr th {\n",
              "        vertical-align: top;\n",
              "    }\n",
              "\n",
              "    .dataframe thead th {\n",
              "        text-align: right;\n",
              "    }\n",
              "</style>\n",
              "<table border=\"1\" class=\"dataframe\">\n",
              "  <thead>\n",
              "    <tr style=\"text-align: right;\">\n",
              "      <th></th>\n",
              "      <th>type</th>\n",
              "      <th>text</th>\n",
              "    </tr>\n",
              "  </thead>\n",
              "  <tbody>\n",
              "    <tr>\n",
              "      <th>0</th>\n",
              "      <td>ham</td>\n",
              "      <td>Hope you are having a good week. Just checking in</td>\n",
              "    </tr>\n",
              "    <tr>\n",
              "      <th>1</th>\n",
              "      <td>ham</td>\n",
              "      <td>K..give back my thanks.</td>\n",
              "    </tr>\n",
              "    <tr>\n",
              "      <th>2</th>\n",
              "      <td>ham</td>\n",
              "      <td>Am also doing in cbe only. But have to pay.</td>\n",
              "    </tr>\n",
              "    <tr>\n",
              "      <th>3</th>\n",
              "      <td>spam</td>\n",
              "      <td>complimentary 4 STAR Ibiza Holiday or £10,000 ...</td>\n",
              "    </tr>\n",
              "    <tr>\n",
              "      <th>4</th>\n",
              "      <td>spam</td>\n",
              "      <td>okmail: Dear Dave this is your final notice to...</td>\n",
              "    </tr>\n",
              "  </tbody>\n",
              "</table>\n",
              "</div>\n",
              "    <div class=\"colab-df-buttons\">\n",
              "\n",
              "  <div class=\"colab-df-container\">\n",
              "    <button class=\"colab-df-convert\" onclick=\"convertToInteractive('df-2a767852-6756-4aa4-bea7-34bae1ce3314')\"\n",
              "            title=\"Convert this dataframe to an interactive table.\"\n",
              "            style=\"display:none;\">\n",
              "\n",
              "  <svg xmlns=\"http://www.w3.org/2000/svg\" height=\"24px\" viewBox=\"0 -960 960 960\">\n",
              "    <path d=\"M120-120v-720h720v720H120Zm60-500h600v-160H180v160Zm220 220h160v-160H400v160Zm0 220h160v-160H400v160ZM180-400h160v-160H180v160Zm440 0h160v-160H620v160ZM180-180h160v-160H180v160Zm440 0h160v-160H620v160Z\"/>\n",
              "  </svg>\n",
              "    </button>\n",
              "\n",
              "  <style>\n",
              "    .colab-df-container {\n",
              "      display:flex;\n",
              "      gap: 12px;\n",
              "    }\n",
              "\n",
              "    .colab-df-convert {\n",
              "      background-color: #E8F0FE;\n",
              "      border: none;\n",
              "      border-radius: 50%;\n",
              "      cursor: pointer;\n",
              "      display: none;\n",
              "      fill: #1967D2;\n",
              "      height: 32px;\n",
              "      padding: 0 0 0 0;\n",
              "      width: 32px;\n",
              "    }\n",
              "\n",
              "    .colab-df-convert:hover {\n",
              "      background-color: #E2EBFA;\n",
              "      box-shadow: 0px 1px 2px rgba(60, 64, 67, 0.3), 0px 1px 3px 1px rgba(60, 64, 67, 0.15);\n",
              "      fill: #174EA6;\n",
              "    }\n",
              "\n",
              "    .colab-df-buttons div {\n",
              "      margin-bottom: 4px;\n",
              "    }\n",
              "\n",
              "    [theme=dark] .colab-df-convert {\n",
              "      background-color: #3B4455;\n",
              "      fill: #D2E3FC;\n",
              "    }\n",
              "\n",
              "    [theme=dark] .colab-df-convert:hover {\n",
              "      background-color: #434B5C;\n",
              "      box-shadow: 0px 1px 3px 1px rgba(0, 0, 0, 0.15);\n",
              "      filter: drop-shadow(0px 1px 2px rgba(0, 0, 0, 0.3));\n",
              "      fill: #FFFFFF;\n",
              "    }\n",
              "  </style>\n",
              "\n",
              "    <script>\n",
              "      const buttonEl =\n",
              "        document.querySelector('#df-2a767852-6756-4aa4-bea7-34bae1ce3314 button.colab-df-convert');\n",
              "      buttonEl.style.display =\n",
              "        google.colab.kernel.accessAllowed ? 'block' : 'none';\n",
              "\n",
              "      async function convertToInteractive(key) {\n",
              "        const element = document.querySelector('#df-2a767852-6756-4aa4-bea7-34bae1ce3314');\n",
              "        const dataTable =\n",
              "          await google.colab.kernel.invokeFunction('convertToInteractive',\n",
              "                                                    [key], {});\n",
              "        if (!dataTable) return;\n",
              "\n",
              "        const docLinkHtml = 'Like what you see? Visit the ' +\n",
              "          '<a target=\"_blank\" href=https://colab.research.google.com/notebooks/data_table.ipynb>data table notebook</a>'\n",
              "          + ' to learn more about interactive tables.';\n",
              "        element.innerHTML = '';\n",
              "        dataTable['output_type'] = 'display_data';\n",
              "        await google.colab.output.renderOutput(dataTable, element);\n",
              "        const docLink = document.createElement('div');\n",
              "        docLink.innerHTML = docLinkHtml;\n",
              "        element.appendChild(docLink);\n",
              "      }\n",
              "    </script>\n",
              "  </div>\n",
              "\n",
              "\n",
              "<div id=\"df-4d88531f-1624-4dc8-b886-19f37ba0aeb1\">\n",
              "  <button class=\"colab-df-quickchart\" onclick=\"quickchart('df-4d88531f-1624-4dc8-b886-19f37ba0aeb1')\"\n",
              "            title=\"Suggest charts\"\n",
              "            style=\"display:none;\">\n",
              "\n",
              "<svg xmlns=\"http://www.w3.org/2000/svg\" height=\"24px\"viewBox=\"0 0 24 24\"\n",
              "     width=\"24px\">\n",
              "    <g>\n",
              "        <path d=\"M19 3H5c-1.1 0-2 .9-2 2v14c0 1.1.9 2 2 2h14c1.1 0 2-.9 2-2V5c0-1.1-.9-2-2-2zM9 17H7v-7h2v7zm4 0h-2V7h2v10zm4 0h-2v-4h2v4z\"/>\n",
              "    </g>\n",
              "</svg>\n",
              "  </button>\n",
              "\n",
              "<style>\n",
              "  .colab-df-quickchart {\n",
              "      --bg-color: #E8F0FE;\n",
              "      --fill-color: #1967D2;\n",
              "      --hover-bg-color: #E2EBFA;\n",
              "      --hover-fill-color: #174EA6;\n",
              "      --disabled-fill-color: #AAA;\n",
              "      --disabled-bg-color: #DDD;\n",
              "  }\n",
              "\n",
              "  [theme=dark] .colab-df-quickchart {\n",
              "      --bg-color: #3B4455;\n",
              "      --fill-color: #D2E3FC;\n",
              "      --hover-bg-color: #434B5C;\n",
              "      --hover-fill-color: #FFFFFF;\n",
              "      --disabled-bg-color: #3B4455;\n",
              "      --disabled-fill-color: #666;\n",
              "  }\n",
              "\n",
              "  .colab-df-quickchart {\n",
              "    background-color: var(--bg-color);\n",
              "    border: none;\n",
              "    border-radius: 50%;\n",
              "    cursor: pointer;\n",
              "    display: none;\n",
              "    fill: var(--fill-color);\n",
              "    height: 32px;\n",
              "    padding: 0;\n",
              "    width: 32px;\n",
              "  }\n",
              "\n",
              "  .colab-df-quickchart:hover {\n",
              "    background-color: var(--hover-bg-color);\n",
              "    box-shadow: 0 1px 2px rgba(60, 64, 67, 0.3), 0 1px 3px 1px rgba(60, 64, 67, 0.15);\n",
              "    fill: var(--button-hover-fill-color);\n",
              "  }\n",
              "\n",
              "  .colab-df-quickchart-complete:disabled,\n",
              "  .colab-df-quickchart-complete:disabled:hover {\n",
              "    background-color: var(--disabled-bg-color);\n",
              "    fill: var(--disabled-fill-color);\n",
              "    box-shadow: none;\n",
              "  }\n",
              "\n",
              "  .colab-df-spinner {\n",
              "    border: 2px solid var(--fill-color);\n",
              "    border-color: transparent;\n",
              "    border-bottom-color: var(--fill-color);\n",
              "    animation:\n",
              "      spin 1s steps(1) infinite;\n",
              "  }\n",
              "\n",
              "  @keyframes spin {\n",
              "    0% {\n",
              "      border-color: transparent;\n",
              "      border-bottom-color: var(--fill-color);\n",
              "      border-left-color: var(--fill-color);\n",
              "    }\n",
              "    20% {\n",
              "      border-color: transparent;\n",
              "      border-left-color: var(--fill-color);\n",
              "      border-top-color: var(--fill-color);\n",
              "    }\n",
              "    30% {\n",
              "      border-color: transparent;\n",
              "      border-left-color: var(--fill-color);\n",
              "      border-top-color: var(--fill-color);\n",
              "      border-right-color: var(--fill-color);\n",
              "    }\n",
              "    40% {\n",
              "      border-color: transparent;\n",
              "      border-right-color: var(--fill-color);\n",
              "      border-top-color: var(--fill-color);\n",
              "    }\n",
              "    60% {\n",
              "      border-color: transparent;\n",
              "      border-right-color: var(--fill-color);\n",
              "    }\n",
              "    80% {\n",
              "      border-color: transparent;\n",
              "      border-right-color: var(--fill-color);\n",
              "      border-bottom-color: var(--fill-color);\n",
              "    }\n",
              "    90% {\n",
              "      border-color: transparent;\n",
              "      border-bottom-color: var(--fill-color);\n",
              "    }\n",
              "  }\n",
              "</style>\n",
              "\n",
              "  <script>\n",
              "    async function quickchart(key) {\n",
              "      const quickchartButtonEl =\n",
              "        document.querySelector('#' + key + ' button');\n",
              "      quickchartButtonEl.disabled = true;  // To prevent multiple clicks.\n",
              "      quickchartButtonEl.classList.add('colab-df-spinner');\n",
              "      try {\n",
              "        const charts = await google.colab.kernel.invokeFunction(\n",
              "            'suggestCharts', [key], {});\n",
              "      } catch (error) {\n",
              "        console.error('Error during call to suggestCharts:', error);\n",
              "      }\n",
              "      quickchartButtonEl.classList.remove('colab-df-spinner');\n",
              "      quickchartButtonEl.classList.add('colab-df-quickchart-complete');\n",
              "    }\n",
              "    (() => {\n",
              "      let quickchartButtonEl =\n",
              "        document.querySelector('#df-4d88531f-1624-4dc8-b886-19f37ba0aeb1 button');\n",
              "      quickchartButtonEl.style.display =\n",
              "        google.colab.kernel.accessAllowed ? 'block' : 'none';\n",
              "    })();\n",
              "  </script>\n",
              "</div>\n",
              "    </div>\n",
              "  </div>\n"
            ]
          },
          "metadata": {},
          "execution_count": 180
        }
      ],
      "source": [
        "spam.head()"
      ]
    },
    {
      "cell_type": "markdown",
      "metadata": {
        "id": "oru06UOKWu_-"
      },
      "source": [
        "### `Tokenizer`\n",
        "------\n",
        "Here, we set the limit to the number of words at 500, then fit the texts, and finally transform our text to sequences of integer values with the `.texts_to_sequences`.  To assure the same length we use the `pad_sequences` function.  "
      ]
    },
    {
      "cell_type": "code",
      "execution_count": null,
      "metadata": {
        "id": "VSqNfyMCWu_-"
      },
      "outputs": [],
      "source": [
        "#create a tokenizer and specify the vocabulary\n",
        "tokenizer = Tokenizer(500)"
      ]
    },
    {
      "cell_type": "code",
      "execution_count": null,
      "metadata": {
        "id": "rrJ3y8hYWu_-"
      },
      "outputs": [],
      "source": [
        "#fit it on text\n",
        "tokenizer.fit_on_texts(spam['text'])"
      ]
    },
    {
      "cell_type": "code",
      "execution_count": null,
      "metadata": {
        "id": "genzCtf2Wu__"
      },
      "outputs": [],
      "source": [
        "#generate sequences\n",
        "sequences = tokenizer.texts_to_sequences(spam['text'])"
      ]
    },
    {
      "cell_type": "code",
      "execution_count": null,
      "metadata": {
        "colab": {
          "base_uri": "https://localhost:8080/"
        },
        "id": "vgX70hTqWu__",
        "outputId": "c4151db4-9862-47c7-c09d-36563fa8d0f3"
      },
      "outputs": [
        {
          "output_type": "execute_result",
          "data": {
            "text/plain": [
              "[[122, 3, 22, 313, 4, 53, 110, 37, 8],\n",
              " [92, 134, 86, 11, 170],\n",
              " [60, 179, 155, 8, 62, 24, 17, 2, 387]]"
            ]
          },
          "metadata": {},
          "execution_count": 184
        }
      ],
      "source": [
        "sequences[:3]"
      ]
    },
    {
      "cell_type": "code",
      "execution_count": null,
      "metadata": {
        "id": "VzO5K_5BWu__"
      },
      "outputs": [],
      "source": [
        "from tensorflow.keras.utils import pad_sequences"
      ]
    },
    {
      "cell_type": "code",
      "execution_count": null,
      "metadata": {
        "id": "AO4CT73UWu__"
      },
      "outputs": [],
      "source": [
        "#pad sequences to 100\n",
        "X = pad_sequences(sequences, maxlen = 100)"
      ]
    },
    {
      "cell_type": "code",
      "execution_count": null,
      "metadata": {
        "colab": {
          "base_uri": "https://localhost:8080/"
        },
        "id": "hHaOWyq7Wu__",
        "outputId": "f545889d-4be4-47ff-ba68-7be9048e5fd7"
      },
      "outputs": [
        {
          "output_type": "execute_result",
          "data": {
            "text/plain": [
              "array([  0,   0,   0,   0,   0,   0,   0,   0,   0,   0,   0,   0,   0,\n",
              "         0,   0,   0,   0,   0,   0,   0,   0,   0,   0,   0,   0,   0,\n",
              "         0,   0,   0,   0,   0,   0,   0,   0,   0,   0,   0,   0,   0,\n",
              "         0,   0,   0,   0,   0,   0,   0,   0,   0,   0,   0,   0,   0,\n",
              "         0,   0,   0,   0,   0,   0,   0,   0,   0,   0,   0,   0,   0,\n",
              "         0,   0,   0,   0,   0,   0,   0,   0,   0,   0,   0,   0,   0,\n",
              "         0,   0,   0,   0,   0,   0,   0,   0,   0,   0,   0,   0,   0,\n",
              "       122,   3,  22, 313,   4,  53, 110,  37,   8], dtype=int32)"
            ]
          },
          "metadata": {},
          "execution_count": 187
        }
      ],
      "source": [
        "#take a peek\n",
        "X[0]"
      ]
    },
    {
      "cell_type": "code",
      "execution_count": null,
      "metadata": {
        "id": "IRltAyRzWu__",
        "colab": {
          "base_uri": "https://localhost:8080/"
        },
        "outputId": "59dea758-c9cc-413c-b00b-800262430432"
      },
      "outputs": [
        {
          "output_type": "execute_result",
          "data": {
            "text/plain": [
              "(5559, 100)"
            ]
          },
          "metadata": {},
          "execution_count": 188
        }
      ],
      "source": [
        "X.shape"
      ]
    },
    {
      "cell_type": "markdown",
      "metadata": {
        "id": "fd2ScTtzWu__"
      },
      "source": [
        "### Model\n",
        "-------"
      ]
    },
    {
      "cell_type": "code",
      "execution_count": null,
      "metadata": {
        "id": "_lF3oihUWvAA"
      },
      "outputs": [],
      "source": [
        "from keras.layers import Embedding"
      ]
    },
    {
      "cell_type": "code",
      "execution_count": null,
      "metadata": {
        "id": "QJqJ4-aXWvAA"
      },
      "outputs": [],
      "source": [
        "#sequential model\n",
        "text_model1 = Sequential()\n",
        "#embedding layer\n",
        "text_model1.add(Embedding(input_dim = tokenizer.num_words, output_dim = 64))\n",
        "#simple RNN\n",
        "text_model1.add(SimpleRNN(16))\n",
        "#dense layer\n",
        "text_model1.add(Dense(20, activation = 'relu'))\n",
        "#output\n",
        "text_model1.add(Dense(1, activation = 'sigmoid'))\n",
        "#compilation\n",
        "text_model1.compile(loss = 'bce', metrics = ['accuracy'])"
      ]
    },
    {
      "cell_type": "code",
      "execution_count": null,
      "metadata": {
        "id": "vJ0xyyZRWvAA"
      },
      "outputs": [],
      "source": [
        "#make y binary\n",
        "y = np.where(spam['type'] == 'ham', 0, 1)"
      ]
    },
    {
      "cell_type": "code",
      "execution_count": null,
      "metadata": {
        "colab": {
          "base_uri": "https://localhost:8080/"
        },
        "id": "6bG_xUNdWvAA",
        "outputId": "0cacd645-8ee2-497d-9ae1-b8fa690f6fa9"
      },
      "outputs": [
        {
          "output_type": "execute_result",
          "data": {
            "text/plain": [
              "0.8656233135456017"
            ]
          },
          "metadata": {},
          "execution_count": 192
        }
      ],
      "source": [
        "#baseline?\n",
        "1 - np.mean(y)"
      ]
    },
    {
      "cell_type": "code",
      "execution_count": null,
      "metadata": {
        "colab": {
          "base_uri": "https://localhost:8080/"
        },
        "id": "pNeWudIHWvAA",
        "outputId": "19622c66-9988-47bf-a1b2-da3c7e1fd698"
      },
      "outputs": [
        {
          "output_type": "stream",
          "name": "stdout",
          "text": [
            "Epoch 1/10\n",
            "186/186 [==============================] - 6s 22ms/step - loss: 0.2242 - accuracy: 0.9249 - val_loss: 0.0756 - val_accuracy: 0.9775\n",
            "Epoch 2/10\n",
            "186/186 [==============================] - 5s 26ms/step - loss: 0.0582 - accuracy: 0.9829 - val_loss: 0.0621 - val_accuracy: 0.9784\n",
            "Epoch 3/10\n",
            "186/186 [==============================] - 4s 20ms/step - loss: 0.0484 - accuracy: 0.9867 - val_loss: 0.0610 - val_accuracy: 0.9829\n",
            "Epoch 4/10\n",
            "186/186 [==============================] - 4s 20ms/step - loss: 0.0459 - accuracy: 0.9865 - val_loss: 0.0580 - val_accuracy: 0.9802\n",
            "Epoch 5/10\n",
            "186/186 [==============================] - 5s 26ms/step - loss: 0.0355 - accuracy: 0.9908 - val_loss: 0.0657 - val_accuracy: 0.9811\n",
            "Epoch 6/10\n",
            "186/186 [==============================] - 4s 20ms/step - loss: 0.0292 - accuracy: 0.9928 - val_loss: 0.0596 - val_accuracy: 0.9820\n",
            "Epoch 7/10\n",
            "186/186 [==============================] - 4s 20ms/step - loss: 0.0234 - accuracy: 0.9939 - val_loss: 0.0621 - val_accuracy: 0.9811\n",
            "Epoch 8/10\n",
            "186/186 [==============================] - 5s 26ms/step - loss: 0.0191 - accuracy: 0.9955 - val_loss: 0.0740 - val_accuracy: 0.9820\n",
            "Epoch 9/10\n",
            "186/186 [==============================] - 4s 20ms/step - loss: 0.0152 - accuracy: 0.9957 - val_loss: 0.1036 - val_accuracy: 0.9703\n",
            "Epoch 10/10\n",
            "186/186 [==============================] - 4s 20ms/step - loss: 0.0111 - accuracy: 0.9973 - val_loss: 0.0921 - val_accuracy: 0.9775\n"
          ]
        }
      ],
      "source": [
        "#fit it\n",
        "history = text_model1.fit(X, y, validation_split = .2, epochs = 10, batch_size = 24)"
      ]
    },
    {
      "cell_type": "code",
      "execution_count": null,
      "metadata": {
        "colab": {
          "base_uri": "https://localhost:8080/",
          "height": 431
        },
        "id": "HfP4O4HdWvAA",
        "outputId": "e74b6e06-1a42-440e-9148-469dcf559771"
      },
      "outputs": [
        {
          "output_type": "display_data",
          "data": {
            "text/plain": [
              "<Figure size 640x480 with 1 Axes>"
            ],
            "image/png": "[encoded data removed]"
          },
          "metadata": {}
        }
      ],
      "source": [
        "plt.plot(history.history['accuracy'], label = 'Train')\n",
        "plt.plot(history.history['val_accuracy'], label = 'Test')\n",
        "plt.legend();"
      ]
    },
    {
      "cell_type": "markdown",
      "metadata": {
        "id": "fHZ1hWozWvAB"
      },
      "source": [
        "### Improving the Model\n",
        "-----\n",
        "\n",
        "- `LSTM` layers\n",
        "- `GRU` layers\n",
        "- `recurrent_dropout`\n",
        "- `dropout`\n",
        "- `Bidirectional` layers"
      ]
    },
    {
      "cell_type": "code",
      "execution_count": null,
      "metadata": {
        "colab": {
          "base_uri": "https://localhost:8080/"
        },
        "id": "fPnbl3FmWvAB",
        "outputId": "93ba0706-3ab2-48dd-93bb-a71bde0582c7"
      },
      "outputs": [
        {
          "output_type": "stream",
          "name": "stdout",
          "text": [
            "Epoch 1/10\n",
            "139/139 [==============================] - 8s 45ms/step - loss: 0.3003 - acc: 0.9060 - val_loss: 0.0813 - val_acc: 0.9784\n",
            "Epoch 2/10\n",
            "139/139 [==============================] - 5s 35ms/step - loss: 0.0611 - acc: 0.9831 - val_loss: 0.0527 - val_acc: 0.9847\n",
            "Epoch 3/10\n",
            "139/139 [==============================] - 6s 44ms/step - loss: 0.0420 - acc: 0.9901 - val_loss: 0.0538 - val_acc: 0.9838\n",
            "Epoch 4/10\n",
            "139/139 [==============================] - 5s 34ms/step - loss: 0.0346 - acc: 0.9910 - val_loss: 0.0534 - val_acc: 0.9820\n",
            "Epoch 5/10\n",
            "139/139 [==============================] - 5s 37ms/step - loss: 0.0288 - acc: 0.9930 - val_loss: 0.0553 - val_acc: 0.9829\n",
            "Epoch 6/10\n",
            "139/139 [==============================] - 5s 39ms/step - loss: 0.0249 - acc: 0.9930 - val_loss: 0.0568 - val_acc: 0.9856\n",
            "Epoch 7/10\n",
            "139/139 [==============================] - 5s 35ms/step - loss: 0.0208 - acc: 0.9948 - val_loss: 0.0592 - val_acc: 0.9838\n",
            "Epoch 8/10\n",
            "139/139 [==============================] - 6s 42ms/step - loss: 0.0192 - acc: 0.9957 - val_loss: 0.0624 - val_acc: 0.9829\n",
            "Epoch 9/10\n",
            "139/139 [==============================] - 5s 35ms/step - loss: 0.0176 - acc: 0.9957 - val_loss: 0.0769 - val_acc: 0.9784\n",
            "Epoch 10/10\n",
            "139/139 [==============================] - 6s 42ms/step - loss: 0.0165 - acc: 0.9962 - val_loss: 0.0697 - val_acc: 0.9838\n"
          ]
        },
        {
          "output_type": "execute_result",
          "data": {
            "text/plain": [
              "<keras.src.callbacks.History at 0x79f375874400>"
            ]
          },
          "metadata": {},
          "execution_count": 195
        }
      ],
      "source": [
        "model = Sequential()\n",
        "model.add(Embedding(input_dim = tokenizer.num_words, output_dim = 64))\n",
        "model.add(GRU(16))\n",
        "model.add(Dense(20, activation = 'relu'))\n",
        "model.add(Dense(1, activation = 'sigmoid'))\n",
        "model.compile(loss = 'bce', optimizer = 'adam', metrics = ['acc'])\n",
        "model.fit(X, y, validation_split = 0.2, epochs = 10)"
      ]
    },
    {
      "cell_type": "code",
      "execution_count": null,
      "metadata": {
        "colab": {
          "base_uri": "https://localhost:8080/"
        },
        "id": "wuAAVZF6WvAB",
        "outputId": "3b8250d5-8772-484d-92e4-e3d93d5cbe21"
      },
      "outputs": [
        {
          "output_type": "stream",
          "name": "stdout",
          "text": [
            "174/174 [==============================] - 14s 68ms/step - loss: 0.2637 - acc: 0.9146\n"
          ]
        },
        {
          "output_type": "execute_result",
          "data": {
            "text/plain": [
              "<keras.src.callbacks.History at 0x79f377974040>"
            ]
          },
          "metadata": {},
          "execution_count": 196
        }
      ],
      "source": [
        "model = Sequential()\n",
        "model.add(Embedding(input_dim = tokenizer.num_words, output_dim = 64))\n",
        "model.add(GRU(16, recurrent_dropout = 0.2))\n",
        "model.add(Dense(20, activation = 'relu'))\n",
        "model.add(Dense(1, activation = 'sigmoid'))\n",
        "model.compile(loss = 'bce', optimizer = 'adam', metrics = ['acc'])\n",
        "model.fit(X, y)"
      ]
    },
    {
      "cell_type": "code",
      "execution_count": null,
      "metadata": {
        "colab": {
          "base_uri": "https://localhost:8080/"
        },
        "id": "V3oT3ULaWvAB",
        "outputId": "763cf1fc-d8d4-4781-adb3-b8e0e29dac64"
      },
      "outputs": [
        {
          "output_type": "stream",
          "name": "stdout",
          "text": [
            "Epoch 1/10\n",
            "139/139 [==============================] - 15s 82ms/step - loss: 0.2879 - acc: 0.9074 - val_loss: 0.0999 - val_acc: 0.9721\n",
            "Epoch 2/10\n",
            "139/139 [==============================] - 11s 75ms/step - loss: 0.0662 - acc: 0.9820 - val_loss: 0.0587 - val_acc: 0.9838\n",
            "Epoch 3/10\n",
            "139/139 [==============================] - 11s 81ms/step - loss: 0.0447 - acc: 0.9879 - val_loss: 0.0519 - val_acc: 0.9865\n",
            "Epoch 4/10\n",
            "139/139 [==============================] - 11s 81ms/step - loss: 0.0371 - acc: 0.9912 - val_loss: 0.0550 - val_acc: 0.9829\n",
            "Epoch 5/10\n",
            "139/139 [==============================] - 11s 81ms/step - loss: 0.0308 - acc: 0.9930 - val_loss: 0.0554 - val_acc: 0.9847\n",
            "Epoch 6/10\n",
            "139/139 [==============================] - 11s 81ms/step - loss: 0.0267 - acc: 0.9937 - val_loss: 0.0729 - val_acc: 0.9802\n",
            "Epoch 7/10\n",
            "139/139 [==============================] - 11s 82ms/step - loss: 0.0267 - acc: 0.9921 - val_loss: 0.0578 - val_acc: 0.9838\n",
            "Epoch 8/10\n",
            "139/139 [==============================] - 11s 80ms/step - loss: 0.0244 - acc: 0.9921 - val_loss: 0.0543 - val_acc: 0.9856\n",
            "Epoch 9/10\n",
            "139/139 [==============================] - 11s 81ms/step - loss: 0.0216 - acc: 0.9939 - val_loss: 0.0684 - val_acc: 0.9820\n",
            "Epoch 10/10\n",
            "139/139 [==============================] - 11s 81ms/step - loss: 0.0194 - acc: 0.9944 - val_loss: 0.0667 - val_acc: 0.9847\n"
          ]
        },
        {
          "output_type": "execute_result",
          "data": {
            "text/plain": [
              "<keras.src.callbacks.History at 0x79f362e7fd60>"
            ]
          },
          "metadata": {},
          "execution_count": 197
        }
      ],
      "source": [
        "model = Sequential()\n",
        "model.add(Embedding(input_dim = tokenizer.num_words, output_dim = 64))\n",
        "model.add(GRU(16, dropout = 0.2, recurrent_dropout = 0.2))\n",
        "model.add(Dense(20, activation = 'relu'))\n",
        "model.add(Dense(1, activation = 'sigmoid'))\n",
        "model.compile(loss = 'bce', optimizer = 'adam', metrics = ['acc'])\n",
        "model.fit(X, y, validation_split=.2, epochs = 10)"
      ]
    },
    {
      "cell_type": "code",
      "execution_count": null,
      "metadata": {
        "id": "o-Py6wcLWvAB"
      },
      "outputs": [],
      "source": [
        "from keras.layers import Bidirectional"
      ]
    },
    {
      "cell_type": "code",
      "execution_count": null,
      "metadata": {
        "colab": {
          "base_uri": "https://localhost:8080/"
        },
        "id": "AYnEA7tEWvAB",
        "outputId": "0f43bffd-c447-4261-bf3e-b5543b4cb1ea"
      },
      "outputs": [
        {
          "output_type": "stream",
          "name": "stdout",
          "text": [
            "Epoch 1/10\n",
            "139/139 [==============================] - 13s 67ms/step - loss: 0.2915 - acc: 0.8939 - val_loss: 0.0745 - val_acc: 0.9793\n",
            "Epoch 2/10\n",
            "139/139 [==============================] - 8s 58ms/step - loss: 0.0560 - acc: 0.9856 - val_loss: 0.0534 - val_acc: 0.9847\n",
            "Epoch 3/10\n",
            "139/139 [==============================] - 9s 64ms/step - loss: 0.0388 - acc: 0.9899 - val_loss: 0.0533 - val_acc: 0.9838\n",
            "Epoch 4/10\n",
            "139/139 [==============================] - 9s 65ms/step - loss: 0.0307 - acc: 0.9928 - val_loss: 0.0534 - val_acc: 0.9856\n",
            "Epoch 5/10\n",
            "139/139 [==============================] - 8s 57ms/step - loss: 0.0299 - acc: 0.9921 - val_loss: 0.0563 - val_acc: 0.9847\n",
            "Epoch 6/10\n",
            "139/139 [==============================] - 9s 64ms/step - loss: 0.0254 - acc: 0.9937 - val_loss: 0.0609 - val_acc: 0.9820\n",
            "Epoch 7/10\n",
            "139/139 [==============================] - 9s 64ms/step - loss: 0.0216 - acc: 0.9946 - val_loss: 0.0625 - val_acc: 0.9811\n",
            "Epoch 8/10\n",
            "139/139 [==============================] - 9s 64ms/step - loss: 0.0179 - acc: 0.9969 - val_loss: 0.0661 - val_acc: 0.9775\n",
            "Epoch 9/10\n",
            "139/139 [==============================] - 8s 59ms/step - loss: 0.0177 - acc: 0.9960 - val_loss: 0.0638 - val_acc: 0.9838\n",
            "Epoch 10/10\n",
            "139/139 [==============================] - 9s 64ms/step - loss: 0.0156 - acc: 0.9966 - val_loss: 0.0696 - val_acc: 0.9847\n"
          ]
        },
        {
          "output_type": "execute_result",
          "data": {
            "text/plain": [
              "<keras.src.callbacks.History at 0x79f36eaba710>"
            ]
          },
          "metadata": {},
          "execution_count": 199
        }
      ],
      "source": [
        "model = Sequential()\n",
        "model.add(Embedding(input_dim = tokenizer.num_words, output_dim = 64))\n",
        "model.add(Bidirectional(GRU(16)))\n",
        "model.add(Dense(20, activation = 'relu'))\n",
        "model.add(Dense(1, activation = 'sigmoid'))\n",
        "model.compile(loss = 'bce', optimizer = 'adam', metrics = ['acc'])\n",
        "model.fit(X, y, validation_split = 0.2, epochs = 10)"
      ]
    },
    {
      "cell_type": "markdown",
      "metadata": {
        "id": "DK8Zwt42WvAB"
      },
      "source": [
        "### Convolutional Networks in 1D\n",
        "--------"
      ]
    },
    {
      "cell_type": "code",
      "execution_count": null,
      "metadata": {
        "id": "mtHGeEIKWvAC"
      },
      "outputs": [],
      "source": [
        "from keras.layers import Conv1D, MaxPooling1D"
      ]
    },
    {
      "cell_type": "code",
      "execution_count": null,
      "metadata": {
        "id": "fi2eSznVWvAC"
      },
      "outputs": [],
      "source": [
        "model = Sequential()\n",
        "model.add(Embedding(input_dim = tokenizer.num_words, output_dim = 64))\n",
        "model.add(Conv1D(32, 10, activation = 'relu'))\n",
        "model.add(MaxPooling1D(4))\n",
        "model.add(Dense(20, activation = 'relu'))\n",
        "model.add(Dense(1, activation = 'sigmoid'))\n",
        "model.compile(loss = 'bce', metrics = ['acc'])"
      ]
    },
    {
      "cell_type": "code",
      "execution_count": null,
      "metadata": {
        "id": "Bno_NluPWvAC"
      },
      "outputs": [],
      "source": [
        "Y = y.reshape(-1, 1)"
      ]
    },
    {
      "cell_type": "code",
      "source": [
        "model.fit(X, Y, epochs = 10)"
      ],
      "metadata": {
        "colab": {
          "base_uri": "https://localhost:8080/"
        },
        "id": "EFAHSwZdveGq",
        "outputId": "c2034d2c-a050-4562-9a71-8dde0d8739b7"
      },
      "execution_count": null,
      "outputs": [
        {
          "output_type": "stream",
          "name": "stdout",
          "text": [
            "Epoch 1/10\n",
            "174/174 [==============================] - 3s 13ms/step - loss: 0.4094 - acc: 0.8616\n",
            "Epoch 2/10\n",
            "174/174 [==============================] - 2s 13ms/step - loss: 0.3781 - acc: 0.8739\n",
            "Epoch 3/10\n",
            "174/174 [==============================] - 3s 17ms/step - loss: 0.3663 - acc: 0.8788\n",
            "Epoch 4/10\n",
            "174/174 [==============================] - 3s 15ms/step - loss: 0.3624 - acc: 0.8804\n",
            "Epoch 5/10\n",
            "174/174 [==============================] - 2s 12ms/step - loss: 0.3598 - acc: 0.8811\n",
            "Epoch 6/10\n",
            "174/174 [==============================] - 2s 12ms/step - loss: 0.3580 - acc: 0.8818\n",
            "Epoch 7/10\n",
            "174/174 [==============================] - 2s 14ms/step - loss: 0.3570 - acc: 0.8822\n",
            "Epoch 8/10\n",
            "174/174 [==============================] - 3s 16ms/step - loss: 0.3551 - acc: 0.8825\n",
            "Epoch 9/10\n",
            "174/174 [==============================] - 3s 16ms/step - loss: 0.3543 - acc: 0.8828\n",
            "Epoch 10/10\n",
            "174/174 [==============================] - 2s 13ms/step - loss: 0.3534 - acc: 0.8831\n"
          ]
        },
        {
          "output_type": "execute_result",
          "data": {
            "text/plain": [
              "<keras.src.callbacks.History at 0x79f36d939e40>"
            ]
          },
          "metadata": {},
          "execution_count": 203
        }
      ]
    },
    {
      "cell_type": "code",
      "source": [],
      "metadata": {
        "id": "Mf4RfRdbvnnP"
      },
      "execution_count": null,
      "outputs": []
    }
  ],
  "metadata": {
    "kernelspec": {
      "display_name": "Python 3",
      "language": "python",
      "name": "python3"
    },
    "language_info": {
      "codemirror_mode": {
        "name": "ipython",
        "version": 3
      },
      "file_extension": ".py",
      "mimetype": "text/x-python",
      "name": "python",
      "nbconvert_exporter": "python",
      "pygments_lexer": "ipython3",
      "version": "3.8.3"
    },
    "colab": {
      "provenance": [],
      "include_colab_link": true
    }
  },
  "nbformat": 4,
  "nbformat_minor": 0
}