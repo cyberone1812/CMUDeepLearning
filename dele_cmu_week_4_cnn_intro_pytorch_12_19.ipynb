{
  "nbformat": 4,
  "nbformat_minor": 0,
  "metadata": {
    "colab": {
      "provenance": [],
      "include_colab_link": true
    },
    "kernelspec": {
      "name": "python3",
      "display_name": "Python 3"
    },
    "language_info": {
      "name": "python"
    },
    "accelerator": "GPU",
    "gpuClass": "standard"
  },
  "cells": [
    {
      "cell_type": "markdown",
      "metadata": {
        "id": "view-in-github",
        "colab_type": "text"
      },
      "source": [
        "<a href=\"https://colab.research.google.com/github/cyberone1812/CMUDeepLearning/blob/main/dele_cmu_week_4_cnn_intro_pytorch_12_19.ipynb\" target=\"_parent\"><img src=\"https://colab.research.google.com/assets/colab-badge.svg\" alt=\"Open In Colab\"/></a>"
      ]
    },
    {
      "cell_type": "markdown",
      "source": [
        "### Datasets and Convnets in `pytorch`\n",
        "\n",
        "\n",
        "- Use `ImageFolder` to load a folder of image files\n",
        "- Build Convolutional Network Architecture with `pytorch`\n",
        "- Build in Regularization with L2 Norm and Dropout"
      ],
      "metadata": {
        "id": "YouhtCkUUew9"
      }
    },
    {
      "cell_type": "code",
      "source": [
        "from torchvision.datasets import ImageFolder\n",
        "from torch.utils.data import Dataset, DataLoader\n",
        "\n",
        "import torch\n",
        "from torch import optim\n",
        "from torchvision.transforms import ToTensor, Resize, Compose, Normalize\n",
        "import torch.nn as nn\n",
        "\n",
        "import pandas as pd\n",
        "import numpy as np\n",
        "import matplotlib.pyplot as plt"
      ],
      "metadata": {
        "id": "IM9dptJbr2Ig"
      },
      "execution_count": null,
      "outputs": []
    },
    {
      "cell_type": "code",
      "source": [
        "a = np.random.randint(low = 0, high = 4, size = 20).reshape(2, 2, 5)\n",
        "a"
      ],
      "metadata": {
        "colab": {
          "base_uri": "https://localhost:8080/"
        },
        "id": "-4rKfNfnMeSw",
        "outputId": "3fde04ae-f7cc-4f86-b2bb-5705ac96ff8a"
      },
      "execution_count": null,
      "outputs": [
        {
          "output_type": "execute_result",
          "data": {
            "text/plain": [
              "array([[[0, 3, 1, 0, 2],\n",
              "        [0, 1, 1, 1, 1]],\n",
              "\n",
              "       [[0, 0, 0, 2, 3],\n",
              "        [1, 2, 1, 0, 0]]])"
            ]
          },
          "metadata": {},
          "execution_count": 2
        }
      ]
    },
    {
      "cell_type": "code",
      "source": [
        "b = np.random.randint(low = 0, high = 4, size = 8).reshape(2, 2, 2)"
      ],
      "metadata": {
        "id": "bnQvJCtyMeOj"
      },
      "execution_count": null,
      "outputs": []
    },
    {
      "cell_type": "code",
      "source": [
        "b"
      ],
      "metadata": {
        "colab": {
          "base_uri": "https://localhost:8080/"
        },
        "id": "8Nw2BiFjMeLM",
        "outputId": "f9e52311-7aef-4451-9ce0-c16bf70af12c"
      },
      "execution_count": null,
      "outputs": [
        {
          "output_type": "execute_result",
          "data": {
            "text/plain": [
              "array([[[3, 2],\n",
              "        [0, 1]],\n",
              "\n",
              "       [[0, 2],\n",
              "        [0, 1]]])"
            ]
          },
          "metadata": {},
          "execution_count": 4
        }
      ]
    },
    {
      "cell_type": "code",
      "source": [
        "np.tensordot(a, b, axes=([0, 1], [0, 1])).shape"
      ],
      "metadata": {
        "colab": {
          "base_uri": "https://localhost:8080/",
          "height": 321
        },
        "id": "OPfWaFQwMeID",
        "outputId": "f1ff4d32-19db-410c-85e7-e422d476052b"
      },
      "execution_count": null,
      "outputs": [
        {
          "output_type": "error",
          "ename": "ValueError",
          "evalue": "ignored",
          "traceback": [
            "\u001b[0;31m---------------------------------------------------------------------------\u001b[0m",
            "\u001b[0;31mValueError\u001b[0m                                Traceback (most recent call last)",
            "\u001b[0;32m<ipython-input-9-1682227a99c2>\u001b[0m in \u001b[0;36m<cell line: 1>\u001b[0;34m()\u001b[0m\n\u001b[0;32m----> 1\u001b[0;31m \u001b[0mnp\u001b[0m\u001b[0;34m.\u001b[0m\u001b[0mtensordot\u001b[0m\u001b[0;34m(\u001b[0m\u001b[0ma\u001b[0m\u001b[0;34m,\u001b[0m \u001b[0mb\u001b[0m\u001b[0;34m,\u001b[0m \u001b[0maxes\u001b[0m\u001b[0;34m=\u001b[0m\u001b[0;34m(\u001b[0m\u001b[0;34m[\u001b[0m\u001b[0;36m1\u001b[0m\u001b[0;34m,\u001b[0m \u001b[0;36m1\u001b[0m\u001b[0;34m]\u001b[0m\u001b[0;34m,\u001b[0m \u001b[0;34m[\u001b[0m\u001b[0;36m1\u001b[0m\u001b[0;34m,\u001b[0m \u001b[0;36m1\u001b[0m\u001b[0;34m]\u001b[0m\u001b[0;34m)\u001b[0m\u001b[0;34m)\u001b[0m\u001b[0;34m.\u001b[0m\u001b[0mshape\u001b[0m\u001b[0;34m\u001b[0m\u001b[0;34m\u001b[0m\u001b[0m\n\u001b[0m",
            "\u001b[0;32m/usr/local/lib/python3.10/dist-packages/numpy/core/overrides.py\u001b[0m in \u001b[0;36mtensordot\u001b[0;34m(*args, **kwargs)\u001b[0m\n",
            "\u001b[0;32m/usr/local/lib/python3.10/dist-packages/numpy/core/numeric.py\u001b[0m in \u001b[0;36mtensordot\u001b[0;34m(a, b, axes)\u001b[0m\n\u001b[1;32m   1114\u001b[0m                 \u001b[0maxes_b\u001b[0m\u001b[0;34m[\u001b[0m\u001b[0mk\u001b[0m\u001b[0;34m]\u001b[0m \u001b[0;34m+=\u001b[0m \u001b[0mndb\u001b[0m\u001b[0;34m\u001b[0m\u001b[0;34m\u001b[0m\u001b[0m\n\u001b[1;32m   1115\u001b[0m     \u001b[0;32mif\u001b[0m \u001b[0;32mnot\u001b[0m \u001b[0mequal\u001b[0m\u001b[0;34m:\u001b[0m\u001b[0;34m\u001b[0m\u001b[0;34m\u001b[0m\u001b[0m\n\u001b[0;32m-> 1116\u001b[0;31m         \u001b[0;32mraise\u001b[0m \u001b[0mValueError\u001b[0m\u001b[0;34m(\u001b[0m\u001b[0;34m\"shape-mismatch for sum\"\u001b[0m\u001b[0;34m)\u001b[0m\u001b[0;34m\u001b[0m\u001b[0;34m\u001b[0m\u001b[0m\n\u001b[0m\u001b[1;32m   1117\u001b[0m \u001b[0;34m\u001b[0m\u001b[0m\n\u001b[1;32m   1118\u001b[0m     \u001b[0;31m# Move the axes to sum over to the end of \"a\"\u001b[0m\u001b[0;34m\u001b[0m\u001b[0;34m\u001b[0m\u001b[0m\n",
            "\u001b[0;31mValueError\u001b[0m: shape-mismatch for sum"
          ]
        }
      ]
    },
    {
      "cell_type": "code",
      "source": [
        "np.tensordot(a, b, axes=([0, 1], [0, 1]))"
      ],
      "metadata": {
        "colab": {
          "base_uri": "https://localhost:8080/"
        },
        "id": "aHuTUen3PwlJ",
        "outputId": "d672c02c-9d84-48af-c9f4-bd51e8693006"
      },
      "execution_count": null,
      "outputs": [
        {
          "output_type": "execute_result",
          "data": {
            "text/plain": [
              "array([[ 0,  1],\n",
              "       [ 9,  9],\n",
              "       [ 3,  4],\n",
              "       [ 0,  5],\n",
              "       [ 6, 11]])"
            ]
          },
          "metadata": {},
          "execution_count": 6
        }
      ]
    },
    {
      "cell_type": "code",
      "source": [
        "a = np.arange(60.).reshape(3,4,5)\n",
        "b = np.arange(24.).reshape(4,3,2)\n",
        "c = np.tensordot(a,b, axes=([1,0],[0,1]))\n",
        "\n",
        "# A slower but equivalent way of computing the same...\n",
        "d = np.zeros((5,2))\n",
        "for i in range(5):\n",
        "  for j in range(2):\n",
        "    for k in range(3):\n",
        "      for n in range(4):\n",
        "        d[i,j] += a[k,n,i] * b[n,k,j]"
      ],
      "metadata": {
        "id": "Zb2ke9eyMeEq"
      },
      "execution_count": null,
      "outputs": []
    },
    {
      "cell_type": "code",
      "source": [
        "c.shape"
      ],
      "metadata": {
        "colab": {
          "base_uri": "https://localhost:8080/"
        },
        "id": "C8MepzxrOdBf",
        "outputId": "2a6e2cc7-fb54-47fc-dca9-a76e56af508c"
      },
      "execution_count": null,
      "outputs": [
        {
          "output_type": "execute_result",
          "data": {
            "text/plain": [
              "(5, 2)"
            ]
          },
          "metadata": {},
          "execution_count": 8
        }
      ]
    },
    {
      "cell_type": "code",
      "source": [
        "d"
      ],
      "metadata": {
        "id": "R0kM9hrLO8A6"
      },
      "execution_count": null,
      "outputs": []
    },
    {
      "cell_type": "markdown",
      "source": [
        "#### Training a Model"
      ],
      "metadata": {
        "id": "JhUJkI15PPj5"
      }
    },
    {
      "cell_type": "code",
      "source": [
        "#declare gpu if available\n",
        "device = \"cuda\" if torch.cuda.is_available() else \"cpu\""
      ],
      "metadata": {
        "id": "UyBE8wfOu_Lg"
      },
      "execution_count": null,
      "outputs": []
    },
    {
      "cell_type": "code",
      "source": [
        "device"
      ],
      "metadata": {
        "id": "AmeKSU7jZ2d6",
        "colab": {
          "base_uri": "https://localhost:8080/",
          "height": 35
        },
        "outputId": "09ec009b-9445-4c0a-de67-44841b783a87"
      },
      "execution_count": null,
      "outputs": [
        {
          "output_type": "execute_result",
          "data": {
            "text/plain": [
              "'cuda'"
            ],
            "application/vnd.google.colaboratory.intrinsic+json": {
              "type": "string"
            }
          },
          "metadata": {},
          "execution_count": 11
        }
      ]
    },
    {
      "cell_type": "code",
      "source": [
        "def training_loop(epochs, optimizer, model, loss_func, loader):\n",
        "  for epoch in range(1, epochs + 1):\n",
        "    loss_train = 0.0\n",
        "    for x, y in loader:\n",
        "      x = x.to(device)\n",
        "      y = y.to(device)\n",
        "      #output from model\n",
        "      output = model(x)\n",
        "      #loss\n",
        "      loss = loss_func(output, y)\n",
        "      #zero out optimizer\n",
        "      optimizer.zero_grad()\n",
        "      #backpropagate\n",
        "      loss.backward()\n",
        "      #step\n",
        "      optimizer.step()\n",
        "      #track loss\n",
        "      loss_train += loss.item()\n",
        "    if epoch == 1 or epoch % 100 == 0:\n",
        "      print(f'Epoch {epoch}, Loss {loss_train}.')"
      ],
      "metadata": {
        "id": "wyTBTsHvtBte"
      },
      "execution_count": null,
      "outputs": []
    },
    {
      "cell_type": "markdown",
      "source": [
        "#### Using an Image Dataset"
      ],
      "metadata": {
        "id": "A0dJz_f7QNJE"
      }
    },
    {
      "cell_type": "code",
      "source": [
        "!ls"
      ],
      "metadata": {
        "colab": {
          "base_uri": "https://localhost:8080/"
        },
        "id": "nVYB8VNkU6IC",
        "outputId": "48654a6d-3a64-468f-a6f1-4bc6b289fb1e"
      },
      "execution_count": null,
      "outputs": [
        {
          "output_type": "stream",
          "name": "stdout",
          "text": [
            "sample_data\n"
          ]
        }
      ]
    },
    {
      "cell_type": "code",
      "source": [
        "!ls drive/MyDrive/small/train/"
      ],
      "metadata": {
        "id": "oI8mZPtDwwdx"
      },
      "execution_count": null,
      "outputs": []
    },
    {
      "cell_type": "code",
      "source": [
        "#ImageFolder\n",
        "folder = ImageFolder('drive/MyDrive/small/train/', transform=Compose([Resize([64, 64]),\n",
        "                                                                     ToTensor()]))"
      ],
      "metadata": {
        "id": "IRDY3YtWD4XF"
      },
      "execution_count": null,
      "outputs": []
    },
    {
      "cell_type": "code",
      "source": [
        "folder[0]"
      ],
      "metadata": {
        "colab": {
          "base_uri": "https://localhost:8080/"
        },
        "id": "1cXtUDeb9YiT",
        "outputId": "d20afedd-2044-4cfb-943c-1c62e98da162"
      },
      "execution_count": null,
      "outputs": [
        {
          "output_type": "execute_result",
          "data": {
            "text/plain": [
              "(tensor([[[0.6980, 0.7216, 0.7529,  ..., 0.2941, 0.2941, 0.2902],\n",
              "          [0.6980, 0.7176, 0.7490,  ..., 0.2902, 0.2902, 0.2863],\n",
              "          [0.6980, 0.7176, 0.7490,  ..., 0.2980, 0.2980, 0.2941],\n",
              "          ...,\n",
              "          [0.7647, 0.7647, 0.7608,  ..., 0.7059, 0.7098, 0.7098],\n",
              "          [0.7843, 0.7882, 0.7765,  ..., 0.7098, 0.6863, 0.7020],\n",
              "          [0.7765, 0.7882, 0.7961,  ..., 0.7059, 0.6431, 0.6627]],\n",
              " \n",
              "         [[0.5569, 0.5804, 0.6118,  ..., 0.2667, 0.2667, 0.2627],\n",
              "          [0.5569, 0.5765, 0.6078,  ..., 0.2627, 0.2627, 0.2588],\n",
              "          [0.5569, 0.5765, 0.6078,  ..., 0.2706, 0.2706, 0.2667],\n",
              "          ...,\n",
              "          [0.5608, 0.5608, 0.5569,  ..., 0.5059, 0.5098, 0.5098],\n",
              "          [0.5804, 0.5843, 0.5765,  ..., 0.5098, 0.4863, 0.5020],\n",
              "          [0.5725, 0.5843, 0.5961,  ..., 0.5059, 0.4392, 0.4588]],\n",
              " \n",
              "         [[0.4314, 0.4549, 0.4784,  ..., 0.2980, 0.2980, 0.2941],\n",
              "          [0.4314, 0.4510, 0.4745,  ..., 0.2941, 0.2941, 0.2902],\n",
              "          [0.4314, 0.4510, 0.4745,  ..., 0.3020, 0.3020, 0.2980],\n",
              "          ...,\n",
              "          [0.3373, 0.3373, 0.3098,  ..., 0.2902, 0.2941, 0.2941],\n",
              "          [0.3569, 0.3569, 0.3333,  ..., 0.2941, 0.2745, 0.2863],\n",
              "          [0.3490, 0.3608, 0.3686,  ..., 0.3059, 0.2392, 0.2627]]]),\n",
              " 0)"
            ]
          },
          "metadata": {},
          "execution_count": 15
        }
      ]
    },
    {
      "cell_type": "code",
      "source": [
        "#data loader\n",
        "im_loader = DataLoader(folder, batch_size = 32)"
      ],
      "metadata": {
        "id": "MA8VsgYkEJZD"
      },
      "execution_count": null,
      "outputs": []
    },
    {
      "cell_type": "code",
      "source": [
        "#look at a shape\n",
        "folder[0][0].shape"
      ],
      "metadata": {
        "colab": {
          "base_uri": "https://localhost:8080/"
        },
        "id": "9__jEybeEeJM",
        "outputId": "5280aa14-ee6e-42b3-b835-c7183e9fa6d1"
      },
      "execution_count": null,
      "outputs": [
        {
          "output_type": "execute_result",
          "data": {
            "text/plain": [
              "torch.Size([3, 64, 64])"
            ]
          },
          "metadata": {},
          "execution_count": 17
        }
      ]
    },
    {
      "cell_type": "code",
      "source": [
        "#visualize\n",
        "plt.imshow(folder[0][0][0, :, :], cmap = 'gray')"
      ],
      "metadata": {
        "colab": {
          "base_uri": "https://localhost:8080/",
          "height": 449
        },
        "id": "uJuW6GTxHgNm",
        "outputId": "f276b670-4d3d-4af6-9655-4f75349143f2"
      },
      "execution_count": null,
      "outputs": [
        {
          "output_type": "execute_result",
          "data": {
            "text/plain": [
              "<matplotlib.image.AxesImage at 0x7f4ca6145ff0>"
            ]
          },
          "metadata": {},
          "execution_count": 18
        },
        {
          "output_type": "display_data",
          "data": {
            "text/plain": [
              "<Figure size 640x480 with 1 Axes>"
            ],
            "image/png": "[encoded data removed]"
          },
          "metadata": {}
        }
      ]
    },
    {
      "cell_type": "code",
      "source": [
        "#create a conv layer\n",
        "conv = nn.Conv2d(3, 16, 3) #(inchannels, num out, filter size)"
      ],
      "metadata": {
        "id": "5uGDwm-aFbLZ"
      },
      "execution_count": null,
      "outputs": []
    },
    {
      "cell_type": "code",
      "source": [
        "#shape of the weights\n",
        "conv.weight.shape"
      ],
      "metadata": {
        "colab": {
          "base_uri": "https://localhost:8080/"
        },
        "id": "RSgvr3IjFbIB",
        "outputId": "d379188c-1ce0-489b-cf8d-7abaa9e49a32"
      },
      "execution_count": null,
      "outputs": [
        {
          "output_type": "execute_result",
          "data": {
            "text/plain": [
              "torch.Size([16, 3, 3, 3])"
            ]
          },
          "metadata": {},
          "execution_count": 20
        }
      ]
    },
    {
      "cell_type": "code",
      "source": [
        "#shape of the bias\n",
        "conv.bias.shape"
      ],
      "metadata": {
        "colab": {
          "base_uri": "https://localhost:8080/"
        },
        "id": "pdWk-ZE1FbFD",
        "outputId": "45fee83c-910a-42c5-f3f7-11678165c67f"
      },
      "execution_count": null,
      "outputs": [
        {
          "output_type": "execute_result",
          "data": {
            "text/plain": [
              "torch.Size([16])"
            ]
          },
          "metadata": {},
          "execution_count": 21
        }
      ]
    },
    {
      "cell_type": "code",
      "source": [
        "#pass the image through\n",
        "output = conv(torch.tensor(folder[0][0])).unsqueeze(0)"
      ],
      "metadata": {
        "colab": {
          "base_uri": "https://localhost:8080/"
        },
        "id": "cyZgptTsFbBt",
        "outputId": "9bab7d6c-278a-4e7a-d56a-e539b7cc4f54"
      },
      "execution_count": null,
      "outputs": [
        {
          "output_type": "stream",
          "name": "stderr",
          "text": [
            "<ipython-input-22-e49ed47cd50d>:2: UserWarning: To copy construct from a tensor, it is recommended to use sourceTensor.clone().detach() or sourceTensor.clone().detach().requires_grad_(True), rather than torch.tensor(sourceTensor).\n",
            "  output = conv(torch.tensor(folder[0][0])).unsqueeze(0)\n"
          ]
        }
      ]
    },
    {
      "cell_type": "code",
      "source": [
        "output.shape"
      ],
      "metadata": {
        "colab": {
          "base_uri": "https://localhost:8080/"
        },
        "id": "ult2NS5h-30G",
        "outputId": "5d0aa5a2-0a1a-42b3-867e-4dd20d0bed30"
      },
      "execution_count": null,
      "outputs": [
        {
          "output_type": "execute_result",
          "data": {
            "text/plain": [
              "torch.Size([1, 16, 62, 62])"
            ]
          },
          "metadata": {},
          "execution_count": 23
        }
      ]
    },
    {
      "cell_type": "code",
      "source": [
        "pooler = nn.MaxPool2d(2)"
      ],
      "metadata": {
        "id": "3FuGRMiFqb1l"
      },
      "execution_count": null,
      "outputs": []
    },
    {
      "cell_type": "code",
      "source": [
        "output = pooler(output)"
      ],
      "metadata": {
        "id": "MX_o1BnYqbyw"
      },
      "execution_count": null,
      "outputs": []
    },
    {
      "cell_type": "code",
      "source": [
        "#visualize result\n",
        "output.shape"
      ],
      "metadata": {
        "colab": {
          "base_uri": "https://localhost:8080/"
        },
        "id": "VHgnMxQYFa9H",
        "outputId": "0a874b31-32ff-4568-df8e-1686d0a0cb4a"
      },
      "execution_count": null,
      "outputs": [
        {
          "output_type": "execute_result",
          "data": {
            "text/plain": [
              "torch.Size([1, 16, 31, 31])"
            ]
          },
          "metadata": {},
          "execution_count": 26
        }
      ]
    },
    {
      "cell_type": "code",
      "source": [
        "#a basic convnet\n",
        "plt.imshow(output[0, 0].detach().numpy(), cmap = 'gray')"
      ],
      "metadata": {
        "id": "G7sk-hH9Fa6U",
        "colab": {
          "base_uri": "https://localhost:8080/",
          "height": 447
        },
        "outputId": "b12a8924-dd0c-415a-e378-5913546d34ec"
      },
      "execution_count": null,
      "outputs": [
        {
          "output_type": "execute_result",
          "data": {
            "text/plain": [
              "<matplotlib.image.AxesImage at 0x7f4c8ebb0c40>"
            ]
          },
          "metadata": {},
          "execution_count": 27
        },
        {
          "output_type": "display_data",
          "data": {
            "text/plain": [
              "<Figure size 640x480 with 1 Axes>"
            ],
            "image/png": "[encoded data removed]"
          },
          "metadata": {}
        }
      ]
    },
    {
      "cell_type": "markdown",
      "source": [
        "#### Understanding the Convolution Operation\n",
        "\n",
        "- Example: Edge Detection"
      ],
      "metadata": {
        "id": "VvdZXc2lJbzk"
      }
    },
    {
      "cell_type": "code",
      "source": [],
      "metadata": {
        "id": "jZXNBaNeJbiq"
      },
      "execution_count": null,
      "outputs": []
    },
    {
      "cell_type": "code",
      "source": [],
      "metadata": {
        "id": "ATgV47xzJbex"
      },
      "execution_count": null,
      "outputs": []
    },
    {
      "cell_type": "code",
      "source": [],
      "metadata": {
        "id": "m3BN2-BpJbbo"
      },
      "execution_count": null,
      "outputs": []
    },
    {
      "cell_type": "code",
      "source": [],
      "metadata": {
        "id": "IzUJXDj1JbYg"
      },
      "execution_count": null,
      "outputs": []
    },
    {
      "cell_type": "code",
      "source": [],
      "metadata": {
        "id": "EpAdboNQJbVZ"
      },
      "execution_count": null,
      "outputs": []
    },
    {
      "cell_type": "code",
      "source": [],
      "metadata": {
        "id": "LYoYifyCJbSg"
      },
      "execution_count": null,
      "outputs": []
    },
    {
      "cell_type": "code",
      "source": [],
      "metadata": {
        "id": "RV6JVkzmJbN1"
      },
      "execution_count": null,
      "outputs": []
    },
    {
      "cell_type": "code",
      "source": [],
      "metadata": {
        "id": "tAmztSqfJbLO"
      },
      "execution_count": null,
      "outputs": []
    },
    {
      "cell_type": "code",
      "source": [],
      "metadata": {
        "id": "-Ml5ZsJkJbIm"
      },
      "execution_count": null,
      "outputs": []
    },
    {
      "cell_type": "code",
      "source": [],
      "metadata": {
        "id": "b6e2TzPJJbGB"
      },
      "execution_count": null,
      "outputs": []
    },
    {
      "cell_type": "markdown",
      "source": [
        "#### Smaller Example"
      ],
      "metadata": {
        "id": "kqwGbG7qRxLY"
      }
    },
    {
      "cell_type": "code",
      "source": [
        "from torchvision import datasets"
      ],
      "metadata": {
        "id": "av8yIywYx0Lp"
      },
      "execution_count": null,
      "outputs": []
    },
    {
      "cell_type": "code",
      "source": [
        "#download cifar10 as train\n",
        "cifar10 = datasets.CIFAR10('.', download = True)"
      ],
      "metadata": {
        "colab": {
          "base_uri": "https://localhost:8080/"
        },
        "id": "Dy_QTKwVx0Hl",
        "outputId": "6f00fab6-3771-412a-9486-09bc7d3b46b0"
      },
      "execution_count": null,
      "outputs": [
        {
          "output_type": "stream",
          "name": "stdout",
          "text": [
            "Downloading https://www.cs.toronto.edu/~kriz/cifar-10-python.tar.gz to ./cifar-10-python.tar.gz\n"
          ]
        },
        {
          "output_type": "stream",
          "name": "stderr",
          "text": [
            "100%|██████████| 170498071/170498071 [00:05<00:00, 29774430.00it/s]\n"
          ]
        },
        {
          "output_type": "stream",
          "name": "stdout",
          "text": [
            "Extracting ./cifar-10-python.tar.gz to .\n"
          ]
        }
      ]
    },
    {
      "cell_type": "code",
      "source": [
        "#normalize -- prepare\n",
        "plt.imshow(cifar10.data[0])"
      ],
      "metadata": {
        "id": "sF1RXiSxx0Dj",
        "colab": {
          "base_uri": "https://localhost:8080/",
          "height": 447
        },
        "outputId": "a7895e9d-3fcb-446e-ddd5-34a871166025"
      },
      "execution_count": null,
      "outputs": [
        {
          "output_type": "execute_result",
          "data": {
            "text/plain": [
              "<matplotlib.image.AxesImage at 0x7f4c8ec4bd00>"
            ]
          },
          "metadata": {},
          "execution_count": 30
        },
        {
          "output_type": "display_data",
          "data": {
            "text/plain": [
              "<Figure size 640x480 with 1 Axes>"
            ],
            "image/png": "[encoded data removed]"
          },
          "metadata": {}
        }
      ]
    },
    {
      "cell_type": "code",
      "source": [
        "#examine an example\n",
        "cifar10.data[0]"
      ],
      "metadata": {
        "id": "RtaiIirHxz_s",
        "colab": {
          "base_uri": "https://localhost:8080/"
        },
        "outputId": "bad70b51-13ad-43f6-d019-9791a80c4209"
      },
      "execution_count": null,
      "outputs": [
        {
          "output_type": "execute_result",
          "data": {
            "text/plain": [
              "array([[[ 59,  62,  63],\n",
              "        [ 43,  46,  45],\n",
              "        [ 50,  48,  43],\n",
              "        ...,\n",
              "        [158, 132, 108],\n",
              "        [152, 125, 102],\n",
              "        [148, 124, 103]],\n",
              "\n",
              "       [[ 16,  20,  20],\n",
              "        [  0,   0,   0],\n",
              "        [ 18,   8,   0],\n",
              "        ...,\n",
              "        [123,  88,  55],\n",
              "        [119,  83,  50],\n",
              "        [122,  87,  57]],\n",
              "\n",
              "       [[ 25,  24,  21],\n",
              "        [ 16,   7,   0],\n",
              "        [ 49,  27,   8],\n",
              "        ...,\n",
              "        [118,  84,  50],\n",
              "        [120,  84,  50],\n",
              "        [109,  73,  42]],\n",
              "\n",
              "       ...,\n",
              "\n",
              "       [[208, 170,  96],\n",
              "        [201, 153,  34],\n",
              "        [198, 161,  26],\n",
              "        ...,\n",
              "        [160, 133,  70],\n",
              "        [ 56,  31,   7],\n",
              "        [ 53,  34,  20]],\n",
              "\n",
              "       [[180, 139,  96],\n",
              "        [173, 123,  42],\n",
              "        [186, 144,  30],\n",
              "        ...,\n",
              "        [184, 148,  94],\n",
              "        [ 97,  62,  34],\n",
              "        [ 83,  53,  34]],\n",
              "\n",
              "       [[177, 144, 116],\n",
              "        [168, 129,  94],\n",
              "        [179, 142,  87],\n",
              "        ...,\n",
              "        [216, 184, 140],\n",
              "        [151, 118,  84],\n",
              "        [123,  92,  72]]], dtype=uint8)"
            ]
          },
          "metadata": {},
          "execution_count": 31
        }
      ]
    },
    {
      "cell_type": "code",
      "source": [
        "transformer = ToTensor()\n",
        "transformer(cifar10.data[0])"
      ],
      "metadata": {
        "id": "75YW0PP53vZ0",
        "colab": {
          "base_uri": "https://localhost:8080/"
        },
        "outputId": "badf8b14-37c9-4e62-a910-609b7a9f2575"
      },
      "execution_count": null,
      "outputs": [
        {
          "output_type": "execute_result",
          "data": {
            "text/plain": [
              "tensor([[[0.2314, 0.1686, 0.1961,  ..., 0.6196, 0.5961, 0.5804],\n",
              "         [0.0627, 0.0000, 0.0706,  ..., 0.4824, 0.4667, 0.4784],\n",
              "         [0.0980, 0.0627, 0.1922,  ..., 0.4627, 0.4706, 0.4275],\n",
              "         ...,\n",
              "         [0.8157, 0.7882, 0.7765,  ..., 0.6275, 0.2196, 0.2078],\n",
              "         [0.7059, 0.6784, 0.7294,  ..., 0.7216, 0.3804, 0.3255],\n",
              "         [0.6941, 0.6588, 0.7020,  ..., 0.8471, 0.5922, 0.4824]],\n",
              "\n",
              "        [[0.2431, 0.1804, 0.1882,  ..., 0.5176, 0.4902, 0.4863],\n",
              "         [0.0784, 0.0000, 0.0314,  ..., 0.3451, 0.3255, 0.3412],\n",
              "         [0.0941, 0.0275, 0.1059,  ..., 0.3294, 0.3294, 0.2863],\n",
              "         ...,\n",
              "         [0.6667, 0.6000, 0.6314,  ..., 0.5216, 0.1216, 0.1333],\n",
              "         [0.5451, 0.4824, 0.5647,  ..., 0.5804, 0.2431, 0.2078],\n",
              "         [0.5647, 0.5059, 0.5569,  ..., 0.7216, 0.4627, 0.3608]],\n",
              "\n",
              "        [[0.2471, 0.1765, 0.1686,  ..., 0.4235, 0.4000, 0.4039],\n",
              "         [0.0784, 0.0000, 0.0000,  ..., 0.2157, 0.1961, 0.2235],\n",
              "         [0.0824, 0.0000, 0.0314,  ..., 0.1961, 0.1961, 0.1647],\n",
              "         ...,\n",
              "         [0.3765, 0.1333, 0.1020,  ..., 0.2745, 0.0275, 0.0784],\n",
              "         [0.3765, 0.1647, 0.1176,  ..., 0.3686, 0.1333, 0.1333],\n",
              "         [0.4549, 0.3686, 0.3412,  ..., 0.5490, 0.3294, 0.2824]]])"
            ]
          },
          "metadata": {},
          "execution_count": 32
        }
      ]
    },
    {
      "cell_type": "code",
      "source": [
        "norm = Normalize((0.5, 0.5, 0.5),(0.25, 0.25, 0.25))\n",
        "norm(transformer(cifar10.data[0]))"
      ],
      "metadata": {
        "colab": {
          "base_uri": "https://localhost:8080/"
        },
        "id": "rIQ_Tdw6hp_N",
        "outputId": "34cc8a6f-54d9-419a-8d11-d71614198156"
      },
      "execution_count": null,
      "outputs": [
        {
          "output_type": "execute_result",
          "data": {
            "text/plain": [
              "tensor([[[-1.0745, -1.3255, -1.2157,  ...,  0.4784,  0.3843,  0.3216],\n",
              "         [-1.7490, -2.0000, -1.7176,  ..., -0.0706, -0.1333, -0.0863],\n",
              "         [-1.6078, -1.7490, -1.2314,  ..., -0.1490, -0.1176, -0.2902],\n",
              "         ...,\n",
              "         [ 1.2627,  1.1529,  1.1059,  ...,  0.5098, -1.1216, -1.1686],\n",
              "         [ 0.8235,  0.7137,  0.9176,  ...,  0.8863, -0.4784, -0.6980],\n",
              "         [ 0.7765,  0.6353,  0.8078,  ...,  1.3882,  0.3686, -0.0706]],\n",
              "\n",
              "        [[-1.0275, -1.2784, -1.2471,  ...,  0.0706, -0.0392, -0.0549],\n",
              "         [-1.6863, -2.0000, -1.8745,  ..., -0.6196, -0.6980, -0.6353],\n",
              "         [-1.6235, -1.8902, -1.5765,  ..., -0.6824, -0.6824, -0.8549],\n",
              "         ...,\n",
              "         [ 0.6667,  0.4000,  0.5255,  ...,  0.0863, -1.5137, -1.4667],\n",
              "         [ 0.1804, -0.0706,  0.2588,  ...,  0.3216, -1.0275, -1.1686],\n",
              "         [ 0.2588,  0.0235,  0.2275,  ...,  0.8863, -0.1490, -0.5569]],\n",
              "\n",
              "        [[-1.0118, -1.2941, -1.3255,  ..., -0.3059, -0.4000, -0.3843],\n",
              "         [-1.6863, -2.0000, -2.0000,  ..., -1.1373, -1.2157, -1.1059],\n",
              "         [-1.6706, -2.0000, -1.8745,  ..., -1.2157, -1.2157, -1.3412],\n",
              "         ...,\n",
              "         [-0.4941, -1.4667, -1.5922,  ..., -0.9020, -1.8902, -1.6863],\n",
              "         [-0.4941, -1.3412, -1.5294,  ..., -0.5255, -1.4667, -1.4667],\n",
              "         [-0.1804, -0.5255, -0.6353,  ...,  0.1961, -0.6824, -0.8706]]])"
            ]
          },
          "metadata": {},
          "execution_count": 33
        }
      ]
    },
    {
      "cell_type": "code",
      "source": [
        "composer = Compose([transformer, norm])\n",
        "composer(cifar10.data[0])"
      ],
      "metadata": {
        "colab": {
          "base_uri": "https://localhost:8080/"
        },
        "id": "_wYfJ5lth9Mk",
        "outputId": "01d9e366-790f-41de-e677-408fa766e780"
      },
      "execution_count": null,
      "outputs": [
        {
          "output_type": "execute_result",
          "data": {
            "text/plain": [
              "tensor([[[-1.0745, -1.3255, -1.2157,  ...,  0.4784,  0.3843,  0.3216],\n",
              "         [-1.7490, -2.0000, -1.7176,  ..., -0.0706, -0.1333, -0.0863],\n",
              "         [-1.6078, -1.7490, -1.2314,  ..., -0.1490, -0.1176, -0.2902],\n",
              "         ...,\n",
              "         [ 1.2627,  1.1529,  1.1059,  ...,  0.5098, -1.1216, -1.1686],\n",
              "         [ 0.8235,  0.7137,  0.9176,  ...,  0.8863, -0.4784, -0.6980],\n",
              "         [ 0.7765,  0.6353,  0.8078,  ...,  1.3882,  0.3686, -0.0706]],\n",
              "\n",
              "        [[-1.0275, -1.2784, -1.2471,  ...,  0.0706, -0.0392, -0.0549],\n",
              "         [-1.6863, -2.0000, -1.8745,  ..., -0.6196, -0.6980, -0.6353],\n",
              "         [-1.6235, -1.8902, -1.5765,  ..., -0.6824, -0.6824, -0.8549],\n",
              "         ...,\n",
              "         [ 0.6667,  0.4000,  0.5255,  ...,  0.0863, -1.5137, -1.4667],\n",
              "         [ 0.1804, -0.0706,  0.2588,  ...,  0.3216, -1.0275, -1.1686],\n",
              "         [ 0.2588,  0.0235,  0.2275,  ...,  0.8863, -0.1490, -0.5569]],\n",
              "\n",
              "        [[-1.0118, -1.2941, -1.3255,  ..., -0.3059, -0.4000, -0.3843],\n",
              "         [-1.6863, -2.0000, -2.0000,  ..., -1.1373, -1.2157, -1.1059],\n",
              "         [-1.6706, -2.0000, -1.8745,  ..., -1.2157, -1.2157, -1.3412],\n",
              "         ...,\n",
              "         [-0.4941, -1.4667, -1.5922,  ..., -0.9020, -1.8902, -1.6863],\n",
              "         [-0.4941, -1.3412, -1.5294,  ..., -0.5255, -1.4667, -1.4667],\n",
              "         [-0.1804, -0.5255, -0.6353,  ...,  0.1961, -0.6824, -0.8706]]])"
            ]
          },
          "metadata": {},
          "execution_count": 34
        }
      ]
    },
    {
      "cell_type": "code",
      "source": [
        "#transformed dataset\n",
        "transformed_cifar10 = datasets.CIFAR10('.', download = True, transform = Compose([ToTensor(), Normalize((0.4914, 0.4822, 0.4465),\n",
        "                                                                                                        (0.2470, 0.2435, 0.2616))]))"
      ],
      "metadata": {
        "colab": {
          "base_uri": "https://localhost:8080/"
        },
        "id": "QP8COTEe30M4",
        "outputId": "e3339ab1-08e2-4dec-f4fc-a94155fb4235"
      },
      "execution_count": null,
      "outputs": [
        {
          "output_type": "stream",
          "name": "stdout",
          "text": [
            "Files already downloaded and verified\n"
          ]
        }
      ]
    },
    {
      "cell_type": "code",
      "source": [
        "#transformed validation dataset\n",
        "transformed_cifar10_val = datasets.CIFAR10('.', download = True, train = False, transform = Compose([ToTensor(), Normalize((0.4914, 0.4822, 0.4465),\n",
        "                                                                                                        (0.2470, 0.2435, 0.2616))]))"
      ],
      "metadata": {
        "colab": {
          "base_uri": "https://localhost:8080/"
        },
        "id": "pFMcwi2aE6UJ",
        "outputId": "e8dbaa8f-1e8a-4081-a8b2-79d45c15fec9"
      },
      "execution_count": null,
      "outputs": [
        {
          "output_type": "stream",
          "name": "stdout",
          "text": [
            "Files already downloaded and verified\n"
          ]
        }
      ]
    },
    {
      "cell_type": "code",
      "source": [
        "#binarization\n",
        "labels = {0:0, 1:1}\n",
        "names = ['airplane', 'car']\n",
        "cifar_binary = [(im, labels[label]) for im, label in transformed_cifar10 if label in [0, 1]]\n",
        "cifar_binary_val = [(im, labels[label]) for im, label in transformed_cifar10_val if label in [0, 1]]"
      ],
      "metadata": {
        "id": "NgLshkJM4Otp"
      },
      "execution_count": null,
      "outputs": []
    },
    {
      "cell_type": "code",
      "source": [
        "plt.imshow(cifar_binary[10][0][0, :, :], cmap = 'gray')"
      ],
      "metadata": {
        "colab": {
          "base_uri": "https://localhost:8080/",
          "height": 447
        },
        "id": "gd0qP2WF5nIz",
        "outputId": "298c9207-efc3-47f4-d660-675c16cf8527"
      },
      "execution_count": null,
      "outputs": [
        {
          "output_type": "execute_result",
          "data": {
            "text/plain": [
              "<matplotlib.image.AxesImage at 0x7f4c8cb2ebf0>"
            ]
          },
          "metadata": {},
          "execution_count": 38
        },
        {
          "output_type": "display_data",
          "data": {
            "text/plain": [
              "<Figure size 640x480 with 1 Axes>"
            ],
            "image/png": "[encoded data removed]"
          },
          "metadata": {}
        }
      ]
    },
    {
      "cell_type": "code",
      "source": [],
      "metadata": {
        "id": "EFQ-Faq1iNjk"
      },
      "execution_count": null,
      "outputs": []
    },
    {
      "cell_type": "code",
      "source": [],
      "metadata": {
        "id": "ExvteYEMiNhA"
      },
      "execution_count": null,
      "outputs": []
    },
    {
      "cell_type": "code",
      "source": [],
      "metadata": {
        "id": "m_IV2ipkiNeX"
      },
      "execution_count": null,
      "outputs": []
    },
    {
      "cell_type": "code",
      "source": [],
      "metadata": {
        "id": "5581650wiNcB"
      },
      "execution_count": null,
      "outputs": []
    },
    {
      "cell_type": "code",
      "source": [],
      "metadata": {
        "id": "Z13Oxyh7iNZY"
      },
      "execution_count": null,
      "outputs": []
    },
    {
      "cell_type": "code",
      "source": [],
      "metadata": {
        "id": "ndImkrX9iNXA"
      },
      "execution_count": null,
      "outputs": []
    },
    {
      "cell_type": "code",
      "source": [
        "#defining the network as a module\n",
        "class CNet(nn.Module):\n",
        "  def __init__(self):\n",
        "    super().__init__()\n",
        "\n",
        "    self.conv1 = nn.Conv2d(3, 16, 3, padding = 1)\n",
        "    self.act1 = nn.Tanh()\n",
        "    self.pool1 = nn.MaxPool2d(2) # 16 x 16\n",
        "\n",
        "\n",
        "    self.conv2 = nn.Conv2d(16, 8, 3, padding = 1)\n",
        "    self.act2 = nn.Tanh()\n",
        "    self.pool2 = nn.MaxPool2d(2) # 8 x 8 -- 8 of these\n",
        "\n",
        "    self.lin1 = nn.Linear(8*8*8, 64)\n",
        "    self.act3 = nn.Tanh()\n",
        "    self.lin2 = nn.Linear(64, 2)\n",
        "\n",
        "  def forward(self, x):\n",
        "    x = self.pool1(self.act1(self.conv1(x)))\n",
        "    x = self.pool2(self.act2(self.conv2(x)))\n",
        "    x = x.view(-1, 8*8*8)\n",
        "    x = self.act3(self.lin1(x))\n",
        "    x = self.lin2(x)\n",
        "    return x"
      ],
      "metadata": {
        "id": "4VgkSohv5vh0"
      },
      "execution_count": null,
      "outputs": []
    },
    {
      "cell_type": "code",
      "source": [
        "#model, optimizer, and loss\n",
        "model = CNet()\n",
        "optimizer = optim.SGD(model.parameters(), lr = 0.01)\n",
        "loss = nn.CrossEntropyLoss()"
      ],
      "metadata": {
        "id": "aCUyVsZqBXbX"
      },
      "execution_count": null,
      "outputs": []
    },
    {
      "cell_type": "code",
      "source": [
        "#model to gpu\n",
        "model = model.to(device)"
      ],
      "metadata": {
        "id": "5mHzaE5xDi_5"
      },
      "execution_count": null,
      "outputs": []
    },
    {
      "cell_type": "code",
      "source": [
        "#train batches\n",
        "train_loader = DataLoader(cifar_binary, batch_size = 32)"
      ],
      "metadata": {
        "id": "n_lfFbz9DWDE"
      },
      "execution_count": null,
      "outputs": []
    },
    {
      "cell_type": "code",
      "source": [
        "#train the model\n",
        "training_loop(100, optimizer, model, loss, train_loader)"
      ],
      "metadata": {
        "colab": {
          "base_uri": "https://localhost:8080/"
        },
        "id": "06uGzJJ3C_5Z",
        "outputId": "e511ada1-f4bb-43ad-9040-0c7bc20ed7cc"
      },
      "execution_count": null,
      "outputs": [
        {
          "output_type": "stream",
          "name": "stdout",
          "text": [
            "Epoch 1, Loss 162.74188214540482.\n",
            "Epoch 100, Loss 4.066404538607458.\n"
          ]
        }
      ]
    },
    {
      "cell_type": "code",
      "source": [
        "#validation loader\n",
        "val_loader = DataLoader(cifar_binary_val, batch_size = 32, shuffle = False)"
      ],
      "metadata": {
        "id": "G0Q1Ef3sDgou"
      },
      "execution_count": null,
      "outputs": []
    },
    {
      "cell_type": "code",
      "source": [
        "#validation function\n",
        "def validate(model, train_loader, val_loader):\n",
        "  for name, dataset in [(\"Train\", train_loader), (\"Test\", val_loader)]:\n",
        "    correct = 0\n",
        "    total = 0\n",
        "    with torch.no_grad():\n",
        "      for imgs, labels in dataset:\n",
        "        imgs = imgs.to(device)\n",
        "        labels = labels.to(device)\n",
        "        out = model(imgs)\n",
        "        _, preds = torch.max(out, dim = 1)\n",
        "        total += labels.shape[0]\n",
        "        correct += int((preds == labels).sum())\n",
        "      print(f\"{name}: Accuracy: {correct/total}\")"
      ],
      "metadata": {
        "id": "sdd8PcyAFl64"
      },
      "execution_count": null,
      "outputs": []
    },
    {
      "cell_type": "code",
      "source": [
        "conv1 = nn.Conv2D()\n",
        "pool1 = nn.MaxPool2d()\n",
        "\n",
        "conv2 = nn.Conv2D()\n",
        "pool2 = nn.MaxPool2d()\n",
        "\n",
        "x = pool1(conv1(x))\n",
        "x = pool2(conv2(x))"
      ],
      "metadata": {
        "id": "0ufrJEiq7yj8"
      },
      "execution_count": null,
      "outputs": []
    },
    {
      "cell_type": "code",
      "source": [],
      "metadata": {
        "id": "yCu7gXSq7ygH"
      },
      "execution_count": null,
      "outputs": []
    },
    {
      "cell_type": "code",
      "source": [],
      "metadata": {
        "id": "LOia-Ko37ydp"
      },
      "execution_count": null,
      "outputs": []
    },
    {
      "cell_type": "code",
      "source": [],
      "metadata": {
        "id": "Frko3me77yaj"
      },
      "execution_count": null,
      "outputs": []
    },
    {
      "cell_type": "code",
      "source": [
        "#examine the accuracy\n",
        "validate(model, train_loader, val_loader)"
      ],
      "metadata": {
        "colab": {
          "base_uri": "https://localhost:8080/"
        },
        "id": "QCCzztSIGa7e",
        "outputId": "40eebf5b-31a3-40f6-c0a8-bf4c67657fd5"
      },
      "execution_count": null,
      "outputs": [
        {
          "output_type": "stream",
          "name": "stdout",
          "text": [
            "Train: Accuracy: 0.9981\n",
            "Test: Accuracy: 0.9455\n"
          ]
        }
      ]
    },
    {
      "cell_type": "code",
      "source": [
        "#save the model\n",
        "torch.save(model.state_dict(), 'car_vs_plane.pt')"
      ],
      "metadata": {
        "id": "eK5unIICGhdI"
      },
      "execution_count": null,
      "outputs": []
    },
    {
      "cell_type": "code",
      "source": [
        "#reload the model\n",
        "reloaded = torch.load('car_vs_plane.pt')\n",
        "# reloaded"
      ],
      "metadata": {
        "id": "ett1RNN5HFP6"
      },
      "execution_count": null,
      "outputs": []
    },
    {
      "cell_type": "code",
      "source": [],
      "metadata": {
        "id": "ccqdOqxilkFU"
      },
      "execution_count": null,
      "outputs": []
    },
    {
      "cell_type": "code",
      "source": [],
      "metadata": {
        "id": "q9XMBJ41lkBS"
      },
      "execution_count": null,
      "outputs": []
    },
    {
      "cell_type": "code",
      "source": [],
      "metadata": {
        "id": "0I08mR7slj9W"
      },
      "execution_count": null,
      "outputs": []
    },
    {
      "cell_type": "code",
      "source": [],
      "metadata": {
        "id": "fXn4ZM8Vi2VH"
      },
      "execution_count": null,
      "outputs": []
    },
    {
      "cell_type": "code",
      "source": [],
      "metadata": {
        "id": "T9zWrwc_i2SE"
      },
      "execution_count": null,
      "outputs": []
    },
    {
      "cell_type": "code",
      "source": [],
      "metadata": {
        "id": "13BffNjqi2O6"
      },
      "execution_count": null,
      "outputs": []
    },
    {
      "cell_type": "code",
      "source": [],
      "metadata": {
        "id": "2LkH6nB3i2MU"
      },
      "execution_count": null,
      "outputs": []
    },
    {
      "cell_type": "markdown",
      "source": [
        "#### Regularization\n",
        "\n",
        "- Weight Decay\n",
        "- Dropout"
      ],
      "metadata": {
        "id": "atXVuji6S1cZ"
      }
    },
    {
      "cell_type": "code",
      "source": [
        "def training_loop_l2(epochs, optimizer, model, loss_func, loader):\n",
        "  for epoch in range(1, epochs + 1):\n",
        "    loss_train = 0.0\n",
        "    for x, y in loader:\n",
        "      x = x.to(device)\n",
        "      y = y.to(device)\n",
        "      outputs = model(x)\n",
        "      loss = loss_func(outputs, y)\n",
        "      ###lambda\n",
        "      l2_lambda = 0.01\n",
        "      ###compute the l2 term\n",
        "      l2_norm = sum(param.pow(2).sum() for param in model.parameters())\n",
        "      ###update loss\n",
        "      loss = loss + l2_lambda*l2_norm\n",
        "      optimizer.zero_grad()\n",
        "      loss.backward()\n",
        "      optimizer.step()\n",
        "      loss_train += loss.item()\n",
        "    if epoch == 1 or epoch % 10 == 0:\n",
        "      print(f'Epoch {epoch}, Loss {loss_train}.')"
      ],
      "metadata": {
        "id": "U0ioO7sqHJVp"
      },
      "execution_count": null,
      "outputs": []
    },
    {
      "cell_type": "code",
      "source": [
        "class CNetDropout(nn.Module):\n",
        "  def __init__(self, n_chans1 = 16):\n",
        "    super.__init__()\n",
        "    self.n_chans1 = n_chans1\n",
        "    self.conv1 = nn.Conv2d(3, n_chans1, 3, padding = 1)\n",
        "    #add dropout\n",
        "    self.conv1_dropout = nn.Dropout(.2)\n",
        "    self.conv2 = nn.Conv2d(n_chans1, n_chans1 // 2, 3, padding = 1)\n",
        "    #add dropout\n",
        "    self.conv2_dropout = nn.Dropout(.2)\n",
        "    self.lin1 = nn.Linear(8*8*n_chans1 // 2, 32)\n",
        "    self.lin2 = nn.Linear(32, 2)\n",
        "\n",
        "  def forward(self, x):\n",
        "    x = F.max_pool2d(torch.tanh(self.conv1(x)), 2)\n",
        "    #use dropout\n",
        "    x = self.conv1_dropout(x)\n",
        "    x = F.max_pool2d(torch.tanh(self.conv2(x)), 2)\n",
        "    #use dropout\n",
        "    x = self.conv2_dropout(x)\n",
        "    x = x.view(-1, 8*8*8*self.n_chans1 // 2)\n",
        "    x = torch.tanh(self.lin1(x))\n",
        "    x = self.lin2(x)\n",
        "    return x\n"
      ],
      "metadata": {
        "id": "WXYVpDYKHvNf"
      },
      "execution_count": null,
      "outputs": []
    },
    {
      "cell_type": "code",
      "source": [],
      "metadata": {
        "id": "BAGxlPNmlxWT"
      },
      "execution_count": null,
      "outputs": []
    },
    {
      "cell_type": "code",
      "source": [],
      "metadata": {
        "id": "EmoMgCR-lxTV"
      },
      "execution_count": null,
      "outputs": []
    },
    {
      "cell_type": "code",
      "source": [],
      "metadata": {
        "id": "isYrVR6nlxPx"
      },
      "execution_count": null,
      "outputs": []
    },
    {
      "cell_type": "code",
      "source": [],
      "metadata": {
        "id": "MJPRaFgiTX15"
      },
      "execution_count": null,
      "outputs": []
    },
    {
      "cell_type": "markdown",
      "source": [
        "#### A Second Example"
      ],
      "metadata": {
        "id": "P5J7jnjdiyc0"
      }
    },
    {
      "cell_type": "code",
      "source": [
        "trainset = datasets.MNIST('.', download=True, train=True, transform=transform)\n",
        "valset = datasets.MNIST('.', download=True, train=False, transform=transform)\n",
        "trainloader = torch.utils.data.DataLoader(trainset, batch_size=64, shuffle=True)\n",
        "valloader = torch.utils.data.DataLoader(valset, batch_size=64, shuffle=True)"
      ],
      "metadata": {
        "id": "K1ebHOkNlkJO"
      },
      "execution_count": null,
      "outputs": []
    }
  ]
}