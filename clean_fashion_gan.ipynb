{
  "nbformat": 4,
  "nbformat_minor": 0,
  "metadata": {
    "colab": {
      "provenance": [],
      "gpuType": "T4",
      "include_colab_link": true
    },
    "kernelspec": {
      "name": "python3",
      "display_name": "Python 3"
    },
    "language_info": {
      "name": "python"
    },
    "accelerator": "GPU"
  },
  "cells": [
    {
      "cell_type": "markdown",
      "metadata": {
        "id": "view-in-github",
        "colab_type": "text"
      },
      "source": [
        "<a href=\"https://colab.research.google.com/github/cyberone1812/CMUDeepLearning/blob/main/clean_fashion_gan.ipynb\" target=\"_parent\"><img src=\"https://colab.research.google.com/assets/colab-badge.svg\" alt=\"Open In Colab\"/></a>"
      ]
    },
    {
      "cell_type": "markdown",
      "source": [
        "#### Generative Adversarial Networks"
      ],
      "metadata": {
        "id": "x-T2EE96-WiZ"
      }
    },
    {
      "cell_type": "code",
      "execution_count": null,
      "metadata": {
        "id": "NmBLXqTva4Ld"
      },
      "outputs": [],
      "source": [
        "import torch\n",
        "import torch.nn as nn\n",
        "import torchvision\n",
        "import numpy as np\n",
        "import matplotlib.pyplot as plt\n",
        "import torch.optim as optim\n",
        "from torch.nn.functional import binary_cross_entropy_with_logits\n",
        "from torchvision.transforms import Compose, ToTensor, Normalize"
      ]
    },
    {
      "cell_type": "markdown",
      "source": [
        "![](https://developers.google.com/static/machine-learning/gan/images/gan_diagram.svg)"
      ],
      "metadata": {
        "id": "BzmH59kwDmJ8"
      }
    },
    {
      "cell_type": "code",
      "source": [
        "#transforms for data\n"
      ],
      "metadata": {
        "id": "VA6u4rDtdRB0"
      },
      "execution_count": null,
      "outputs": []
    },
    {
      "cell_type": "code",
      "source": [
        "#load the data\n"
      ],
      "metadata": {
        "id": "dYkkRQ0ha-Sp"
      },
      "execution_count": null,
      "outputs": []
    },
    {
      "cell_type": "code",
      "source": [
        "#train loader\n"
      ],
      "metadata": {
        "id": "M7lR8QRYc62K"
      },
      "execution_count": null,
      "outputs": []
    },
    {
      "cell_type": "code",
      "source": [
        "#grid of images\n"
      ],
      "metadata": {
        "id": "2NsVz2X6dDGN"
      },
      "execution_count": null,
      "outputs": []
    },
    {
      "cell_type": "code",
      "source": [
        "#view the grid\n"
      ],
      "metadata": {
        "id": "UFNd9T3CdN6W"
      },
      "execution_count": null,
      "outputs": []
    },
    {
      "cell_type": "code",
      "source": [
        "#shapes?\n"
      ],
      "metadata": {
        "id": "WKliXH1OeJFI"
      },
      "execution_count": null,
      "outputs": []
    },
    {
      "cell_type": "code",
      "source": [
        "#size of vector into generator\n"
      ],
      "metadata": {
        "id": "wdm35PZSiqP-"
      },
      "execution_count": null,
      "outputs": []
    },
    {
      "cell_type": "code",
      "source": [
        "#GAN model\n"
      ],
      "metadata": {
        "id": "BDq25w_JeeV4"
      },
      "execution_count": null,
      "outputs": []
    },
    {
      "cell_type": "code",
      "source": [
        "#instantiate\n"
      ],
      "metadata": {
        "id": "bU53iVg3g2LW"
      },
      "execution_count": null,
      "outputs": []
    },
    {
      "cell_type": "code",
      "source": [
        "#optimizers\n"
      ],
      "metadata": {
        "id": "Hs8ZjKMqg8E1"
      },
      "execution_count": null,
      "outputs": []
    },
    {
      "cell_type": "code",
      "source": [
        "#loss function\n"
      ],
      "metadata": {
        "id": "Oms_SDbLhPyH"
      },
      "execution_count": null,
      "outputs": []
    },
    {
      "cell_type": "code",
      "source": [
        "#gpu\n"
      ],
      "metadata": {
        "id": "0TDWe5JVyXDZ"
      },
      "execution_count": null,
      "outputs": []
    },
    {
      "cell_type": "code",
      "source": [
        "#noise for checking and list to hold generator\n"
      ],
      "metadata": {
        "id": "inlXwih1if-Q"
      },
      "execution_count": null,
      "outputs": []
    },
    {
      "cell_type": "code",
      "source": [
        "#move to gpu\n"
      ],
      "metadata": {
        "id": "jrp3pM9MyZfO"
      },
      "execution_count": null,
      "outputs": []
    },
    {
      "cell_type": "code",
      "source": [
        "#train 10 epochs\n"
      ],
      "metadata": {
        "id": "o3R_uSGOimLq"
      },
      "execution_count": null,
      "outputs": []
    },
    {
      "cell_type": "code",
      "source": [
        "#look at first generated images\n"
      ],
      "metadata": {
        "id": "56DY_7vhmlX8"
      },
      "execution_count": null,
      "outputs": []
    },
    {
      "cell_type": "code",
      "source": [
        "#last iteration of generated images\n"
      ],
      "metadata": {
        "id": "NYP093DPx6He"
      },
      "execution_count": null,
      "outputs": []
    },
    {
      "cell_type": "markdown",
      "source": [
        "#### Pretrained Models in `torch.hub`"
      ],
      "metadata": {
        "id": "yxeGcHutAr0k"
      }
    },
    {
      "cell_type": "code",
      "source": [
        "model = torch.hub.load('ndahlquist/pytorch-hub-stylegan:0.0.1', 'style_gan', pretrained=True)"
      ],
      "metadata": {
        "id": "AgrtYBWF2z0j"
      },
      "execution_count": null,
      "outputs": []
    },
    {
      "cell_type": "code",
      "source": [
        "model.eval()\n",
        "device = 'cuda:0' if torch.cuda.is_available() else 'cpu'\n",
        "model.to(device)\n",
        "\n",
        "nb_rows = 4\n",
        "nb_cols = 4\n",
        "nb_samples = nb_rows * nb_cols\n",
        "latents = torch.randn(nb_samples, 512, device=device)\n",
        "with torch.no_grad():\n",
        "    imgs = model(latents)\n",
        "    # normalization to 0..1 range\n",
        "    imgs = (imgs.clamp(-1, 1) + 1) / 2.0\n",
        "imgs = imgs.cpu()\n",
        "\n",
        "imgs = torchvision.utils.make_grid(imgs, nrow=nb_cols)\n",
        "\n",
        "plt.figure(figsize=(20, 20))\n",
        "plt.imshow(imgs.permute(1, 2, 0).detach().numpy())"
      ],
      "metadata": {
        "id": "Q323Dng5Aw3o"
      },
      "execution_count": null,
      "outputs": []
    },
    {
      "cell_type": "markdown",
      "source": [
        "#### Streaming Audio"
      ],
      "metadata": {
        "id": "H4p5p9ZaCgXN"
      }
    },
    {
      "cell_type": "code",
      "source": [
        "from torchaudio.io import StreamReader\n",
        "from IPython.display import Audio"
      ],
      "metadata": {
        "id": "ea5iekeLCicq"
      },
      "execution_count": null,
      "outputs": []
    },
    {
      "cell_type": "code",
      "source": [
        "url = 'https://www.soundhelix.com/examples/mp3/SoundHelix-Song-1.mp3'"
      ],
      "metadata": {
        "id": "aTNFrFveCseD"
      },
      "execution_count": null,
      "outputs": []
    },
    {
      "cell_type": "code",
      "source": [
        "Audio(url)"
      ],
      "metadata": {
        "id": "RxBei5xkCmH4"
      },
      "execution_count": null,
      "outputs": []
    },
    {
      "cell_type": "code",
      "source": [
        "reader = StreamReader(src = url)"
      ],
      "metadata": {
        "id": "-kWEpNVnCmEO"
      },
      "execution_count": null,
      "outputs": []
    },
    {
      "cell_type": "code",
      "source": [
        "reader.get_src_stream_info(0)"
      ],
      "metadata": {
        "id": "JCxuMiShCmAT"
      },
      "execution_count": null,
      "outputs": []
    },
    {
      "cell_type": "code",
      "source": [
        "reader.add_basic_audio_stream(\n",
        "    frames_per_chunk=4000,\n",
        ")"
      ],
      "metadata": {
        "id": "1iVDKYc9Cl9K"
      },
      "execution_count": null,
      "outputs": []
    },
    {
      "cell_type": "code",
      "source": [
        "for i in range(reader.num_out_streams):\n",
        "  print(reader.get_out_stream_info(i))"
      ],
      "metadata": {
        "id": "VMa0yYNYClls"
      },
      "execution_count": null,
      "outputs": []
    },
    {
      "cell_type": "code",
      "source": [
        "n_ite = 1\n",
        "waveforms = []\n",
        "for chunk in reader.stream():\n",
        "  waveforms.append(chunk)"
      ],
      "metadata": {
        "id": "-t71x6E4C2AC"
      },
      "execution_count": null,
      "outputs": []
    },
    {
      "cell_type": "code",
      "source": [
        "plt.specgram(waveforms[0][0][:, 0], Fs = 4000);"
      ],
      "metadata": {
        "id": "Y-F6VIytC18F"
      },
      "execution_count": null,
      "outputs": []
    },
    {
      "cell_type": "code",
      "source": [
        "fig, ax = plt.subplots(5, 5, figsize = (10, 10))\n",
        "for i in range(5):\n",
        "  for j in range(5):\n",
        "    ax[i, j].specgram(waveforms[i][0][:, 0], Fs = 4000)"
      ],
      "metadata": {
        "id": "6Qi5V8JKC135"
      },
      "execution_count": null,
      "outputs": []
    },
    {
      "cell_type": "code",
      "source": [
        "fig, ax = plt.subplots(5, 5, figsize = (10, 10))\n",
        "for i in range(5):\n",
        "  for j in range(5):\n",
        "    ax[i, j].plot(waveforms[i][0][:, 0])"
      ],
      "metadata": {
        "id": "gcfvMgL7C1zW"
      },
      "execution_count": null,
      "outputs": []
    }
  ]
}