{
  "nbformat": 4,
  "nbformat_minor": 0,
  "metadata": {
    "colab": {
      "provenance": [],
      "include_colab_link": true
    },
    "kernelspec": {
      "name": "python3",
      "display_name": "Python 3"
    },
    "language_info": {
      "name": "python"
    }
  },
  "cells": [
    {
      "cell_type": "markdown",
      "metadata": {
        "id": "view-in-github",
        "colab_type": "text"
      },
      "source": [
        "<a href=\"https://colab.research.google.com/github/cyberone1812/CMUDeepLearning/blob/main/clean_dele_week9_cmu.ipynb\" target=\"_parent\"><img src=\"https://colab.research.google.com/assets/colab-badge.svg\" alt=\"Open In Colab\"/></a>"
      ]
    },
    {
      "cell_type": "markdown",
      "source": [
        "#### Week 9 CMU Deep Learning"
      ],
      "metadata": {
        "id": "WaJa3Y6gxqbi"
      }
    },
    {
      "cell_type": "markdown",
      "source": [
        "- [Example 1](https://sebastianraschka.com/blog/2023/self-attention-from-scratch.html)"
      ],
      "metadata": {
        "id": "8GXTNFj20i5E"
      }
    },
    {
      "cell_type": "code",
      "source": [
        "pip install datasets"
      ],
      "metadata": {
        "id": "5ZHh_anD7XlK",
        "colab": {
          "base_uri": "https://localhost:8080/"
        },
        "outputId": "74a96bc0-d556-4b0d-faaa-9adba3ce34f7"
      },
      "execution_count": null,
      "outputs": [
        {
          "output_type": "stream",
          "name": "stdout",
          "text": [
            "Installing collected packages: dill, multiprocess, datasets\n",
            "Successfully installed datasets-2.16.1 dill-0.3.7 multiprocess-0.70.15\n"
          ]
        }
      ]
    },
    {
      "cell_type": "code",
      "source": [
        "import torch\n",
        "import torch.nn as nn"
      ],
      "metadata": {
        "id": "Oa0iqNUJ0IY2"
      },
      "execution_count": null,
      "outputs": []
    },
    {
      "cell_type": "code",
      "source": [
        "#attention\n",
        "sentence = \"Alice went down the rabbit hole.\""
      ],
      "metadata": {
        "id": "i56_65dfxyHj"
      },
      "execution_count": null,
      "outputs": []
    },
    {
      "cell_type": "code",
      "source": [
        "sentence.split()"
      ],
      "metadata": {
        "colab": {
          "base_uri": "https://localhost:8080/"
        },
        "id": "aeYTFTpmD1Yo",
        "outputId": "efe22867-47a4-4c93-a886-b28034899e9b"
      },
      "execution_count": null,
      "outputs": [
        {
          "output_type": "execute_result",
          "data": {
            "text/plain": [
              "['Alice', 'went', 'down', 'the', 'rabbit', 'hole.']"
            ]
          },
          "metadata": {},
          "execution_count": 4
        }
      ]
    },
    {
      "cell_type": "code",
      "source": [
        "dc = {w:i for i, w in enumerate(sorted(sentence.split()))}"
      ],
      "metadata": {
        "id": "xaoqifrZ0fLz"
      },
      "execution_count": null,
      "outputs": []
    },
    {
      "cell_type": "code",
      "source": [
        "dc"
      ],
      "metadata": {
        "id": "jRCisxYc0sQx",
        "colab": {
          "base_uri": "https://localhost:8080/"
        },
        "outputId": "1dd61fcd-cedc-416f-f76d-6352ed164c07"
      },
      "execution_count": null,
      "outputs": [
        {
          "output_type": "execute_result",
          "data": {
            "text/plain": [
              "{'Alice': 0, 'down': 1, 'hole.': 2, 'rabbit': 3, 'the': 4, 'went': 5}"
            ]
          },
          "metadata": {},
          "execution_count": 11
        }
      ]
    },
    {
      "cell_type": "code",
      "source": [
        "dc['Alice']"
      ],
      "metadata": {
        "id": "QRzyfE920gTI",
        "colab": {
          "base_uri": "https://localhost:8080/"
        },
        "outputId": "06473ad7-8bf8-4306-9cb9-c85271b67845"
      },
      "execution_count": null,
      "outputs": [
        {
          "output_type": "execute_result",
          "data": {
            "text/plain": [
              "0"
            ]
          },
          "metadata": {},
          "execution_count": 12
        }
      ]
    },
    {
      "cell_type": "code",
      "source": [
        "[dc[i] for i in sentence.split()]"
      ],
      "metadata": {
        "colab": {
          "base_uri": "https://localhost:8080/"
        },
        "id": "sJnuh-LU0gP6",
        "outputId": "109b0764-6848-493f-8c50-1b60ae0c8b85"
      },
      "execution_count": null,
      "outputs": [
        {
          "output_type": "execute_result",
          "data": {
            "text/plain": [
              "[0, 5, 1, 4, 3, 2]"
            ]
          },
          "metadata": {},
          "execution_count": 13
        }
      ]
    },
    {
      "cell_type": "code",
      "source": [
        "num_sentence = torch.tensor([dc[i] for i in sentence.split()])"
      ],
      "metadata": {
        "id": "x7eJ0y76066Q"
      },
      "execution_count": null,
      "outputs": []
    },
    {
      "cell_type": "code",
      "source": [
        "num_sentence"
      ],
      "metadata": {
        "colab": {
          "base_uri": "https://localhost:8080/"
        },
        "id": "96tcfkYc1FET",
        "outputId": "0f00fa2d-7847-440d-e50d-f5fcf39ef983"
      },
      "execution_count": null,
      "outputs": [
        {
          "output_type": "execute_result",
          "data": {
            "text/plain": [
              "tensor([0, 5, 1, 4, 3, 2])"
            ]
          },
          "metadata": {},
          "execution_count": 15
        }
      ]
    },
    {
      "cell_type": "code",
      "source": [
        "embedding_layer = nn.Embedding(len(num_sentence), 5)"
      ],
      "metadata": {
        "id": "1hqxZ_cW1FBn"
      },
      "execution_count": null,
      "outputs": []
    },
    {
      "cell_type": "code",
      "source": [
        "embedding_layer(num_sentence)"
      ],
      "metadata": {
        "id": "wn-HdqDM1aon",
        "colab": {
          "base_uri": "https://localhost:8080/"
        },
        "outputId": "6e1bff5b-b21c-45e8-d28c-2500b52cdcc6"
      },
      "execution_count": null,
      "outputs": [
        {
          "output_type": "execute_result",
          "data": {
            "text/plain": [
              "tensor([[ 0.6941,  0.2592,  1.4015, -0.8204, -0.7528],\n",
              "        [-0.2364,  0.6361, -1.5011, -0.6235, -0.4114],\n",
              "        [-0.3128,  0.4857,  0.3493, -0.7419, -1.3527],\n",
              "        [ 0.4443, -0.4584,  1.7657,  0.7634,  0.4649],\n",
              "        [-0.6630, -0.3596, -1.5551, -0.6986,  1.7498],\n",
              "        [-0.6778, -0.1350, -2.2429,  1.2849,  0.2349]],\n",
              "       grad_fn=<EmbeddingBackward0>)"
            ]
          },
          "metadata": {},
          "execution_count": 27
        }
      ]
    },
    {
      "cell_type": "code",
      "source": [
        "embedded_sentence = embedding_layer(num_sentence)"
      ],
      "metadata": {
        "id": "FufQ_pU6GNZs"
      },
      "execution_count": null,
      "outputs": []
    },
    {
      "cell_type": "code",
      "source": [
        "d_q, d_k, d_v = 4, 4, 6"
      ],
      "metadata": {
        "id": "uCjjYvF81E-7"
      },
      "execution_count": null,
      "outputs": []
    },
    {
      "cell_type": "code",
      "source": [
        "d = 5 #num columns in embeddings"
      ],
      "metadata": {
        "id": "tGvzCin5GUks"
      },
      "execution_count": null,
      "outputs": []
    },
    {
      "cell_type": "code",
      "source": [
        "Wq = nn.Parameter(torch.rand(d_q, d))\n",
        "Wk = nn.Parameter(torch.rand(d_k, d))\n",
        "Wv = nn.Parameter(torch.rand(d_v, d))"
      ],
      "metadata": {
        "id": "31DmMT3C1E8V"
      },
      "execution_count": null,
      "outputs": []
    },
    {
      "cell_type": "code",
      "source": [
        "x_1 = embedded_sentence[0]"
      ],
      "metadata": {
        "id": "ewb6j1fx1E47"
      },
      "execution_count": null,
      "outputs": []
    },
    {
      "cell_type": "code",
      "source": [
        "x_1"
      ],
      "metadata": {
        "colab": {
          "base_uri": "https://localhost:8080/"
        },
        "id": "nJfGeheS1E2m",
        "outputId": "941f4f02-29d4-498c-ebec-ea200da1be86"
      },
      "execution_count": null,
      "outputs": [
        {
          "output_type": "execute_result",
          "data": {
            "text/plain": [
              "tensor([ 0.6941,  0.2592,  1.4015, -0.8204, -0.7528],\n",
              "       grad_fn=<SelectBackward0>)"
            ]
          },
          "metadata": {},
          "execution_count": 36
        }
      ]
    },
    {
      "cell_type": "code",
      "source": [
        "Wq.matmul(x_1)"
      ],
      "metadata": {
        "colab": {
          "base_uri": "https://localhost:8080/"
        },
        "id": "p69xFXoC1Eoy",
        "outputId": "a2d941b2-640c-421c-a820-a2532ddcb6c3"
      },
      "execution_count": null,
      "outputs": [
        {
          "output_type": "execute_result",
          "data": {
            "text/plain": [
              "tensor([0.3621, 0.6564, 0.5727, 0.7489], grad_fn=<MvBackward0>)"
            ]
          },
          "metadata": {},
          "execution_count": 37
        }
      ]
    },
    {
      "cell_type": "code",
      "source": [
        "keys = Wk.matmul(embedded_sentence.T).T\n",
        "values = Wv.matmul(embedded_sentence.T).T"
      ],
      "metadata": {
        "id": "Jr7n7bB9G4d2"
      },
      "execution_count": null,
      "outputs": []
    },
    {
      "cell_type": "code",
      "source": [
        "keys.shape"
      ],
      "metadata": {
        "id": "vrx8LIwC1Elg",
        "colab": {
          "base_uri": "https://localhost:8080/"
        },
        "outputId": "d4e2ed24-05c6-41e2-9789-9b3478eaa5b2"
      },
      "execution_count": null,
      "outputs": [
        {
          "output_type": "execute_result",
          "data": {
            "text/plain": [
              "torch.Size([6, 4])"
            ]
          },
          "metadata": {},
          "execution_count": 39
        }
      ]
    },
    {
      "cell_type": "code",
      "source": [
        "values.shape"
      ],
      "metadata": {
        "colab": {
          "base_uri": "https://localhost:8080/"
        },
        "id": "P-Jzs2WgHKuV",
        "outputId": "5b3c5ad6-2d4f-47b1-c0f8-1399459885bd"
      },
      "execution_count": null,
      "outputs": [
        {
          "output_type": "execute_result",
          "data": {
            "text/plain": [
              "torch.Size([6, 6])"
            ]
          },
          "metadata": {},
          "execution_count": 40
        }
      ]
    },
    {
      "cell_type": "code",
      "source": [
        "#apply to one input vector\n",
        "q1 = Wq.matmul(x_1)\n",
        "k1 = Wk.matmul(x_1)\n",
        "v1 = Wv.matmul(x_1)"
      ],
      "metadata": {
        "id": "AUz-7ORn1Eh_"
      },
      "execution_count": null,
      "outputs": []
    },
    {
      "cell_type": "code",
      "source": [
        "#apply to all inputs\n",
        "omega_1 = q1.matmul(keys.T)"
      ],
      "metadata": {
        "id": "EHLiRY-Z1Ed9"
      },
      "execution_count": null,
      "outputs": []
    },
    {
      "cell_type": "code",
      "source": [
        "omega_1"
      ],
      "metadata": {
        "id": "tgNuTHxe2tnA",
        "colab": {
          "base_uri": "https://localhost:8080/"
        },
        "outputId": "35ab3fbc-0d0a-43d5-c875-d582034f0681"
      },
      "execution_count": null,
      "outputs": [
        {
          "output_type": "execute_result",
          "data": {
            "text/plain": [
              "tensor([ 1.0153, -2.4124, -1.9498,  3.4301, -2.0831, -1.6585],\n",
              "       grad_fn=<SqueezeBackward4>)"
            ]
          },
          "metadata": {},
          "execution_count": 45
        }
      ]
    },
    {
      "cell_type": "code",
      "source": [],
      "metadata": {
        "id": "SV-4Nf2a2tk6"
      },
      "execution_count": null,
      "outputs": []
    },
    {
      "cell_type": "markdown",
      "source": [
        "Attention scores:\n",
        "\n",
        "$$\\alpha_{1, i} = \\text{softmax}\\big(\\frac{w_{1, i}}{\\sqrt{d_k}})$$"
      ],
      "metadata": {
        "id": "e3UuWoBn298w"
      }
    },
    {
      "cell_type": "code",
      "source": [
        "softmax = nn.Softmax(dim = 0)"
      ],
      "metadata": {
        "id": "vdGxET6g2tio"
      },
      "execution_count": null,
      "outputs": []
    },
    {
      "cell_type": "code",
      "source": [
        "attention_weights = softmax(omega_1/torch.sqrt(torch.tensor(d_k)))"
      ],
      "metadata": {
        "id": "CF96AX6I2tfq"
      },
      "execution_count": null,
      "outputs": []
    },
    {
      "cell_type": "code",
      "source": [
        "attention_weights.shape"
      ],
      "metadata": {
        "id": "kwrWi8EJ2tcT",
        "colab": {
          "base_uri": "https://localhost:8080/"
        },
        "outputId": "cb97a5cd-f36d-456c-c0de-aaf86af3ecdc"
      },
      "execution_count": null,
      "outputs": [
        {
          "output_type": "execute_result",
          "data": {
            "text/plain": [
              "torch.Size([6])"
            ]
          },
          "metadata": {},
          "execution_count": 52
        }
      ]
    },
    {
      "cell_type": "code",
      "source": [
        "context_vector = attention_weights.matmul(values)"
      ],
      "metadata": {
        "id": "O1WK26iJ4AJh"
      },
      "execution_count": null,
      "outputs": []
    },
    {
      "cell_type": "code",
      "source": [],
      "metadata": {
        "id": "n9J-Gtuv4AGv"
      },
      "execution_count": null,
      "outputs": []
    },
    {
      "cell_type": "code",
      "source": [
        "context_vector.shape"
      ],
      "metadata": {
        "colab": {
          "base_uri": "https://localhost:8080/"
        },
        "id": "kR8BaaPo4ADy",
        "outputId": "0897a175-47c9-4b97-83b7-970f12d3638d"
      },
      "execution_count": null,
      "outputs": [
        {
          "output_type": "execute_result",
          "data": {
            "text/plain": [
              "torch.Size([6])"
            ]
          },
          "metadata": {},
          "execution_count": 54
        }
      ]
    },
    {
      "cell_type": "code",
      "source": [],
      "metadata": {
        "id": "TFQZ1tgq4AAv"
      },
      "execution_count": null,
      "outputs": []
    },
    {
      "cell_type": "code",
      "source": [],
      "metadata": {
        "id": "hk7QXL1v3_8_"
      },
      "execution_count": null,
      "outputs": []
    },
    {
      "cell_type": "markdown",
      "source": [
        "#### Huggingface"
      ],
      "metadata": {
        "id": "Ama8f72h47ME"
      }
    },
    {
      "cell_type": "code",
      "source": [
        "from transformers import pipeline"
      ],
      "metadata": {
        "id": "lKmhZzpb49Zf"
      },
      "execution_count": null,
      "outputs": []
    },
    {
      "cell_type": "code",
      "source": [
        "#transformer\n",
        "speech_to_text = pipeline(task = \"automatic-speech-recognition\")"
      ],
      "metadata": {
        "id": "HDCw7xWWxzfX"
      },
      "execution_count": null,
      "outputs": []
    },
    {
      "cell_type": "code",
      "source": [
        "data = 'https://huggingface.co/datasets/Narsil/asr_dummy/resolve/main/mlk.flac'"
      ],
      "metadata": {
        "id": "hu9j2yI77lXN"
      },
      "execution_count": null,
      "outputs": []
    },
    {
      "cell_type": "code",
      "source": [
        "#pretrained\n",
        "speech_to_text(data)"
      ],
      "metadata": {
        "id": "QnXrasUjx0kW"
      },
      "execution_count": null,
      "outputs": []
    },
    {
      "cell_type": "code",
      "source": [
        "#huggingface or spacy\n",
        "data = 'https://huggingface.co/datasets/Narsil/asr_dummy/resolve/main/1.flac'"
      ],
      "metadata": {
        "id": "IXh-2Qwex1r8"
      },
      "execution_count": null,
      "outputs": []
    },
    {
      "cell_type": "code",
      "source": [
        "speech_to_text(data)"
      ],
      "metadata": {
        "id": "dYaoqntRx310"
      },
      "execution_count": null,
      "outputs": []
    },
    {
      "cell_type": "code",
      "source": [
        "from IPython.display import Audio"
      ],
      "metadata": {
        "id": "ZrTZEdYS7yWN"
      },
      "execution_count": null,
      "outputs": []
    },
    {
      "cell_type": "code",
      "source": [
        "Audio(data)"
      ],
      "metadata": {
        "id": "uNoPYKe478Uk"
      },
      "execution_count": null,
      "outputs": []
    },
    {
      "cell_type": "code",
      "source": [
        "dataset = load_dataset(\n",
        "    \"hf-internal-testing/librispeech_asr_dummy\", \"clean\", split=\"validation\"\n",
        ")\n",
        "dataset"
      ],
      "metadata": {
        "id": "7wwWNn7a79ZC"
      },
      "execution_count": null,
      "outputs": []
    },
    {
      "cell_type": "code",
      "source": [
        "dataset[0]['audio']"
      ],
      "metadata": {
        "id": "C5jhiS1y9sOd"
      },
      "execution_count": null,
      "outputs": []
    },
    {
      "cell_type": "code",
      "source": [
        "Audio(dataset[0]['audio']['array'], rate = dataset[0]['audio']['sampling_rate'])"
      ],
      "metadata": {
        "id": "p4uuQoMg9hCc"
      },
      "execution_count": null,
      "outputs": []
    },
    {
      "cell_type": "code",
      "source": [
        "pipe2 = pipeline(\"automatic-speech-recognition\", model=\"facebook/wav2vec2-base-100h\")"
      ],
      "metadata": {
        "id": "XsCNz9ET9kOF"
      },
      "execution_count": null,
      "outputs": []
    },
    {
      "cell_type": "code",
      "source": [
        "speech_to_text(dataset[1]['audio'])"
      ],
      "metadata": {
        "id": "VwqEit6g95av"
      },
      "execution_count": null,
      "outputs": []
    },
    {
      "cell_type": "code",
      "source": [
        "pipe2(dataset[1]['audio'])"
      ],
      "metadata": {
        "id": "yH26dJ4o-Aq-"
      },
      "execution_count": null,
      "outputs": []
    },
    {
      "cell_type": "code",
      "source": [],
      "metadata": {
        "id": "5ee0wHpm-IpQ"
      },
      "execution_count": null,
      "outputs": []
    }
  ]
}